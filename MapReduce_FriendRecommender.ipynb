{
  "nbformat": 4,
  "nbformat_minor": 0,
  "metadata": {
    "colab": {
      "provenance": [],
      "authorship_tag": "ABX9TyNIat+OoZiu45VV82ezOC0E",
      "include_colab_link": true
    },
    "kernelspec": {
      "name": "python3",
      "display_name": "Python 3"
    },
    "language_info": {
      "name": "python"
    }
  },
  "cells": [
    {
      "cell_type": "markdown",
      "metadata": {
        "id": "view-in-github",
        "colab_type": "text"
      },
      "source": [
        "<a href=\"https://colab.research.google.com/github/sridhartroy/AIML/blob/main/MapReduce_FriendRecommender.ipynb\" target=\"_parent\"><img src=\"https://colab.research.google.com/assets/colab-badge.svg\" alt=\"Open In Colab\"/></a>"
      ]
    },
    {
      "cell_type": "code",
      "execution_count": 1,
      "metadata": {
        "colab": {
          "base_uri": "https://localhost:8080/"
        },
        "id": "tyN7JHEOltVf",
        "outputId": "dbffb4d0-0ef0-4dbb-f82a-7c704f1623cb"
      },
      "outputs": [
        {
          "output_type": "stream",
          "name": "stdout",
          "text": [
            "Collecting pyspark==3.5.6\n",
            "  Downloading pyspark-3.5.6.tar.gz (317.4 MB)\n",
            "\u001b[2K     \u001b[90m━━━━━━━━━━━━━━━━━━━━━━━━━━━━━━━━━━━━━━━\u001b[0m \u001b[32m317.4/317.4 MB\u001b[0m \u001b[31m4.2 MB/s\u001b[0m eta \u001b[36m0:00:00\u001b[0m\n",
            "\u001b[?25h  Preparing metadata (setup.py) ... \u001b[?25l\u001b[?25hdone\n",
            "Requirement already satisfied: py4j==0.10.9.7 in /usr/local/lib/python3.12/dist-packages (from pyspark==3.5.6) (0.10.9.7)\n",
            "Building wheels for collected packages: pyspark\n",
            "  Building wheel for pyspark (setup.py) ... \u001b[?25l\u001b[?25hdone\n",
            "  Created wheel for pyspark: filename=pyspark-3.5.6-py2.py3-none-any.whl size=317895798 sha256=f5426a2c9ce7578bb47deec121fe18d4ece9204a5688ded0813d6ea98af5301e\n",
            "  Stored in directory: /root/.cache/pip/wheels/64/62/f3/ec15656ea4ada0523cae62a1827fe7beb55d3c8c87174aad4a\n",
            "Successfully built pyspark\n",
            "Installing collected packages: pyspark\n",
            "  Attempting uninstall: pyspark\n",
            "    Found existing installation: pyspark 3.5.1\n",
            "    Uninstalling pyspark-3.5.1:\n",
            "      Successfully uninstalled pyspark-3.5.1\n",
            "Successfully installed pyspark-3.5.6\n"
          ]
        }
      ],
      "source": [
        "!pip install pyspark==3.5.6"
      ]
    },
    {
      "cell_type": "code",
      "source": [
        "from pyspark.sql import SparkSession\n",
        "# Initialize Spark session\n",
        "spark = SparkSession.builder \\\n",
        "    .appName(\"MapReduce-FriendRecommender\") \\\n",
        "    .getOrCreate()\n",
        "\n",
        "sc = spark.sparkContext"
      ],
      "metadata": {
        "id": "WhfNGBo3l6nl"
      },
      "execution_count": 2,
      "outputs": []
    },
    {
      "cell_type": "code",
      "source": [
        "!wget https://an-ml.s3.us-west-1.amazonaws.com/soc-LiveJournal1Adj.txt"
      ],
      "metadata": {
        "colab": {
          "base_uri": "https://localhost:8080/"
        },
        "id": "Vb8WY5h9maVZ",
        "outputId": "196cfde2-1c2b-477f-a814-65348b1f29d5"
      },
      "execution_count": 3,
      "outputs": [
        {
          "output_type": "stream",
          "name": "stdout",
          "text": [
            "--2025-10-19 18:21:31--  https://an-ml.s3.us-west-1.amazonaws.com/soc-LiveJournal1Adj.txt\n",
            "Resolving an-ml.s3.us-west-1.amazonaws.com (an-ml.s3.us-west-1.amazonaws.com)... 16.15.4.218, 16.15.4.168, 16.15.0.105, ...\n",
            "Connecting to an-ml.s3.us-west-1.amazonaws.com (an-ml.s3.us-west-1.amazonaws.com)|16.15.4.218|:443... connected.\n",
            "HTTP request sent, awaiting response... 200 OK\n",
            "Length: 4156181 (4.0M) [text/plain]\n",
            "Saving to: ‘soc-LiveJournal1Adj.txt’\n",
            "\n",
            "soc-LiveJournal1Adj 100%[===================>]   3.96M  8.20MB/s    in 0.5s    \n",
            "\n",
            "2025-10-19 18:21:32 (8.20 MB/s) - ‘soc-LiveJournal1Adj.txt’ saved [4156181/4156181]\n",
            "\n"
          ]
        }
      ]
    },
    {
      "cell_type": "code",
      "source": [
        "friends = sc.textFile(\"soc-LiveJournal1Adj.txt\")"
      ],
      "metadata": {
        "id": "J6Rq6yOwmZ70"
      },
      "execution_count": 4,
      "outputs": []
    },
    {
      "cell_type": "code",
      "source": [
        "# Tiny example\n",
        "\n",
        "lines = sc.parallelize([\n",
        "    \"1\\t2,3,4,5\",\n",
        "    \"2\\t1,3,5,6\",\n",
        "    \"3\\t1,2,4,6\",\n",
        "    \"4\\t1,3,5\",\n",
        "    \"5\\t,1,2,4,6\",\n",
        "  ])\n"
      ],
      "metadata": {
        "id": "grWUU8K5m3HP"
      },
      "execution_count": 5,
      "outputs": []
    },
    {
      "cell_type": "code",
      "source": [
        "lines.take(3)"
      ],
      "metadata": {
        "colab": {
          "base_uri": "https://localhost:8080/"
        },
        "id": "lDaF7Tmloo5C",
        "outputId": "fe068fd7-2d2b-44de-fdd3-ba66fbbb325b"
      },
      "execution_count": 6,
      "outputs": [
        {
          "output_type": "execute_result",
          "data": {
            "text/plain": [
              "['1\\t2,3,4,5', '2\\t1,3,5,6', '3\\t1,2,4,6']"
            ]
          },
          "metadata": {},
          "execution_count": 6
        }
      ]
    },
    {
      "cell_type": "code",
      "source": [
        "# parse the file\n",
        "\n",
        "def parse_line(line):\n",
        "    parts = line.split(\"\\t\")\n",
        "    #print(len(parts))\n",
        "    user = parts[0]\n",
        "    friends = parts[1].split(\",\") if len(parts) > 1 and parts[1] else []\n",
        "    friends = [f for f in friends if f and f != user]  # drop empties/self\n",
        "    return (user, friends)"
      ],
      "metadata": {
        "id": "2VMFisy8o6J6"
      },
      "execution_count": 7,
      "outputs": []
    },
    {
      "cell_type": "code",
      "source": [
        "print(\"STEP 0 - Original List:\")\n",
        "print(lines.collect())\n",
        "\n",
        "adj = lines.map(parse_line).cache()\n",
        "print(\"STEP 1 — parsed adjacency:\")\n",
        "for x in adj.collect(): print(x)"
      ],
      "metadata": {
        "colab": {
          "base_uri": "https://localhost:8080/"
        },
        "id": "vap5BAi6s_Dw",
        "outputId": "52a313fd-1ef3-4476-f20d-3b16be8068f2"
      },
      "execution_count": 8,
      "outputs": [
        {
          "output_type": "stream",
          "name": "stdout",
          "text": [
            "STEP 0 - Original List:\n",
            "['1\\t2,3,4,5', '2\\t1,3,5,6', '3\\t1,2,4,6', '4\\t1,3,5', '5\\t,1,2,4,6']\n",
            "STEP 1 — parsed adjacency:\n",
            "('1', ['2', '3', '4', '5'])\n",
            "('2', ['1', '3', '5', '6'])\n",
            "('3', ['1', '2', '4', '6'])\n",
            "('4', ['1', '3', '5'])\n",
            "('5', ['1', '2', '4', '6'])\n"
          ]
        }
      ]
    },
    {
      "cell_type": "code",
      "source": [
        "inv = adj.flatMap(lambda uf: [(f, uf[0]) for f in uf[1]])\n",
        "inv_grouped = inv.groupByKey().mapValues(lambda vals: sorted(set(vals))).cache()\n",
        "#print(inv.take(20))\n",
        "#print(inv.groupByKey().take(20))\n",
        "#print(inv_grouped.take(20))\n",
        "\n",
        "#print(inv_grouped.sortByKey(ascending=True).take(20))\n",
        "\n",
        "inv_grouped = inv_grouped.sortByKey(ascending=True)\n",
        "\n",
        "print(inv_grouped.take(20))\n",
        "\n",
        "print(\"\\nSTEP 2 — inverted index:\")\n",
        "for f, users in inv_grouped.collect(): print(f, \":\", users)\n"
      ],
      "metadata": {
        "colab": {
          "base_uri": "https://localhost:8080/"
        },
        "id": "gwLrrcCCt2-O",
        "outputId": "470fa783-9170-4218-841e-dc56d833f0ab"
      },
      "execution_count": 15,
      "outputs": [
        {
          "output_type": "stream",
          "name": "stdout",
          "text": [
            "[('1', ['2', '3', '4', '5']), ('2', ['1', '3', '5']), ('3', ['1', '2', '4']), ('4', ['1', '3', '5']), ('5', ['1', '2', '4']), ('6', ['2', '3', '5'])]\n",
            "\n",
            "STEP 2 — inverted index:\n",
            "1 : ['2', '3', '4', '5']\n",
            "2 : ['1', '3', '5']\n",
            "3 : ['1', '2', '4']\n",
            "4 : ['1', '3', '5']\n",
            "5 : ['1', '2', '4']\n",
            "6 : ['2', '3', '5']\n"
          ]
        }
      ]
    },
    {
      "cell_type": "code",
      "source": [
        "from itertools import combinations"
      ],
      "metadata": {
        "id": "0qWjQ_z9Ccmt"
      },
      "execution_count": 16,
      "outputs": []
    },
    {
      "cell_type": "code",
      "source": [
        "# Emit all unordered user pairs per friend (+1 each)\n",
        "\n",
        "pairs_by_dim = inv_grouped.flatMap(\n",
        "    lambda fv: [((a, b), 1) for a, b in combinations(fv[1], 2)]\n",
        ").cache()\n",
        "\n",
        "print(\"\\nSTEP 3 — pair contributions (+1 per shared friend):\")\n",
        "for p in pairs_by_dim.collect(): print(p)"
      ],
      "metadata": {
        "colab": {
          "base_uri": "https://localhost:8080/"
        },
        "id": "dAxAn3NKCiXL",
        "outputId": "ba9368a6-636b-47d4-c5ca-bce9b79d7ed1"
      },
      "execution_count": 17,
      "outputs": [
        {
          "output_type": "stream",
          "name": "stdout",
          "text": [
            "\n",
            "STEP 3 — pair contributions (+1 per shared friend):\n",
            "(('2', '3'), 1)\n",
            "(('2', '4'), 1)\n",
            "(('2', '5'), 1)\n",
            "(('3', '4'), 1)\n",
            "(('3', '5'), 1)\n",
            "(('4', '5'), 1)\n",
            "(('1', '3'), 1)\n",
            "(('1', '5'), 1)\n",
            "(('3', '5'), 1)\n",
            "(('1', '2'), 1)\n",
            "(('1', '4'), 1)\n",
            "(('2', '4'), 1)\n",
            "(('1', '3'), 1)\n",
            "(('1', '5'), 1)\n",
            "(('3', '5'), 1)\n",
            "(('1', '2'), 1)\n",
            "(('1', '4'), 1)\n",
            "(('2', '4'), 1)\n",
            "(('2', '3'), 1)\n",
            "(('2', '5'), 1)\n",
            "(('3', '5'), 1)\n"
          ]
        }
      ]
    },
    {
      "cell_type": "code",
      "source": [
        "# 4) Sum contributions (this is the sparse dot-product)\n",
        "\n",
        "mutual_counts = pairs_by_dim.reduceByKey(lambda a, b: a + b).sortByKey(ascending=True).cache()\n",
        "print(mutual_counts.take(20))\n",
        "\n",
        "print(\"\\nSTEP 4 — mutual friend counts:\")\n",
        "for pair, cnt in mutual_counts.collect(): print(pair, \":\", cnt)"
      ],
      "metadata": {
        "colab": {
          "base_uri": "https://localhost:8080/"
        },
        "id": "ByyrcDfBEKjJ",
        "outputId": "38f148b0-9bc9-4637-8c5f-f681b20ee9f0"
      },
      "execution_count": 20,
      "outputs": [
        {
          "output_type": "stream",
          "name": "stdout",
          "text": [
            "[(('1', '2'), 2), (('1', '3'), 2), (('1', '4'), 2), (('1', '5'), 2), (('2', '3'), 2), (('2', '4'), 3), (('2', '5'), 2), (('3', '4'), 1), (('3', '5'), 4), (('4', '5'), 1)]\n",
            "\n",
            "STEP 4 — mutual friend counts:\n",
            "('1', '2') : 2\n",
            "('1', '3') : 2\n",
            "('1', '4') : 2\n",
            "('1', '5') : 2\n",
            "('2', '3') : 2\n",
            "('2', '4') : 3\n",
            "('2', '5') : 2\n",
            "('3', '4') : 1\n",
            "('3', '5') : 4\n",
            "('4', '5') : 1\n"
          ]
        }
      ]
    },
    {
      "cell_type": "code",
      "source": [
        "# Existing friends and remove\n",
        "\n",
        "#print first the adjacency list\n",
        "print(adj.take(20))\n",
        "\n",
        "edges_unordered = (adj\n",
        "    .flatMap(lambda uf: [tuple(sorted((uf[0], f))) for f in uf[1]])\n",
        "    .distinct()\n",
        "    .collect()\n",
        ")\n",
        "b_edges = sc.broadcast(set(edges_unordered))\n",
        "\n",
        "nonfriends = mutual_counts.filter(lambda kv: kv[0] not in b_edges.value).cache()\n",
        "\n",
        "print(\"\\nSTEP 5 — non-friend candidate pairs (score = mutuals):\")\n",
        "for p in nonfriends.collect(): print(p)"
      ],
      "metadata": {
        "colab": {
          "base_uri": "https://localhost:8080/"
        },
        "id": "t_0nbphqE9YZ",
        "outputId": "e9beeccb-44ca-4b4a-fa98-4e317681801a"
      },
      "execution_count": 21,
      "outputs": [
        {
          "output_type": "stream",
          "name": "stdout",
          "text": [
            "[('1', ['2', '3', '4', '5']), ('2', ['1', '3', '5', '6']), ('3', ['1', '2', '4', '6']), ('4', ['1', '3', '5']), ('5', ['1', '2', '4', '6'])]\n",
            "\n",
            "STEP 5 — non-friend candidate pairs (score = mutuals):\n",
            "(('2', '4'), 3)\n",
            "(('3', '5'), 4)\n"
          ]
        }
      ]
    },
    {
      "cell_type": "code",
      "source": [
        "l=lines.map(lambda x:x.split(\"\\t\")).take(1)\n",
        "l"
      ],
      "metadata": {
        "colab": {
          "base_uri": "https://localhost:8080/"
        },
        "id": "imJBS3zipIzU",
        "outputId": "9ef8fc26-98f0-4fc7-a735-e5cde952044f"
      },
      "execution_count": 17,
      "outputs": [
        {
          "output_type": "execute_result",
          "data": {
            "text/plain": [
              "[['1', '2,3,4,5']]"
            ]
          },
          "metadata": {},
          "execution_count": 17
        }
      ]
    },
    {
      "cell_type": "code",
      "source": [
        "l[0][1]"
      ],
      "metadata": {
        "colab": {
          "base_uri": "https://localhost:8080/",
          "height": 36
        },
        "id": "d8-1DG1SpIDr",
        "outputId": "c4b85dda-625f-47ac-fe80-3f9729ef42db"
      },
      "execution_count": 21,
      "outputs": [
        {
          "output_type": "execute_result",
          "data": {
            "text/plain": [
              "'2,3,4,5'"
            ],
            "application/vnd.google.colaboratory.intrinsic+json": {
              "type": "string"
            }
          },
          "metadata": {},
          "execution_count": 21
        }
      ]
    },
    {
      "cell_type": "code",
      "source": [],
      "metadata": {
        "id": "QxVyeylzs4cK"
      },
      "execution_count": null,
      "outputs": []
    }
  ]
}