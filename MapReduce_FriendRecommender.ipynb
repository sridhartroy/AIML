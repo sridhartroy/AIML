{
  "nbformat": 4,
  "nbformat_minor": 0,
  "metadata": {
    "colab": {
      "provenance": [],
      "authorship_tag": "ABX9TyML5D76bUfvie/6CEZ++C5o",
      "include_colab_link": true
    },
    "kernelspec": {
      "name": "python3",
      "display_name": "Python 3"
    },
    "language_info": {
      "name": "python"
    }
  },
  "cells": [
    {
      "cell_type": "markdown",
      "metadata": {
        "id": "view-in-github",
        "colab_type": "text"
      },
      "source": [
        "<a href=\"https://colab.research.google.com/github/sridhartroy/AIML/blob/main/MapReduce_FriendRecommender.ipynb\" target=\"_parent\"><img src=\"https://colab.research.google.com/assets/colab-badge.svg\" alt=\"Open In Colab\"/></a>"
      ]
    },
    {
      "cell_type": "code",
      "execution_count": 1,
      "metadata": {
        "colab": {
          "base_uri": "https://localhost:8080/"
        },
        "id": "tyN7JHEOltVf",
        "outputId": "084cf67f-dc23-49c0-f3e4-522ccbc1948a"
      },
      "outputs": [
        {
          "output_type": "stream",
          "name": "stdout",
          "text": [
            "Collecting pyspark==3.5.6\n",
            "  Downloading pyspark-3.5.6.tar.gz (317.4 MB)\n",
            "\u001b[2K     \u001b[90m━━━━━━━━━━━━━━━━━━━━━━━━━━━━━━━━━━━━━━━\u001b[0m \u001b[32m317.4/317.4 MB\u001b[0m \u001b[31m4.9 MB/s\u001b[0m eta \u001b[36m0:00:00\u001b[0m\n",
            "\u001b[?25h  Preparing metadata (setup.py) ... \u001b[?25l\u001b[?25hdone\n",
            "Requirement already satisfied: py4j==0.10.9.7 in /usr/local/lib/python3.12/dist-packages (from pyspark==3.5.6) (0.10.9.7)\n",
            "Building wheels for collected packages: pyspark\n",
            "  Building wheel for pyspark (setup.py) ... \u001b[?25l\u001b[?25hdone\n",
            "  Created wheel for pyspark: filename=pyspark-3.5.6-py2.py3-none-any.whl size=317895798 sha256=ac5f68b4d4de7254624b9316ff2ced367e3e09a06c5b64d52516f0fd0828e29e\n",
            "  Stored in directory: /root/.cache/pip/wheels/64/62/f3/ec15656ea4ada0523cae62a1827fe7beb55d3c8c87174aad4a\n",
            "Successfully built pyspark\n",
            "Installing collected packages: pyspark\n",
            "  Attempting uninstall: pyspark\n",
            "    Found existing installation: pyspark 3.5.1\n",
            "    Uninstalling pyspark-3.5.1:\n",
            "      Successfully uninstalled pyspark-3.5.1\n",
            "Successfully installed pyspark-3.5.6\n"
          ]
        }
      ],
      "source": [
        "!pip install pyspark==3.5.6"
      ]
    },
    {
      "cell_type": "code",
      "source": [
        "from pyspark.sql import SparkSession\n",
        "# Initialize Spark session\n",
        "spark = SparkSession.builder \\\n",
        "    .appName(\"MapReduce-FriendRecommender\") \\\n",
        "    .getOrCreate()\n",
        "\n",
        "sc = spark.sparkContext"
      ],
      "metadata": {
        "id": "WhfNGBo3l6nl"
      },
      "execution_count": 2,
      "outputs": []
    },
    {
      "cell_type": "code",
      "source": [
        "!wget https://an-ml.s3.us-west-1.amazonaws.com/soc-LiveJournal1Adj.txt"
      ],
      "metadata": {
        "colab": {
          "base_uri": "https://localhost:8080/"
        },
        "id": "Vb8WY5h9maVZ",
        "outputId": "d50c95f4-3642-4b16-bb1a-4e4b79db8c0b"
      },
      "execution_count": 3,
      "outputs": [
        {
          "output_type": "stream",
          "name": "stdout",
          "text": [
            "--2025-10-20 03:14:24--  https://an-ml.s3.us-west-1.amazonaws.com/soc-LiveJournal1Adj.txt\n",
            "Resolving an-ml.s3.us-west-1.amazonaws.com (an-ml.s3.us-west-1.amazonaws.com)... 16.15.4.80, 52.219.194.146, 16.15.0.105, ...\n",
            "Connecting to an-ml.s3.us-west-1.amazonaws.com (an-ml.s3.us-west-1.amazonaws.com)|16.15.4.80|:443... connected.\n",
            "HTTP request sent, awaiting response... 200 OK\n",
            "Length: 4156181 (4.0M) [text/plain]\n",
            "Saving to: ‘soc-LiveJournal1Adj.txt’\n",
            "\n",
            "soc-LiveJournal1Adj 100%[===================>]   3.96M  3.48MB/s    in 1.1s    \n",
            "\n",
            "2025-10-20 03:14:26 (3.48 MB/s) - ‘soc-LiveJournal1Adj.txt’ saved [4156181/4156181]\n",
            "\n"
          ]
        }
      ]
    },
    {
      "cell_type": "code",
      "source": [
        "friends = sc.textFile(\"soc-LiveJournal1Adj.txt\")"
      ],
      "metadata": {
        "id": "J6Rq6yOwmZ70"
      },
      "execution_count": null,
      "outputs": []
    },
    {
      "cell_type": "code",
      "source": [
        "# Tiny example\n",
        "\n",
        "lines = sc.parallelize([\n",
        "    \"1\\t2,3,4,5,6\",\n",
        "    \"2\\t1,3,5,6\",\n",
        "    \"3\\t1,2,4,6\",\n",
        "    \"4\\t1,3,5\",\n",
        "    \"5\\t,1,2,4,6\",\n",
        "    \"6\\t1,2,3,5\"\n",
        "  ])\n"
      ],
      "metadata": {
        "id": "grWUU8K5m3HP"
      },
      "execution_count": 4,
      "outputs": []
    },
    {
      "cell_type": "code",
      "source": [
        "lines.take(3)"
      ],
      "metadata": {
        "colab": {
          "base_uri": "https://localhost:8080/"
        },
        "id": "lDaF7Tmloo5C",
        "outputId": "30d4822d-ce65-4d99-ebea-2c99598f2e94"
      },
      "execution_count": 5,
      "outputs": [
        {
          "output_type": "execute_result",
          "data": {
            "text/plain": [
              "['1\\t2,3,4,5,6', '2\\t1,3,5,6', '3\\t1,2,4,6']"
            ]
          },
          "metadata": {},
          "execution_count": 5
        }
      ]
    },
    {
      "cell_type": "code",
      "source": [
        "# parse the file\n",
        "\n",
        "def parse_line(line):\n",
        "    parts = line.split(\"\\t\")\n",
        "    #print(len(parts))\n",
        "    user = parts[0]\n",
        "    friends = parts[1].split(\",\") if len(parts) > 1 and parts[1] else []\n",
        "    friends = [f for f in friends if f and f != user]  # drop empties/self\n",
        "    return (user, friends)"
      ],
      "metadata": {
        "id": "2VMFisy8o6J6"
      },
      "execution_count": 6,
      "outputs": []
    },
    {
      "cell_type": "code",
      "source": [
        "print(\"STEP 0 - Original List:\")\n",
        "print(lines.collect())\n",
        "\n",
        "adj = lines.map(parse_line).cache()\n",
        "print(\"STEP 1 — parsed adjacency: WHO ARE MY FRIENDS?\")\n",
        "for x in adj.collect(): print(x)"
      ],
      "metadata": {
        "colab": {
          "base_uri": "https://localhost:8080/"
        },
        "id": "vap5BAi6s_Dw",
        "outputId": "d16cc4d1-47ec-4ea5-fa9f-012062192039"
      },
      "execution_count": 7,
      "outputs": [
        {
          "output_type": "stream",
          "name": "stdout",
          "text": [
            "STEP 0 - Original List:\n",
            "['1\\t2,3,4,5,6', '2\\t1,3,5,6', '3\\t1,2,4,6', '4\\t1,3,5', '5\\t,1,2,4,6', '6\\t1,2,3,5']\n",
            "STEP 1 — parsed adjacency: WHO ARE MY FRIENDS?\n",
            "('1', ['2', '3', '4', '5', '6'])\n",
            "('2', ['1', '3', '5', '6'])\n",
            "('3', ['1', '2', '4', '6'])\n",
            "('4', ['1', '3', '5'])\n",
            "('5', ['1', '2', '4', '6'])\n",
            "('6', ['1', '2', '3', '5'])\n"
          ]
        }
      ]
    },
    {
      "cell_type": "code",
      "source": [
        "inv = adj.flatMap(lambda uf: [(f, uf[0]) for f in uf[1]])\n",
        "inv_grouped = inv.groupByKey().mapValues(lambda vals: sorted(set(vals)))\n",
        "print(inv.take(30))\n",
        "print(inv.groupByKey().take(30))\n",
        "print(inv_grouped.take(30))\n",
        "\n",
        "#print(inv_grouped.sortByKey(ascending=True).take(20))\n",
        "\n",
        "inv_grouped = inv_grouped.sortByKey(ascending=True).cache()\n",
        "\n",
        "print(inv_grouped.take(30))\n",
        "\n",
        "print(\"\\nSTEP 2 — inverted index: WHO SHARES THIS FRIEND?\")\n",
        "for f, users in inv_grouped.collect(): print(f, \":\", users)\n"
      ],
      "metadata": {
        "colab": {
          "base_uri": "https://localhost:8080/"
        },
        "id": "gwLrrcCCt2-O",
        "outputId": "7a61feab-f116-46ff-838c-ba7c67ba1797"
      },
      "execution_count": 8,
      "outputs": [
        {
          "output_type": "stream",
          "name": "stdout",
          "text": [
            "[('2', '1'), ('3', '1'), ('4', '1'), ('5', '1'), ('6', '1'), ('1', '2'), ('3', '2'), ('5', '2'), ('6', '2'), ('1', '3'), ('2', '3'), ('4', '3'), ('6', '3'), ('1', '4'), ('3', '4'), ('5', '4'), ('1', '5'), ('2', '5'), ('4', '5'), ('6', '5'), ('1', '6'), ('2', '6'), ('3', '6'), ('5', '6')]\n",
            "[('3', <pyspark.resultiterable.ResultIterable object at 0x792b9d83ccb0>), ('4', <pyspark.resultiterable.ResultIterable object at 0x792b9d83c050>), ('5', <pyspark.resultiterable.ResultIterable object at 0x792b9cb5b650>), ('6', <pyspark.resultiterable.ResultIterable object at 0x792b9cb5b2c0>), ('2', <pyspark.resultiterable.ResultIterable object at 0x792b9cc65730>), ('1', <pyspark.resultiterable.ResultIterable object at 0x792b9cc657c0>)]\n",
            "[('3', ['1', '2', '4', '6']), ('4', ['1', '3', '5']), ('5', ['1', '2', '4', '6']), ('6', ['1', '2', '3', '5']), ('2', ['1', '3', '5', '6']), ('1', ['2', '3', '4', '5', '6'])]\n",
            "[('1', ['2', '3', '4', '5', '6']), ('2', ['1', '3', '5', '6']), ('3', ['1', '2', '4', '6']), ('4', ['1', '3', '5']), ('5', ['1', '2', '4', '6']), ('6', ['1', '2', '3', '5'])]\n",
            "\n",
            "STEP 2 — inverted index: WHO SHARES THIS FRIEND?\n",
            "1 : ['2', '3', '4', '5', '6']\n",
            "2 : ['1', '3', '5', '6']\n",
            "3 : ['1', '2', '4', '6']\n",
            "4 : ['1', '3', '5']\n",
            "5 : ['1', '2', '4', '6']\n",
            "6 : ['1', '2', '3', '5']\n"
          ]
        }
      ]
    },
    {
      "cell_type": "code",
      "source": [
        "from itertools import combinations"
      ],
      "metadata": {
        "id": "0qWjQ_z9Ccmt"
      },
      "execution_count": 9,
      "outputs": []
    },
    {
      "cell_type": "code",
      "source": [
        "# Emit all unordered user pairs per friend (+1 each)\n",
        "\n",
        "pairs_by_dim = inv_grouped.flatMap(\n",
        "    lambda fv: [((a, b), 1) for a, b in combinations(fv[1], 2)]\n",
        ").cache()\n",
        "\n",
        "print(\"\\nSTEP 3 — pair contributions (+1 per shared friend):\")\n",
        "for p in pairs_by_dim.collect(): print(p)"
      ],
      "metadata": {
        "colab": {
          "base_uri": "https://localhost:8080/"
        },
        "id": "dAxAn3NKCiXL",
        "outputId": "93cdfcdb-e83e-4afe-f5ce-77b7c67b55cf"
      },
      "execution_count": 10,
      "outputs": [
        {
          "output_type": "stream",
          "name": "stdout",
          "text": [
            "\n",
            "STEP 3 — pair contributions (+1 per shared friend):\n",
            "(('2', '3'), 1)\n",
            "(('2', '4'), 1)\n",
            "(('2', '5'), 1)\n",
            "(('2', '6'), 1)\n",
            "(('3', '4'), 1)\n",
            "(('3', '5'), 1)\n",
            "(('3', '6'), 1)\n",
            "(('4', '5'), 1)\n",
            "(('4', '6'), 1)\n",
            "(('5', '6'), 1)\n",
            "(('1', '3'), 1)\n",
            "(('1', '5'), 1)\n",
            "(('1', '6'), 1)\n",
            "(('3', '5'), 1)\n",
            "(('3', '6'), 1)\n",
            "(('5', '6'), 1)\n",
            "(('1', '2'), 1)\n",
            "(('1', '4'), 1)\n",
            "(('1', '6'), 1)\n",
            "(('2', '4'), 1)\n",
            "(('2', '6'), 1)\n",
            "(('4', '6'), 1)\n",
            "(('1', '3'), 1)\n",
            "(('1', '5'), 1)\n",
            "(('3', '5'), 1)\n",
            "(('1', '2'), 1)\n",
            "(('1', '4'), 1)\n",
            "(('1', '6'), 1)\n",
            "(('2', '4'), 1)\n",
            "(('2', '6'), 1)\n",
            "(('4', '6'), 1)\n",
            "(('1', '2'), 1)\n",
            "(('1', '3'), 1)\n",
            "(('1', '5'), 1)\n",
            "(('2', '3'), 1)\n",
            "(('2', '5'), 1)\n",
            "(('3', '5'), 1)\n"
          ]
        }
      ]
    },
    {
      "cell_type": "code",
      "source": [
        "# 4) Sum contributions (this is the sparse dot-product)\n",
        "\n",
        "mutual_counts = pairs_by_dim.reduceByKey(lambda a, b: a + b).sortByKey(ascending=True).cache()\n",
        "print(mutual_counts.take(20))\n",
        "\n",
        "print(\"\\nSTEP 4 — mutual friend counts:\")\n",
        "for pair, cnt in mutual_counts.collect(): print(pair, \":\", cnt)"
      ],
      "metadata": {
        "colab": {
          "base_uri": "https://localhost:8080/"
        },
        "id": "ByyrcDfBEKjJ",
        "outputId": "6d297d17-b99b-4ada-b281-1a8ec1f4bf99"
      },
      "execution_count": 11,
      "outputs": [
        {
          "output_type": "stream",
          "name": "stdout",
          "text": [
            "[(('1', '2'), 3), (('1', '3'), 3), (('1', '4'), 2), (('1', '5'), 3), (('1', '6'), 3), (('2', '3'), 2), (('2', '4'), 3), (('2', '5'), 2), (('2', '6'), 3), (('3', '4'), 1), (('3', '5'), 4), (('3', '6'), 2), (('4', '5'), 1), (('4', '6'), 3), (('5', '6'), 2)]\n",
            "\n",
            "STEP 4 — mutual friend counts:\n",
            "('1', '2') : 3\n",
            "('1', '3') : 3\n",
            "('1', '4') : 2\n",
            "('1', '5') : 3\n",
            "('1', '6') : 3\n",
            "('2', '3') : 2\n",
            "('2', '4') : 3\n",
            "('2', '5') : 2\n",
            "('2', '6') : 3\n",
            "('3', '4') : 1\n",
            "('3', '5') : 4\n",
            "('3', '6') : 2\n",
            "('4', '5') : 1\n",
            "('4', '6') : 3\n",
            "('5', '6') : 2\n"
          ]
        }
      ]
    },
    {
      "cell_type": "code",
      "source": [
        "# Existing friends and remove\n",
        "\n",
        "#print first the adjacency list\n",
        "print(\"Original Adjacency : \")\n",
        "print(adj.take(20))\n",
        "\n",
        "edges_unordered = (adj\n",
        "    .flatMap(lambda uf: [tuple(sorted((uf[0], f))) for f in uf[1]])\n",
        "    .distinct()\n",
        "    .collect()\n",
        ")\n",
        "\n",
        "edges_unordered.sort()\n",
        "\n",
        "print(\"\\nExisting Friends :\")\n",
        "print(edges_unordered)\n",
        "\n",
        "b_edges = sc.broadcast(set(edges_unordered))\n",
        "\n",
        "# print(b_edges.value)\n",
        "\n",
        "print(\"\\nMutual Counts :\")\n",
        "print(mutual_counts.take(20))\n",
        "\n",
        "nonfriends = mutual_counts.filter(lambda kv: kv[0] not in b_edges.value).cache()\n",
        "\n",
        "print(\"\\nSTEP 5 — non-friend candidate pairs (connect_score = mutuals):\")\n",
        "for p in nonfriends.collect(): print(p)"
      ],
      "metadata": {
        "colab": {
          "base_uri": "https://localhost:8080/"
        },
        "id": "t_0nbphqE9YZ",
        "outputId": "2b52d7de-e7f3-475f-a082-349f77c72773"
      },
      "execution_count": 12,
      "outputs": [
        {
          "output_type": "stream",
          "name": "stdout",
          "text": [
            "Original Adjacency : \n",
            "[('1', ['2', '3', '4', '5', '6']), ('2', ['1', '3', '5', '6']), ('3', ['1', '2', '4', '6']), ('4', ['1', '3', '5']), ('5', ['1', '2', '4', '6']), ('6', ['1', '2', '3', '5'])]\n",
            "\n",
            "Existing Friends :\n",
            "[('1', '2'), ('1', '3'), ('1', '4'), ('1', '5'), ('1', '6'), ('2', '3'), ('2', '5'), ('2', '6'), ('3', '4'), ('3', '6'), ('4', '5'), ('5', '6')]\n",
            "\n",
            "Mutual Counts :\n",
            "[(('1', '2'), 3), (('1', '3'), 3), (('1', '4'), 2), (('1', '5'), 3), (('1', '6'), 3), (('2', '3'), 2), (('2', '4'), 3), (('2', '5'), 2), (('2', '6'), 3), (('3', '4'), 1), (('3', '5'), 4), (('3', '6'), 2), (('4', '5'), 1), (('4', '6'), 3), (('5', '6'), 2)]\n",
            "\n",
            "STEP 5 — non-friend candidate pairs (connect_score = mutuals):\n",
            "(('2', '4'), 3)\n",
            "(('3', '5'), 4)\n",
            "(('4', '6'), 3)\n"
          ]
        }
      ]
    },
    {
      "cell_type": "code",
      "source": [
        "# 6) Fan-out to directed candidates\n",
        "\n",
        "directed = nonfriends.flatMap(\n",
        "    lambda kv: [\n",
        "        (kv[0][0], (kv[0][1], kv[1])),  # A -> (B, score)\n",
        "        (kv[0][1], (kv[0][0], kv[1]))   # B -> (A, score)\n",
        "    ]\n",
        ").cache()\n",
        "\n",
        "print(\"\\nSTEP 6 — directed candidates (user -> (friend_to_be_recommended, connect_score)):\")\n",
        "for d in directed.collect(): print(d)\n"
      ],
      "metadata": {
        "colab": {
          "base_uri": "https://localhost:8080/"
        },
        "id": "BJmo3Ni32uFy",
        "outputId": "10273873-4f07-4da6-8249-044bc54c8f14"
      },
      "execution_count": 13,
      "outputs": [
        {
          "output_type": "stream",
          "name": "stdout",
          "text": [
            "\n",
            "STEP 6 — directed candidates (user -> (friend_to_be_recommended, connect_score)):\n",
            "('2', ('4', 3))\n",
            "('4', ('2', 3))\n",
            "('3', ('5', 4))\n",
            "('5', ('3', 4))\n",
            "('4', ('6', 3))\n",
            "('6', ('4', 3))\n"
          ]
        }
      ]
    },
    {
      "cell_type": "code",
      "source": [
        "# 7) Group per user and take Top-10 (score desc, tie-break by ID asc)\n",
        "\n",
        "def topk(recs, k=1):\n",
        "    # recs is iterable of (candidate, score); sort by (-score, candidate)\n",
        "    return [v for v, c in sorted(recs, key=lambda x: (-x[1], x[0]))[:k]]\n",
        "\n",
        "top10 = directed.groupByKey().mapValues(lambda recs: topk(recs, 10)).cache()\n",
        "\n",
        "print(\"\\nSTEP 7 — top recommendations per user:\")\n",
        "for u, lst in top10.collect(): print(u, \":\", lst)\n",
        "\n",
        "\n",
        "#print(directed.groupByKey().take(20))\n",
        "print(type(top10))"
      ],
      "metadata": {
        "colab": {
          "base_uri": "https://localhost:8080/"
        },
        "id": "ISFu6EfE3dLG",
        "outputId": "91849a29-1657-4514-adbf-a522501571c5"
      },
      "execution_count": 14,
      "outputs": [
        {
          "output_type": "stream",
          "name": "stdout",
          "text": [
            "\n",
            "STEP 7 — top recommendations per user:\n",
            "4 : ['2', '6']\n",
            "3 : ['5']\n",
            "5 : ['3']\n",
            "6 : ['4']\n",
            "2 : ['4']\n",
            "<class 'pyspark.rdd.PipelinedRDD'>\n"
          ]
        }
      ]
    },
    {
      "cell_type": "code",
      "source": [
        "# Print All\n",
        "\n",
        "all_users = adj.map(lambda uf: uf[0]).distinct()\n",
        "\n",
        "print(\"\\nSample from all_users:\")\n",
        "print(all_users.sortBy(lambda x:x).take(10)) # Print first 10 elements\n",
        "\n",
        "\n",
        "print(\"\\nSample from top10:\")\n",
        "print(top10.sortByKey(ascending=True).take(10)) # Print first 10 elements\n",
        "\n",
        "# Collect top10 into a dictionary and broadcast it\n",
        "top10_dict = dict(top10.collect())\n",
        "broadcast_top10 = sc.broadcast(top10_dict)\n",
        "\n",
        "# Map over all_users to get recommendations using the broadcasted dictionary\n",
        "final = (all_users\n",
        "         .map(lambda user: (user, broadcast_top10.value.get(user, [])))\n",
        "         .map(lambda uv: f\"{uv[0]}\\t{','.join(uv[1])}\").sortBy(lambda x:x))\n",
        "\n",
        "print(\"\\nSTEP 8 — final lines (User\\\\tFriend_Rec1,Friend_Rec2,...):\")\n",
        "for line in final.collect(): print(line)\n",
        "\n",
        "print(type(final))"
      ],
      "metadata": {
        "colab": {
          "base_uri": "https://localhost:8080/"
        },
        "id": "E5lSQZEL6sUo",
        "outputId": "2ad7fe91-0626-40e0-e720-f1854a87ed55"
      },
      "execution_count": 15,
      "outputs": [
        {
          "output_type": "stream",
          "name": "stdout",
          "text": [
            "\n",
            "Sample from all_users:\n",
            "['1', '2', '3', '4', '5', '6']\n",
            "\n",
            "Sample from top10:\n",
            "[('2', ['4']), ('3', ['5']), ('4', ['2', '6']), ('5', ['3']), ('6', ['4'])]\n",
            "\n",
            "STEP 8 — final lines (User\\tFriend_Rec1,Friend_Rec2,...):\n",
            "1\t\n",
            "2\t4\n",
            "3\t5\n",
            "4\t2,6\n",
            "5\t3\n",
            "6\t4\n",
            "<class 'pyspark.rdd.PipelinedRDD'>\n"
          ]
        }
      ]
    },
    {
      "cell_type": "code",
      "source": [
        "for k in range(1,11):\n",
        "  print(\"Sample \", k, \": TOP 10 Recommendations for user selected based on count of mutual friends : \")\n",
        "  for line in final.takeSample(False,5, seed=k): print(line)\n",
        "  print(\"\\n\")"
      ],
      "metadata": {
        "colab": {
          "base_uri": "https://localhost:8080/"
        },
        "id": "6HNl7GwMdXPa",
        "outputId": "c559c0d1-7f59-453a-c58b-bf151f5d1c4a"
      },
      "execution_count": 16,
      "outputs": [
        {
          "output_type": "stream",
          "name": "stdout",
          "text": [
            "Sample  1 : TOP 10 Recommendations for user selected based on count of mutual friends : \n",
            "3\t5\n",
            "4\t2,6\n",
            "6\t4\n",
            "1\t\n",
            "5\t3\n",
            "\n",
            "\n",
            "Sample  2 : TOP 10 Recommendations for user selected based on count of mutual friends : \n",
            "3\t5\n",
            "4\t2,6\n",
            "2\t4\n",
            "5\t3\n",
            "6\t4\n",
            "\n",
            "\n",
            "Sample  3 : TOP 10 Recommendations for user selected based on count of mutual friends : \n",
            "1\t\n",
            "3\t5\n",
            "4\t2,6\n",
            "6\t4\n",
            "5\t3\n",
            "\n",
            "\n",
            "Sample  4 : TOP 10 Recommendations for user selected based on count of mutual friends : \n",
            "4\t2,6\n",
            "6\t4\n",
            "5\t3\n",
            "1\t\n",
            "3\t5\n",
            "\n",
            "\n",
            "Sample  5 : TOP 10 Recommendations for user selected based on count of mutual friends : \n",
            "2\t4\n",
            "1\t\n",
            "4\t2,6\n",
            "6\t4\n",
            "3\t5\n",
            "\n",
            "\n",
            "Sample  6 : TOP 10 Recommendations for user selected based on count of mutual friends : \n",
            "3\t5\n",
            "6\t4\n",
            "2\t4\n",
            "4\t2,6\n",
            "1\t\n",
            "\n",
            "\n",
            "Sample  7 : TOP 10 Recommendations for user selected based on count of mutual friends : \n",
            "5\t3\n",
            "1\t\n",
            "6\t4\n",
            "4\t2,6\n",
            "2\t4\n",
            "\n",
            "\n",
            "Sample  8 : TOP 10 Recommendations for user selected based on count of mutual friends : \n",
            "6\t4\n",
            "5\t3\n",
            "1\t\n",
            "4\t2,6\n",
            "3\t5\n",
            "\n",
            "\n",
            "Sample  9 : TOP 10 Recommendations for user selected based on count of mutual friends : \n",
            "6\t4\n",
            "1\t\n",
            "2\t4\n",
            "3\t5\n",
            "5\t3\n",
            "\n",
            "\n",
            "Sample  10 : TOP 10 Recommendations for user selected based on count of mutual friends : \n",
            "3\t5\n",
            "6\t4\n",
            "2\t4\n",
            "4\t2,6\n",
            "1\t\n",
            "\n",
            "\n"
          ]
        }
      ]
    },
    {
      "cell_type": "code",
      "source": [
        "for k in range(1,10):\n",
        "  sample_users = final.takeSample(False, 5, seed=k)\n",
        "  print(sample_users)"
      ],
      "metadata": {
        "colab": {
          "base_uri": "https://localhost:8080/"
        },
        "id": "whVrpLi9WcSp",
        "outputId": "e048602e-d22d-4b7a-f960-28ccdd8b3fcf"
      },
      "execution_count": 17,
      "outputs": [
        {
          "output_type": "stream",
          "name": "stdout",
          "text": [
            "['3\\t5', '4\\t2,6', '6\\t4', '1\\t', '5\\t3']\n",
            "['3\\t5', '4\\t2,6', '2\\t4', '5\\t3', '6\\t4']\n",
            "['1\\t', '3\\t5', '4\\t2,6', '6\\t4', '5\\t3']\n",
            "['4\\t2,6', '6\\t4', '5\\t3', '1\\t', '3\\t5']\n",
            "['2\\t4', '1\\t', '4\\t2,6', '6\\t4', '3\\t5']\n",
            "['3\\t5', '6\\t4', '2\\t4', '4\\t2,6', '1\\t']\n",
            "['5\\t3', '1\\t', '6\\t4', '4\\t2,6', '2\\t4']\n",
            "['6\\t4', '5\\t3', '1\\t', '4\\t2,6', '3\\t5']\n",
            "['6\\t4', '1\\t', '2\\t4', '3\\t5', '5\\t3']\n"
          ]
        }
      ]
    },
    {
      "cell_type": "code",
      "source": [],
      "metadata": {
        "id": "QxVyeylzs4cK"
      },
      "execution_count": null,
      "outputs": []
    }
  ]
}