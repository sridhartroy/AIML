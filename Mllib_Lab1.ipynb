{
  "nbformat": 4,
  "nbformat_minor": 0,
  "metadata": {
    "colab": {
      "provenance": [],
      "authorship_tag": "ABX9TyPim/DQ3v0Au2iWB/MqM/EO",
      "include_colab_link": true
    },
    "kernelspec": {
      "name": "python3",
      "display_name": "Python 3"
    },
    "language_info": {
      "name": "python"
    }
  },
  "cells": [
    {
      "cell_type": "markdown",
      "metadata": {
        "id": "view-in-github",
        "colab_type": "text"
      },
      "source": [
        "<a href=\"https://colab.research.google.com/github/sridhartroy/AIML/blob/main/Mllib_Lab1.ipynb\" target=\"_parent\"><img src=\"https://colab.research.google.com/assets/colab-badge.svg\" alt=\"Open In Colab\"/></a>"
      ]
    },
    {
      "cell_type": "code",
      "execution_count": 1,
      "metadata": {
        "colab": {
          "base_uri": "https://localhost:8080/"
        },
        "id": "SDERilE-TsWt",
        "outputId": "71605328-96f2-4d73-b713-e8e4e80da730"
      },
      "outputs": [
        {
          "output_type": "stream",
          "name": "stdout",
          "text": [
            "Collecting pyspark==3.5.6\n",
            "  Downloading pyspark-3.5.6.tar.gz (317.4 MB)\n",
            "\u001b[2K     \u001b[90m━━━━━━━━━━━━━━━━━━━━━━━━━━━━━━━━━━━━━━━\u001b[0m \u001b[32m317.4/317.4 MB\u001b[0m \u001b[31m5.4 MB/s\u001b[0m eta \u001b[36m0:00:00\u001b[0m\n",
            "\u001b[?25h  Preparing metadata (setup.py) ... \u001b[?25l\u001b[?25hdone\n",
            "Requirement already satisfied: py4j==0.10.9.7 in /usr/local/lib/python3.12/dist-packages (from pyspark==3.5.6) (0.10.9.7)\n",
            "Building wheels for collected packages: pyspark\n",
            "  Building wheel for pyspark (setup.py) ... \u001b[?25l\u001b[?25hdone\n",
            "  Created wheel for pyspark: filename=pyspark-3.5.6-py2.py3-none-any.whl size=317895798 sha256=6fbd4b84d2e0f3b493e50549cb54e91eb5c3e2ab1ed497fd82e02ded255e5539\n",
            "  Stored in directory: /root/.cache/pip/wheels/64/62/f3/ec15656ea4ada0523cae62a1827fe7beb55d3c8c87174aad4a\n",
            "Successfully built pyspark\n",
            "Installing collected packages: pyspark\n",
            "  Attempting uninstall: pyspark\n",
            "    Found existing installation: pyspark 3.5.1\n",
            "    Uninstalling pyspark-3.5.1:\n",
            "      Successfully uninstalled pyspark-3.5.1\n",
            "Successfully installed pyspark-3.5.6\n"
          ]
        }
      ],
      "source": [
        "!pip install pyspark==3.5.6"
      ]
    },
    {
      "cell_type": "code",
      "source": [
        "from pyspark.sql import SparkSession\n",
        "# Initialize Spark session\n",
        "spark = SparkSession.builder \\\n",
        "    .appName(\"MLLib-Lab1\") \\\n",
        "    .getOrCreate()\n",
        "\n",
        "sc = spark.sparkContext"
      ],
      "metadata": {
        "id": "fflz_C-dVoPL"
      },
      "execution_count": 2,
      "outputs": []
    },
    {
      "cell_type": "code",
      "source": [
        "!wget https://an-utd-course.s3-us-west-1.amazonaws.com/car-milage.csv"
      ],
      "metadata": {
        "colab": {
          "base_uri": "https://localhost:8080/"
        },
        "id": "D3FA3r-oVzNL",
        "outputId": "a1f8ccad-1f61-427f-ab41-c94e65821f17"
      },
      "execution_count": 3,
      "outputs": [
        {
          "output_type": "stream",
          "name": "stdout",
          "text": [
            "--2025-10-18 22:01:39--  https://an-utd-course.s3-us-west-1.amazonaws.com/car-milage.csv\n",
            "Resolving an-utd-course.s3-us-west-1.amazonaws.com (an-utd-course.s3-us-west-1.amazonaws.com)... 16.15.0.235, 52.219.120.169, 52.219.192.10, ...\n",
            "Connecting to an-utd-course.s3-us-west-1.amazonaws.com (an-utd-course.s3-us-west-1.amazonaws.com)|16.15.0.235|:443... connected.\n",
            "HTTP request sent, awaiting response... 200 OK\n",
            "Length: 1569 (1.5K) [text/csv]\n",
            "Saving to: ‘car-milage.csv’\n",
            "\n",
            "car-milage.csv      100%[===================>]   1.53K  --.-KB/s    in 0s      \n",
            "\n",
            "2025-10-18 22:01:39 (96.3 MB/s) - ‘car-milage.csv’ saved [1569/1569]\n",
            "\n"
          ]
        }
      ]
    },
    {
      "cell_type": "code",
      "source": [
        "df = spark.read.option(\"header\",\"true\").option(\"inferSchema\",\"true\").csv(\"car-milage.csv\")\n"
      ],
      "metadata": {
        "id": "ba6E4JJLV8Vg"
      },
      "execution_count": 5,
      "outputs": []
    },
    {
      "cell_type": "code",
      "source": [
        "from pyspark.ml.feature import VectorAssembler\n",
        "from pyspark.ml.regression import LinearRegression\n",
        "from pyspark.ml.feature import FeatureHasher\n",
        "from pyspark.ml.classification import LogisticRegression"
      ],
      "metadata": {
        "id": "rpt9tuXkWDg7"
      },
      "execution_count": 31,
      "outputs": []
    },
    {
      "cell_type": "code",
      "source": [
        "df.show(5)"
      ],
      "metadata": {
        "colab": {
          "base_uri": "https://localhost:8080/"
        },
        "id": "-zrgmUteWNBL",
        "outputId": "000c4b15-358e-46f1-cf29-e14b34420642"
      },
      "execution_count": 8,
      "outputs": [
        {
          "output_type": "stream",
          "name": "stdout",
          "text": [
            "+-----+------------+---+------+------+-------+------------+---------+------+-----+------+---------+\n",
            "|  mpg|displacement| hp|torque|CRatio|RARatio|CarbBarrells|NoOfSpeed|length|width|weight|automatic|\n",
            "+-----+------------+---+------+------+-------+------------+---------+------+-----+------+---------+\n",
            "| 18.9|       350.0|165|   260|   8.0|   2.56|           4|        3| 200.3| 69.9|  3910|        1|\n",
            "| 17.0|       350.0|170|   275|   8.5|   2.56|           4|        3| 199.6| 72.9|  3860|        1|\n",
            "| 20.0|       250.0|105|   185|  8.25|   2.73|           1|        3| 196.7| 72.2|  3510|        1|\n",
            "|18.25|       351.0|143|   255|   8.0|    3.0|           2|        3| 199.9| 74.0|  3890|        1|\n",
            "|20.07|       225.0| 95|   170|   8.4|   2.76|           1|        3| 194.1| 71.8|  3365|        0|\n",
            "+-----+------------+---+------+------+-------+------------+---------+------+-----+------+---------+\n",
            "only showing top 5 rows\n",
            "\n"
          ]
        }
      ]
    },
    {
      "cell_type": "code",
      "source": [
        "hasher =  FeatureHasher().setInputCols([\"mpg\",\"displacement\",\"hp\",\"torque\",\"CRatio\",\"RARatio\",\"CarbBarrells\",\"NoOfSpeed\",\"length\",\"width\",\"weight\"]).setOutputCol(\"features\")"
      ],
      "metadata": {
        "id": "0bgRGldfWSse"
      },
      "execution_count": 9,
      "outputs": []
    },
    {
      "cell_type": "code",
      "source": [
        "df_transformed = hasher.transform(df)\n",
        "type(df_transformed)\n",
        "print(df.show(5))\n",
        "df_transformed.show(5, truncate=False)"
      ],
      "metadata": {
        "colab": {
          "base_uri": "https://localhost:8080/"
        },
        "id": "ow_N_KwEWavg",
        "outputId": "58633ea1-951d-4987-99f0-c0dbfa11b9a9"
      },
      "execution_count": 16,
      "outputs": [
        {
          "output_type": "stream",
          "name": "stdout",
          "text": [
            "+-----+------------+---+------+------+-------+------------+---------+------+-----+------+---------+\n",
            "|  mpg|displacement| hp|torque|CRatio|RARatio|CarbBarrells|NoOfSpeed|length|width|weight|automatic|\n",
            "+-----+------------+---+------+------+-------+------------+---------+------+-----+------+---------+\n",
            "| 18.9|       350.0|165|   260|   8.0|   2.56|           4|        3| 200.3| 69.9|  3910|        1|\n",
            "| 17.0|       350.0|170|   275|   8.5|   2.56|           4|        3| 199.6| 72.9|  3860|        1|\n",
            "| 20.0|       250.0|105|   185|  8.25|   2.73|           1|        3| 196.7| 72.2|  3510|        1|\n",
            "|18.25|       351.0|143|   255|   8.0|    3.0|           2|        3| 199.9| 74.0|  3890|        1|\n",
            "|20.07|       225.0| 95|   170|   8.4|   2.76|           1|        3| 194.1| 71.8|  3365|        0|\n",
            "+-----+------------+---+------+------+-------+------------+---------+------+-----+------+---------+\n",
            "only showing top 5 rows\n",
            "\n",
            "None\n",
            "+-----+------------+---+------+------+-------+------------+---------+------+-----+------+---------+--------------------------------------------------------------------------------------------------------------------------------------------+\n",
            "|mpg  |displacement|hp |torque|CRatio|RARatio|CarbBarrells|NoOfSpeed|length|width|weight|automatic|features                                                                                                                                    |\n",
            "+-----+------------+---+------+------+-------+------------+---------+------+-----+------+---------+--------------------------------------------------------------------------------------------------------------------------------------------+\n",
            "|18.9 |350.0       |165|260   |8.0   |2.56   |4           |3        |200.3 |69.9 |3910  |1        |(262144,[3416,3594,30644,49914,68404,82514,148293,192774,221527,241275,245500],[3.0,8.0,69.9,4.0,3910.0,2.56,350.0,200.3,165.0,18.9,260.0]) |\n",
            "|17.0 |350.0       |170|275   |8.5   |2.56   |4           |3        |199.6 |72.9 |3860  |1        |(262144,[3416,3594,30644,49914,68404,82514,148293,192774,221527,241275,245500],[3.0,8.5,72.9,4.0,3860.0,2.56,350.0,199.6,170.0,17.0,275.0]) |\n",
            "|20.0 |250.0       |105|185   |8.25  |2.73   |1           |3        |196.7 |72.2 |3510  |1        |(262144,[3416,3594,30644,49914,68404,82514,148293,192774,221527,241275,245500],[3.0,8.25,72.2,1.0,3510.0,2.73,250.0,196.7,105.0,20.0,185.0])|\n",
            "|18.25|351.0       |143|255   |8.0   |3.0    |2           |3        |199.9 |74.0 |3890  |1        |(262144,[3416,3594,30644,49914,68404,82514,148293,192774,221527,241275,245500],[3.0,8.0,74.0,2.0,3890.0,3.0,351.0,199.9,143.0,18.25,255.0]) |\n",
            "|20.07|225.0       |95 |170   |8.4   |2.76   |1           |3        |194.1 |71.8 |3365  |0        |(262144,[3416,3594,30644,49914,68404,82514,148293,192774,221527,241275,245500],[3.0,8.4,71.8,1.0,3365.0,2.76,225.0,194.1,95.0,20.07,170.0]) |\n",
            "+-----+------------+---+------+------+-------+------------+---------+------+-----+------+---------+--------------------------------------------------------------------------------------------------------------------------------------------+\n",
            "only showing top 5 rows\n",
            "\n"
          ]
        }
      ]
    },
    {
      "cell_type": "code",
      "source": [
        "df_transformed.head()"
      ],
      "metadata": {
        "colab": {
          "base_uri": "https://localhost:8080/"
        },
        "id": "Y8lwpfOnb5dl",
        "outputId": "622e4a7c-8f0a-47a8-e412-92bb64e0ca78"
      },
      "execution_count": 18,
      "outputs": [
        {
          "output_type": "execute_result",
          "data": {
            "text/plain": [
              "Row(mpg=18.9, displacement=350.0, hp=165, torque=260, CRatio=8.0, RARatio=2.56, CarbBarrells=4, NoOfSpeed=3, length=200.3, width=69.9, weight=3910, automatic=1, features=SparseVector(262144, {3416: 3.0, 3594: 8.0, 30644: 69.9, 49914: 4.0, 68404: 3910.0, 82514: 2.56, 148293: 350.0, 192774: 200.3, 221527: 165.0, 241275: 18.9, 245500: 260.0}))"
            ]
          },
          "metadata": {},
          "execution_count": 18
        }
      ]
    },
    {
      "cell_type": "code",
      "source": [
        "hasher.explainParam(param=\"inputCols\")"
      ],
      "metadata": {
        "colab": {
          "base_uri": "https://localhost:8080/",
          "height": 53
        },
        "id": "_vej3udgccZ5",
        "outputId": "074aead6-adcd-4207-db2f-616ba96eb555"
      },
      "execution_count": 27,
      "outputs": [
        {
          "output_type": "execute_result",
          "data": {
            "text/plain": [
              "\"inputCols: input column names. (current: ['mpg', 'displacement', 'hp', 'torque', 'CRatio', 'RARatio', 'CarbBarrells', 'NoOfSpeed', 'length', 'width', 'weight'])\""
            ],
            "application/vnd.google.colaboratory.intrinsic+json": {
              "type": "string"
            }
          },
          "metadata": {},
          "execution_count": 27
        }
      ]
    },
    {
      "cell_type": "code",
      "source": [
        "train, test = df_transformed.randomSplit([0.7, 0.3], seed = 2018)"
      ],
      "metadata": {
        "id": "S6mz-E9KdFkt"
      },
      "execution_count": 28,
      "outputs": []
    },
    {
      "cell_type": "code",
      "source": [
        "print(\"DF count: \" + str(df_transformed.count()))\n",
        "print(\"Training Dataset Count: \" + str(train.count()))\n",
        "print(\"Test Dataset Count: \" + str(test.count()))"
      ],
      "metadata": {
        "colab": {
          "base_uri": "https://localhost:8080/"
        },
        "id": "_Bxrh7EudQVy",
        "outputId": "e8865f19-152e-4fe7-d50a-12f2718ada84"
      },
      "execution_count": 30,
      "outputs": [
        {
          "output_type": "stream",
          "name": "stdout",
          "text": [
            "DF count: 32\n",
            "Training Dataset Count: 24\n",
            "Test Dataset Count: 8\n"
          ]
        }
      ]
    },
    {
      "cell_type": "code",
      "source": [
        "lr = LogisticRegression(maxIter=10, regParam=0.3, elasticNetParam=0.8, featuresCol = \"features\", labelCol = \"automatic\")"
      ],
      "metadata": {
        "id": "XHkzVMTIdnXW"
      },
      "execution_count": 32,
      "outputs": []
    },
    {
      "cell_type": "code",
      "source": [
        "model = lr.fit(train)\n",
        "type(model)"
      ],
      "metadata": {
        "colab": {
          "base_uri": "https://localhost:8080/",
          "height": 156
        },
        "id": "Rl0EZpw0kVgC",
        "outputId": "715e6b12-f95c-4478-ef7c-8a0da595c4a1"
      },
      "execution_count": 38,
      "outputs": [
        {
          "output_type": "execute_result",
          "data": {
            "text/plain": [
              "pyspark.ml.classification.LogisticRegressionModel"
            ],
            "text/html": [
              "<div style=\"max-width:800px; border: 1px solid var(--colab-border-color);\"><style>\n",
              "      pre.function-repr-contents {\n",
              "        overflow-x: auto;\n",
              "        padding: 8px 12px;\n",
              "        max-height: 500px;\n",
              "      }\n",
              "\n",
              "      pre.function-repr-contents.function-repr-contents-collapsed {\n",
              "        cursor: pointer;\n",
              "        max-height: 100px;\n",
              "      }\n",
              "    </style>\n",
              "    <pre style=\"white-space: initial; background:\n",
              "         var(--colab-secondary-surface-color); padding: 8px 12px;\n",
              "         border-bottom: 1px solid var(--colab-border-color);\"><b>pyspark.ml.classification.LogisticRegressionModel</b><br/>def __init__(java_model: Optional[&#x27;JavaObject&#x27;]=None)</pre><pre class=\"function-repr-contents function-repr-contents-collapsed\" style=\"\"><a class=\"filepath\" style=\"display:none\" href=\"#\">/usr/local/lib/python3.12/dist-packages/pyspark/ml/classification.py</a>Model fitted by LogisticRegression.\n",
              "\n",
              ".. versionadded:: 1.3.0</pre>\n",
              "      <script>\n",
              "      if (google.colab.kernel.accessAllowed && google.colab.files && google.colab.files.view) {\n",
              "        for (const element of document.querySelectorAll('.filepath')) {\n",
              "          element.style.display = 'block'\n",
              "          element.onclick = (event) => {\n",
              "            event.preventDefault();\n",
              "            event.stopPropagation();\n",
              "            google.colab.files.view(element.textContent, 1517);\n",
              "          };\n",
              "        }\n",
              "      }\n",
              "      for (const element of document.querySelectorAll('.function-repr-contents')) {\n",
              "        element.onclick = (event) => {\n",
              "          event.preventDefault();\n",
              "          event.stopPropagation();\n",
              "          element.classList.toggle('function-repr-contents-collapsed');\n",
              "        };\n",
              "      }\n",
              "      </script>\n",
              "      </div>"
            ]
          },
          "metadata": {},
          "execution_count": 38
        }
      ]
    },
    {
      "cell_type": "code",
      "source": [
        "result = model.transform(test)\n",
        "type(result)"
      ],
      "metadata": {
        "colab": {
          "base_uri": "https://localhost:8080/",
          "height": 186
        },
        "id": "tzJ-ZQnZkZAk",
        "outputId": "d7de99af-b07a-4351-f09b-0870a35d49ab"
      },
      "execution_count": 35,
      "outputs": [
        {
          "output_type": "execute_result",
          "data": {
            "text/plain": [
              "pyspark.sql.dataframe.DataFrame"
            ],
            "text/html": [
              "<div style=\"max-width:800px; border: 1px solid var(--colab-border-color);\"><style>\n",
              "      pre.function-repr-contents {\n",
              "        overflow-x: auto;\n",
              "        padding: 8px 12px;\n",
              "        max-height: 500px;\n",
              "      }\n",
              "\n",
              "      pre.function-repr-contents.function-repr-contents-collapsed {\n",
              "        cursor: pointer;\n",
              "        max-height: 100px;\n",
              "      }\n",
              "    </style>\n",
              "    <pre style=\"white-space: initial; background:\n",
              "         var(--colab-secondary-surface-color); padding: 8px 12px;\n",
              "         border-bottom: 1px solid var(--colab-border-color);\"><b>pyspark.sql.dataframe.DataFrame</b><br/>def __init__(jdf: JavaObject, sql_ctx: Union[&#x27;SQLContext&#x27;, &#x27;SparkSession&#x27;])</pre><pre class=\"function-repr-contents function-repr-contents-collapsed\" style=\"\"><a class=\"filepath\" style=\"display:none\" href=\"#\">/usr/local/lib/python3.12/dist-packages/pyspark/sql/dataframe.py</a>A distributed collection of data grouped into named columns.\n",
              "\n",
              ".. versionadded:: 1.3.0\n",
              "\n",
              ".. versionchanged:: 3.4.0\n",
              "    Supports Spark Connect.\n",
              "\n",
              "Examples\n",
              "--------\n",
              "A :class:`DataFrame` is equivalent to a relational table in Spark SQL,\n",
              "and can be created using various functions in :class:`SparkSession`:\n",
              "\n",
              "&gt;&gt;&gt; people = spark.createDataFrame([\n",
              "...     {&quot;deptId&quot;: 1, &quot;age&quot;: 40, &quot;name&quot;: &quot;Hyukjin Kwon&quot;, &quot;gender&quot;: &quot;M&quot;, &quot;salary&quot;: 50},\n",
              "...     {&quot;deptId&quot;: 1, &quot;age&quot;: 50, &quot;name&quot;: &quot;Takuya Ueshin&quot;, &quot;gender&quot;: &quot;M&quot;, &quot;salary&quot;: 100},\n",
              "...     {&quot;deptId&quot;: 2, &quot;age&quot;: 60, &quot;name&quot;: &quot;Xinrong Meng&quot;, &quot;gender&quot;: &quot;F&quot;, &quot;salary&quot;: 150},\n",
              "...     {&quot;deptId&quot;: 3, &quot;age&quot;: 20, &quot;name&quot;: &quot;Haejoon Lee&quot;, &quot;gender&quot;: &quot;M&quot;, &quot;salary&quot;: 200}\n",
              "... ])\n",
              "\n",
              "Once created, it can be manipulated using the various domain-specific-language\n",
              "(DSL) functions defined in: :class:`DataFrame`, :class:`Column`.\n",
              "\n",
              "To select a column from the :class:`DataFrame`, use the apply method:\n",
              "\n",
              "&gt;&gt;&gt; age_col = people.age\n",
              "\n",
              "A more concrete example:\n",
              "\n",
              "&gt;&gt;&gt; # To create DataFrame using SparkSession\n",
              "... department = spark.createDataFrame([\n",
              "...     {&quot;id&quot;: 1, &quot;name&quot;: &quot;PySpark&quot;},\n",
              "...     {&quot;id&quot;: 2, &quot;name&quot;: &quot;ML&quot;},\n",
              "...     {&quot;id&quot;: 3, &quot;name&quot;: &quot;Spark SQL&quot;}\n",
              "... ])\n",
              "\n",
              "&gt;&gt;&gt; people.filter(people.age &gt; 30).join(\n",
              "...     department, people.deptId == department.id).groupBy(\n",
              "...     department.name, &quot;gender&quot;).agg({&quot;salary&quot;: &quot;avg&quot;, &quot;age&quot;: &quot;max&quot;}).show()\n",
              "+-------+------+-----------+--------+\n",
              "|   name|gender|avg(salary)|max(age)|\n",
              "+-------+------+-----------+--------+\n",
              "|     ML|     F|      150.0|      60|\n",
              "|PySpark|     M|       75.0|      50|\n",
              "+-------+------+-----------+--------+\n",
              "\n",
              "Notes\n",
              "-----\n",
              "A DataFrame should only be created as described above. It should not be directly\n",
              "created via using the constructor.</pre>\n",
              "      <script>\n",
              "      if (google.colab.kernel.accessAllowed && google.colab.files && google.colab.files.view) {\n",
              "        for (const element of document.querySelectorAll('.filepath')) {\n",
              "          element.style.display = 'block'\n",
              "          element.onclick = (event) => {\n",
              "            event.preventDefault();\n",
              "            event.stopPropagation();\n",
              "            google.colab.files.view(element.textContent, 80);\n",
              "          };\n",
              "        }\n",
              "      }\n",
              "      for (const element of document.querySelectorAll('.function-repr-contents')) {\n",
              "        element.onclick = (event) => {\n",
              "          event.preventDefault();\n",
              "          event.stopPropagation();\n",
              "          element.classList.toggle('function-repr-contents-collapsed');\n",
              "        };\n",
              "      }\n",
              "      </script>\n",
              "      </div>"
            ]
          },
          "metadata": {},
          "execution_count": 35
        }
      ]
    },
    {
      "cell_type": "code",
      "source": [
        "result.show(5, truncate=False)"
      ],
      "metadata": {
        "colab": {
          "base_uri": "https://localhost:8080/"
        },
        "id": "lTOJ8JkwkkAg",
        "outputId": "6f191722-871f-4303-9eed-79f3de5042b2"
      },
      "execution_count": 37,
      "outputs": [
        {
          "output_type": "stream",
          "name": "stdout",
          "text": [
            "+----+------------+---+------+------+-------+------------+---------+------+-----+------+---------+-------------------------------------------------------------------------------------------------------------------------------------------+----------------------------------------+----------------------------------------+----------+\n",
            "|mpg |displacement|hp |torque|CRatio|RARatio|CarbBarrells|NoOfSpeed|length|width|weight|automatic|features                                                                                                                                   |rawPrediction                           |probability                             |prediction|\n",
            "+----+------------+---+------+------+-------+------------+---------+------+-----+------+---------+-------------------------------------------------------------------------------------------------------------------------------------------+----------------------------------------+----------------------------------------+----------+\n",
            "|11.2|440.0       |215|330   |8.2   |2.88   |4           |3        |184.5 |69.0 |4215  |1        |(262144,[3416,3594,30644,49914,68404,82514,148293,192774,221527,241275,245500],[3.0,8.2,69.0,4.0,4215.0,2.88,440.0,184.5,215.0,11.2,330.0])|[-1.661338837568156,1.661338837568156]  |[0.15958235578818983,0.8404176442118102]|1.0       |\n",
            "|16.5|350.0       |155|250   |8.5   |3.08   |4           |3        |195.4 |74.4 |3885  |1        |(262144,[3416,3594,30644,49914,68404,82514,148293,192774,221527,241275,245500],[3.0,8.5,74.4,4.0,3885.0,3.08,350.0,195.4,155.0,16.5,250.0])|[-1.5304566610341166,1.5304566610341166]|[0.1779268806520469,0.8220731193479531] |1.0       |\n",
            "|17.0|350.0       |170|275   |8.5   |2.56   |4           |3        |199.6 |72.9 |3860  |1        |(262144,[3416,3594,30644,49914,68404,82514,148293,192774,221527,241275,245500],[3.0,8.5,72.9,4.0,3860.0,2.56,350.0,199.6,170.0,17.0,275.0])|[-1.5304566610341166,1.5304566610341166]|[0.1779268806520469,0.8220731193479531] |1.0       |\n",
            "|17.8|302.0       |129|220   |8.0   |3.0    |2           |3        |199.9 |74.0 |3890  |1        |(262144,[3416,3594,30644,49914,68404,82514,148293,192774,221527,241275,245500],[3.0,8.0,74.0,2.0,3890.0,3.0,302.0,199.9,129.0,17.8,220.0]) |[-1.4606528335492956,1.4606528335492956]|[0.18836749633133368,0.8116325036686663]|1.0       |\n",
            "|19.7|258.0       |110|195   |8.0   |3.08   |1           |3        |171.5 |77.0 |3375  |1        |(262144,[3416,3594,30644,49914,68404,82514,148293,192774,221527,241275,245500],[3.0,8.0,77.0,1.0,3375.0,3.08,258.0,171.5,110.0,19.7,195.0])|[-1.3966659916882098,1.3966659916882098]|[0.19834570127113085,0.8016542987288692]|1.0       |\n",
            "+----+------------+---+------+------+-------+------------+---------+------+-----+------+---------+-------------------------------------------------------------------------------------------------------------------------------------------+----------------------------------------+----------------------------------------+----------+\n",
            "only showing top 5 rows\n",
            "\n"
          ]
        }
      ]
    },
    {
      "cell_type": "code",
      "source": [
        "result.select(\"automatic\",\"prediction\").show()\n",
        "# let's evaluate accuracy\n",
        "from pyspark.ml.evaluation import MulticlassClassificationEvaluator\n",
        "evaluator = MulticlassClassificationEvaluator(predictionCol = \"prediction\", labelCol = \"automatic\", metricName = \"accuracy\")\n",
        "accuracy = evaluator.evaluate(result)\n",
        "print(accuracy)\n",
        "# try other metricnames"
      ],
      "metadata": {
        "colab": {
          "base_uri": "https://localhost:8080/"
        },
        "id": "EGmnHF3QkdjG",
        "outputId": "438abc2d-ebec-43e4-bb53-aaa85bd8b126"
      },
      "execution_count": 39,
      "outputs": [
        {
          "output_type": "stream",
          "name": "stdout",
          "text": [
            "+---------+----------+\n",
            "|automatic|prediction|\n",
            "+---------+----------+\n",
            "|        1|       1.0|\n",
            "|        1|       1.0|\n",
            "|        1|       1.0|\n",
            "|        1|       1.0|\n",
            "|        1|       1.0|\n",
            "|        0|       1.0|\n",
            "|        0|       1.0|\n",
            "|        0|       1.0|\n",
            "+---------+----------+\n",
            "\n",
            "0.625\n"
          ]
        }
      ]
    },
    {
      "cell_type": "code",
      "source": [
        "!wget https://an-utd-python.s3.us-west-1.amazonaws.com/yelp_labelled.txt"
      ],
      "metadata": {
        "colab": {
          "base_uri": "https://localhost:8080/"
        },
        "id": "ypm224aLlGy6",
        "outputId": "a51e479e-aabc-4e4f-ef78-cb5a0192bd74"
      },
      "execution_count": 40,
      "outputs": [
        {
          "output_type": "stream",
          "name": "stdout",
          "text": [
            "--2025-10-18 23:08:11--  https://an-utd-python.s3.us-west-1.amazonaws.com/yelp_labelled.txt\n",
            "Resolving an-utd-python.s3.us-west-1.amazonaws.com (an-utd-python.s3.us-west-1.amazonaws.com)... 52.219.112.241, 16.15.0.16, 52.219.117.122, ...\n",
            "Connecting to an-utd-python.s3.us-west-1.amazonaws.com (an-utd-python.s3.us-west-1.amazonaws.com)|52.219.112.241|:443... connected.\n",
            "HTTP request sent, awaiting response... 200 OK\n",
            "Length: 61320 (60K) [text/plain]\n",
            "Saving to: ‘yelp_labelled.txt’\n",
            "\n",
            "yelp_labelled.txt   100%[===================>]  59.88K  --.-KB/s    in 0.04s   \n",
            "\n",
            "2025-10-18 23:08:11 (1.52 MB/s) - ‘yelp_labelled.txt’ saved [61320/61320]\n",
            "\n"
          ]
        }
      ]
    },
    {
      "cell_type": "code",
      "source": [
        "df = spark.read.option(\"header\",\"false\").option(\"inferSchema\",\"true\").option(\"delimiter\",\"\\t\").csv(\"yelp_labelled.txt\").toDF(\"text\", \"label\")"
      ],
      "metadata": {
        "id": "FWV-O5ZMlLMt"
      },
      "execution_count": 89,
      "outputs": []
    },
    {
      "cell_type": "code",
      "source": [
        "df = spark.read.option(\"header\",\"false\").option(\"inferSchema\",\"true\").option(\"delimiter\",\"\\t\").csv(\"yelp_labelled.txt\")"
      ],
      "metadata": {
        "id": "bcKx0_NUyAzx"
      },
      "execution_count": 87,
      "outputs": []
    },
    {
      "cell_type": "code",
      "source": [
        "df.show(5)"
      ],
      "metadata": {
        "colab": {
          "base_uri": "https://localhost:8080/"
        },
        "id": "HVVr4RxUofZD",
        "outputId": "bcc939f9-7716-4943-8a44-fd1a367edafe"
      },
      "execution_count": 90,
      "outputs": [
        {
          "output_type": "stream",
          "name": "stdout",
          "text": [
            "+--------------------+-----+\n",
            "|                text|label|\n",
            "+--------------------+-----+\n",
            "|Wow... Loved this...|    1|\n",
            "|  Crust is not good.|    0|\n",
            "|Not tasty and the...|    0|\n",
            "|Stopped by during...|    1|\n",
            "|The selection on ...|    1|\n",
            "+--------------------+-----+\n",
            "only showing top 5 rows\n",
            "\n"
          ]
        }
      ]
    },
    {
      "cell_type": "code",
      "source": [
        "tokenizer = Tokenizer(inputCol=\"text\", outputCol=\"words\")\n",
        "wordsData = tokenizer.transform(df)"
      ],
      "metadata": {
        "id": "6EkoN1OSoPus"
      },
      "execution_count": 54,
      "outputs": []
    },
    {
      "cell_type": "code",
      "source": [
        "type(wordsData)\n",
        "wordsData.show(5)"
      ],
      "metadata": {
        "colab": {
          "base_uri": "https://localhost:8080/"
        },
        "id": "5Dovtu-doiEO",
        "outputId": "cf5a8269-ae70-43ea-be9a-70c1ae0361d7"
      },
      "execution_count": 56,
      "outputs": [
        {
          "output_type": "stream",
          "name": "stdout",
          "text": [
            "+--------------------+-----+--------------------+\n",
            "|                text|label|               words|\n",
            "+--------------------+-----+--------------------+\n",
            "|Wow... Loved this...|    1|[wow..., loved, t...|\n",
            "|  Crust is not good.|    0|[crust, is, not, ...|\n",
            "|Not tasty and the...|    0|[not, tasty, and,...|\n",
            "|Stopped by during...|    1|[stopped, by, dur...|\n",
            "|The selection on ...|    1|[the, selection, ...|\n",
            "+--------------------+-----+--------------------+\n",
            "only showing top 5 rows\n",
            "\n"
          ]
        }
      ]
    },
    {
      "cell_type": "code",
      "source": [
        "remover = StopWordsRemover(inputCol=\"words\", outputCol=\"filtered\")\n",
        "stopWordRemoved = remover.transform(wordsData)\n",
        "stopWordRemoved.show(5)"
      ],
      "metadata": {
        "colab": {
          "base_uri": "https://localhost:8080/"
        },
        "id": "x7f-S5qMo3lP",
        "outputId": "67aeef13-f204-4673-e3d6-fe1a0f15ef50"
      },
      "execution_count": 57,
      "outputs": [
        {
          "output_type": "stream",
          "name": "stdout",
          "text": [
            "+--------------------+-----+--------------------+--------------------+\n",
            "|                text|label|               words|            filtered|\n",
            "+--------------------+-----+--------------------+--------------------+\n",
            "|Wow... Loved this...|    1|[wow..., loved, t...|[wow..., loved, p...|\n",
            "|  Crust is not good.|    0|[crust, is, not, ...|      [crust, good.]|\n",
            "|Not tasty and the...|    0|[not, tasty, and,...|[tasty, texture, ...|\n",
            "|Stopped by during...|    1|[stopped, by, dur...|[stopped, late, m...|\n",
            "|The selection on ...|    1|[the, selection, ...|[selection, menu,...|\n",
            "+--------------------+-----+--------------------+--------------------+\n",
            "only showing top 5 rows\n",
            "\n"
          ]
        }
      ]
    },
    {
      "cell_type": "code",
      "source": [
        "from pyspark.ml.feature import Tokenizer, RegexTokenizer, StopWordsRemover #Feature Transformers\n",
        "from pyspark.ml.feature import HashingTF, IDF, FeatureHasher  #Feature Extractors"
      ],
      "metadata": {
        "id": "1dHD5PyhpM5t"
      },
      "execution_count": 59,
      "outputs": []
    },
    {
      "cell_type": "code",
      "source": [
        "hashingTF = HashingTF(inputCol=\"words\", outputCol=\"rawFeatures\", numFeatures=20)\n",
        "featurizedData = hashingTF.transform(stopWordRemoved)"
      ],
      "metadata": {
        "id": "knFn2Ac9pC-D"
      },
      "execution_count": 72,
      "outputs": []
    },
    {
      "cell_type": "code",
      "source": [
        "featurizedData.show(5, truncate=False)"
      ],
      "metadata": {
        "colab": {
          "base_uri": "https://localhost:8080/"
        },
        "id": "C0y24ob3pP43",
        "outputId": "faecc94e-3bf5-4753-de01-bcdbcf0169ac"
      },
      "execution_count": 73,
      "outputs": [
        {
          "output_type": "stream",
          "name": "stdout",
          "text": [
            "+---------------------------------------------------------------------------------------+-----+-------------------------------------------------------------------------------------------------------+----------------------------------------------------------------------------+--------------------------------------------------------------------------------------------------+\n",
            "|text                                                                                   |label|words                                                                                                  |filtered                                                                    |rawFeatures                                                                                       |\n",
            "+---------------------------------------------------------------------------------------+-----+-------------------------------------------------------------------------------------------------------+----------------------------------------------------------------------------+--------------------------------------------------------------------------------------------------+\n",
            "|Wow... Loved this place.                                                               |1    |[wow..., loved, this, place.]                                                                          |[wow..., loved, place.]                                                     |(20,[2,9,11,13],[1.0,1.0,1.0,1.0])                                                                |\n",
            "|Crust is not good.                                                                     |0    |[crust, is, not, good.]                                                                                |[crust, good.]                                                              |(20,[5,9,18,19],[1.0,1.0,1.0,1.0])                                                                |\n",
            "|Not tasty and the texture was just nasty.                                              |0    |[not, tasty, and, the, texture, was, just, nasty.]                                                     |[tasty, texture, nasty.]                                                    |(20,[2,3,5,7,11,17],[1.0,1.0,3.0,1.0,1.0,1.0])                                                    |\n",
            "|Stopped by during the late May bank holiday off Rick Steve recommendation and loved it.|1    |[stopped, by, during, the, late, may, bank, holiday, off, rick, steve, recommendation, and, loved, it.]|[stopped, late, may, bank, holiday, rick, steve, recommendation, loved, it.]|(20,[0,1,2,3,4,5,7,9,10,11,13,15,17,19],[1.0,1.0,1.0,2.0,1.0,1.0,1.0,1.0,1.0,1.0,1.0,1.0,1.0,1.0])|\n",
            "|The selection on the menu was great and so were the prices.                            |1    |[the, selection, on, the, menu, was, great, and, so, were, the, prices.]                               |[selection, menu, great, prices.]                                           |(20,[2,3,10,11,13,16,17],[1.0,2.0,2.0,2.0,1.0,1.0,3.0])                                           |\n",
            "+---------------------------------------------------------------------------------------+-----+-------------------------------------------------------------------------------------------------------+----------------------------------------------------------------------------+--------------------------------------------------------------------------------------------------+\n",
            "only showing top 5 rows\n",
            "\n"
          ]
        }
      ]
    },
    {
      "cell_type": "code",
      "source": [
        "idf = IDF(inputCol=\"rawFeatures\", outputCol=\"features\")\n",
        "idfModel = idf.fit(featurizedData)\n",
        "rescaledData = idfModel.transform(featurizedData)\n",
        "rescaledData.show(5,truncate=False)"
      ],
      "metadata": {
        "colab": {
          "base_uri": "https://localhost:8080/"
        },
        "id": "EU0d4XSds5LB",
        "outputId": "f5727943-43f2-4641-b90b-dd99375ada75"
      },
      "execution_count": 76,
      "outputs": [
        {
          "output_type": "stream",
          "name": "stdout",
          "text": [
            "+---------------------------------------------------------------------------------------+-----+-------------------------------------------------------------------------------------------------------+----------------------------------------------------------------------------+--------------------------------------------------------------------------------------------------+------------------------------------------------------------------------------------------------------------------------------------------------------------------------------------------------------------------------------------------------------------------------------------------------------------------+\n",
            "|text                                                                                   |label|words                                                                                                  |filtered                                                                    |rawFeatures                                                                                       |features                                                                                                                                                                                                                                                                                                          |\n",
            "+---------------------------------------------------------------------------------------+-----+-------------------------------------------------------------------------------------------------------+----------------------------------------------------------------------------+--------------------------------------------------------------------------------------------------+------------------------------------------------------------------------------------------------------------------------------------------------------------------------------------------------------------------------------------------------------------------------------------------------------------------+\n",
            "|Wow... Loved this place.                                                               |1    |[wow..., loved, this, place.]                                                                          |[wow..., loved, place.]                                                     |(20,[2,9,11,13],[1.0,1.0,1.0,1.0])                                                                |(20,[2,9,11,13],[1.3635773348356581,0.8174448972375224,0.630233355149376,0.8780695190539572])                                                                                                                                                                                                                     |\n",
            "|Crust is not good.                                                                     |0    |[crust, is, not, good.]                                                                                |[crust, good.]                                                              |(20,[5,9,18,19],[1.0,1.0,1.0,1.0])                                                                |(20,[5,9,18,19],[0.9147933520086514,0.8174448972375224,1.4534336639575192,1.1950219738058514])                                                                                                                                                                                                                    |\n",
            "|Not tasty and the texture was just nasty.                                              |0    |[not, tasty, and, the, texture, was, just, nasty.]                                                     |[tasty, texture, nasty.]                                                    |(20,[2,3,5,7,11,17],[1.0,1.0,3.0,1.0,1.0,1.0])                                                    |(20,[2,3,5,7,11,17],[1.3635773348356581,0.5631184184866247,2.744380056025954,0.897487604911059,0.630233355149376,0.5440040224633094])                                                                                                                                                                             |\n",
            "|Stopped by during the late May bank holiday off Rick Steve recommendation and loved it.|1    |[stopped, by, during, the, late, may, bank, holiday, off, rick, steve, recommendation, and, loved, it.]|[stopped, late, may, bank, holiday, rick, steve, recommendation, loved, it.]|(20,[0,1,2,3,4,5,7,9,10,11,13,15,17,19],[1.0,1.0,1.0,2.0,1.0,1.0,1.0,1.0,1.0,1.0,1.0,1.0,1.0,1.0])|(20,[0,1,2,3,4,5,7,9,10,11,13,15,17,19],[1.1066364039381575,1.1467033965350437,1.3635773348356581,1.1262368369732494,0.9248184986280302,0.9147933520086514,0.897487604911059,0.8174448972375224,0.7995071965508551,0.630233355149376,0.8780695190539572,0.9400472193298548,0.5440040224633094,1.1950219738058514])|\n",
            "|The selection on the menu was great and so were the prices.                            |1    |[the, selection, on, the, menu, was, great, and, so, were, the, prices.]                               |[selection, menu, great, prices.]                                           |(20,[2,3,10,11,13,16,17],[1.0,2.0,2.0,2.0,1.0,1.0,3.0])                                           |(20,[2,3,10,11,13,16,17],[1.3635773348356581,1.1262368369732494,1.5990143931017102,1.260466710298752,0.8780695190539572,0.7995071965508551,1.632012067389928])                                                                                                                                                    |\n",
            "+---------------------------------------------------------------------------------------+-----+-------------------------------------------------------------------------------------------------------+----------------------------------------------------------------------------+--------------------------------------------------------------------------------------------------+------------------------------------------------------------------------------------------------------------------------------------------------------------------------------------------------------------------------------------------------------------------------------------------------------------------+\n",
            "only showing top 5 rows\n",
            "\n"
          ]
        }
      ]
    },
    {
      "cell_type": "code",
      "source": [
        "# create a logistic regression model\n",
        "\n",
        "train, test = rescaledData.randomSplit([0.9, 0.1], seed = 6579)\n",
        "train.show(5)\n",
        "test.show(5)\n",
        "\n",
        "\n"
      ],
      "metadata": {
        "colab": {
          "base_uri": "https://localhost:8080/"
        },
        "id": "Psv_Y-iItY2h",
        "outputId": "47690359-8e37-4027-ec80-62cab59d99eb"
      },
      "execution_count": 77,
      "outputs": [
        {
          "output_type": "stream",
          "name": "stdout",
          "text": [
            "+--------------------+-----+--------------------+--------------------+--------------------+--------------------+\n",
            "|                text|label|               words|            filtered|         rawFeatures|            features|\n",
            "+--------------------+-----+--------------------+--------------------+--------------------+--------------------+\n",
            "|!....THE OWNERS R...|    0|[!....the, owners...|[!....the, owners...|(20,[2,3,4,5,7,8,...|(20,[2,3,4,5,7,8,...|\n",
            "|(It wasn't busy e...|    0|[(it, wasn't, bus...|[(it, busy, eithe...|(20,[3,4,5,7,10,1...|(20,[3,4,5,7,10,1...|\n",
            "|(The bathroom is ...|    1|[(the, bathroom, ...|[(the, bathroom, ...|(20,[4,7,9,11,13,...|(20,[4,7,9,11,13,...|\n",
            "|* Both the Hot & ...|    1|[*, both, the, ho...|[*, hot, &, sour,...|(20,[1,2,3,6,8,11...|(20,[1,2,3,6,8,11...|\n",
            "|- Really, really ...|    1|[-, really,, real...|[-, really,, real...|(20,[7,8,12,13,16...|(20,[7,8,12,13,16...|\n",
            "+--------------------+-----+--------------------+--------------------+--------------------+--------------------+\n",
            "only showing top 5 rows\n",
            "\n",
            "+--------------------+-----+--------------------+--------------------+--------------------+--------------------+\n",
            "|                text|label|               words|            filtered|         rawFeatures|            features|\n",
            "+--------------------+-----+--------------------+--------------------+--------------------+--------------------+\n",
            "|       2 Thumbs Up!!|    1|   [2, thumbs, up!!]|   [2, thumbs, up!!]|(20,[10,12,15],[1...|(20,[10,12,15],[0...|\n",
            "|5 stars for the b...|    1|[5, stars, for, t...|[5, stars, brick,...|(20,[1,2,3,4,14,1...|(20,[1,2,3,4,14,1...|\n",
            "|A FLY was in my a...|    0|[a, fly, was, in,...|[fly, apple, juic...|(20,[3,4,7,8,13,1...|(20,[3,4,7,8,13,1...|\n",
            "|AN HOUR... seriou...|    0|[an, hour..., ser...|[hour..., serious...|(20,[6,10],[2.0,1...|(20,[6,10],[2.113...|\n",
            "|After 20 minutes ...|    0|[after, 20, minut...|[20, minutes, wai...|(20,[4,6,7,10,12,...|(20,[4,6,7,10,12,...|\n",
            "+--------------------+-----+--------------------+--------------------+--------------------+--------------------+\n",
            "only showing top 5 rows\n",
            "\n"
          ]
        }
      ]
    },
    {
      "cell_type": "code",
      "source": [
        "lr = LogisticRegression(regParam=0.3, elasticNetParam=0.8, maxIter = 1000)\n",
        "model = lr.fit(train)\n",
        "result = model.transform(test)\n",
        "result.show(5, truncate=False)\n"
      ],
      "metadata": {
        "colab": {
          "base_uri": "https://localhost:8080/"
        },
        "id": "WvRIMJRutrXp",
        "outputId": "a9ad4f92-978d-47a7-ec59-e90ac348a71b"
      },
      "execution_count": 78,
      "outputs": [
        {
          "output_type": "stream",
          "name": "stdout",
          "text": [
            "+-------------------------------------------+-----+-----------------------------------------------------+------------------------------------+-----------------------------------------------+----------------------------------------------------------------------------------------------------------------------------------------+--------------------------------------------+----------------------------------------+----------+\n",
            "|text                                       |label|words                                                |filtered                            |rawFeatures                                    |features                                                                                                                                |rawPrediction                               |probability                             |prediction|\n",
            "+-------------------------------------------+-----+-----------------------------------------------------+------------------------------------+-----------------------------------------------+----------------------------------------------------------------------------------------------------------------------------------------+--------------------------------------------+----------------------------------------+----------+\n",
            "|2 Thumbs Up!!                              |1    |[2, thumbs, up!!]                                    |[2, thumbs, up!!]                   |(20,[10,12,15],[1.0,1.0,1.0])                  |(20,[10,12,15],[0.7995071965508551,1.0623160042574964,0.9400472193298548])                                                              |[-0.004424785980355636,0.004424785980355636]|[0.49889380530973454,0.5011061946902655]|1.0       |\n",
            "|5 stars for the brick oven bread app!      |1    |[5, stars, for, the, brick, oven, bread, app!]       |[5, stars, brick, oven, bread, app!]|(20,[1,2,3,4,14,17],[2.0,2.0,1.0,1.0,1.0,1.0]) |(20,[1,2,3,4,14,17],[2.2934067930700874,2.7271546696713163,0.5631184184866247,0.9248184986280302,1.371420512296684,0.5440040224633094]) |[-0.004424785980355636,0.004424785980355636]|[0.49889380530973454,0.5011061946902655]|1.0       |\n",
            "|A FLY was in my apple juice.. A FLY!!!!!!!!|0    |[a, fly, was, in, my, apple, juice.., a, fly!!!!!!!!]|[fly, apple, juice.., fly!!!!!!!!]  |(20,[3,4,7,8,13,17],[2.0,1.0,2.0,1.0,2.0,1.0]) |(20,[3,4,7,8,13,17],[1.1262368369732494,0.9248184986280302,1.794975209822118,0.7433369250838007,1.7561390381079145,0.5440040224633094]) |[-0.004424785980355636,0.004424785980355636]|[0.49889380530973454,0.5011061946902655]|1.0       |\n",
            "|AN HOUR... seriously?                      |0    |[an, hour..., seriously?]                            |[hour..., seriously?]               |(20,[6,10],[2.0,1.0])                          |(20,[6,10],[2.1131045990814927,0.7995071965508551])                                                                                     |[-0.004424785980355636,0.004424785980355636]|[0.49889380530973454,0.5011061946902655]|1.0       |\n",
            "|After 20 minutes wait, I got a table.      |0    |[after, 20, minutes, wait,, i, got, a, table.]       |[20, minutes, wait,, got, table.]   |(20,[4,6,7,10,12,16],[2.0,1.0,1.0,1.0,1.0,2.0])|(20,[4,6,7,10,12,16],[1.8496369972560605,1.0565522995407464,0.897487604911059,0.7995071965508551,1.0623160042574964,1.5990143931017102])|[-0.004424785980355636,0.004424785980355636]|[0.49889380530973454,0.5011061946902655]|1.0       |\n",
            "+-------------------------------------------+-----+-----------------------------------------------------+------------------------------------+-----------------------------------------------+----------------------------------------------------------------------------------------------------------------------------------------+--------------------------------------------+----------------------------------------+----------+\n",
            "only showing top 5 rows\n",
            "\n"
          ]
        }
      ]
    },
    {
      "cell_type": "code",
      "source": [
        "type(model)"
      ],
      "metadata": {
        "colab": {
          "base_uri": "https://localhost:8080/",
          "height": 156
        },
        "id": "TjFBu1yLt-rM",
        "outputId": "2d969aab-2062-4189-f38d-d91fd5ffd337"
      },
      "execution_count": 79,
      "outputs": [
        {
          "output_type": "execute_result",
          "data": {
            "text/plain": [
              "pyspark.ml.classification.LogisticRegressionModel"
            ],
            "text/html": [
              "<div style=\"max-width:800px; border: 1px solid var(--colab-border-color);\"><style>\n",
              "      pre.function-repr-contents {\n",
              "        overflow-x: auto;\n",
              "        padding: 8px 12px;\n",
              "        max-height: 500px;\n",
              "      }\n",
              "\n",
              "      pre.function-repr-contents.function-repr-contents-collapsed {\n",
              "        cursor: pointer;\n",
              "        max-height: 100px;\n",
              "      }\n",
              "    </style>\n",
              "    <pre style=\"white-space: initial; background:\n",
              "         var(--colab-secondary-surface-color); padding: 8px 12px;\n",
              "         border-bottom: 1px solid var(--colab-border-color);\"><b>pyspark.ml.classification.LogisticRegressionModel</b><br/>def __init__(java_model: Optional[&#x27;JavaObject&#x27;]=None)</pre><pre class=\"function-repr-contents function-repr-contents-collapsed\" style=\"\"><a class=\"filepath\" style=\"display:none\" href=\"#\">/usr/local/lib/python3.12/dist-packages/pyspark/ml/classification.py</a>Model fitted by LogisticRegression.\n",
              "\n",
              ".. versionadded:: 1.3.0</pre>\n",
              "      <script>\n",
              "      if (google.colab.kernel.accessAllowed && google.colab.files && google.colab.files.view) {\n",
              "        for (const element of document.querySelectorAll('.filepath')) {\n",
              "          element.style.display = 'block'\n",
              "          element.onclick = (event) => {\n",
              "            event.preventDefault();\n",
              "            event.stopPropagation();\n",
              "            google.colab.files.view(element.textContent, 1517);\n",
              "          };\n",
              "        }\n",
              "      }\n",
              "      for (const element of document.querySelectorAll('.function-repr-contents')) {\n",
              "        element.onclick = (event) => {\n",
              "          event.preventDefault();\n",
              "          event.stopPropagation();\n",
              "          element.classList.toggle('function-repr-contents-collapsed');\n",
              "        };\n",
              "      }\n",
              "      </script>\n",
              "      </div>"
            ]
          },
          "metadata": {},
          "execution_count": 79
        }
      ]
    },
    {
      "cell_type": "code",
      "source": [
        "evaluator = MulticlassClassificationEvaluator(metricName = \"accuracy\")\n",
        "accuracy = evaluator.evaluate(result)\n",
        "print(accuracy)"
      ],
      "metadata": {
        "colab": {
          "base_uri": "https://localhost:8080/"
        },
        "id": "w-dxqIVbuAzp",
        "outputId": "ecff97ea-31c0-46a4-8492-91495836c30d"
      },
      "execution_count": 80,
      "outputs": [
        {
          "output_type": "stream",
          "name": "stdout",
          "text": [
            "0.4895833333333333\n"
          ]
        }
      ]
    },
    {
      "cell_type": "code",
      "source": [
        "from pyspark.ml.feature import Tokenizer, RegexTokenizer, StopWordsRemover #Feature Transformers\n",
        "from pyspark.ml.feature import HashingTF, IDF, FeatureHasher  #Feature Extractors"
      ],
      "metadata": {
        "id": "eVfL0C29lqdh"
      },
      "execution_count": 42,
      "outputs": []
    },
    {
      "cell_type": "code",
      "source": [
        "from pyspark.ml.feature import Tokenizer, RegexTokenizer\n",
        "from pyspark.sql.functions import col, udf\n",
        "from pyspark.sql.types import IntegerType\n",
        "\n",
        "sentenceDataFrame = spark.createDataFrame([\n",
        "    (0, \"Hi I heard about Spark\"),\n",
        "    (1, \"I wish Java could use case classes\"),\n",
        "    (2, \"Logistic,regression,models,are,neat\")\n",
        "], [\"id\", \"sentence\"])\n",
        "\n",
        "tokenizer = Tokenizer(inputCol=\"sentence\", outputCol=\"words\")\n",
        "\n",
        "regexTokenizer = RegexTokenizer(inputCol=\"sentence\", outputCol=\"words\", pattern=\"\\\\W\", gaps=True)\n",
        "# alternatively, pattern=\"\\\\w+\", gaps(False)\n",
        "\n",
        "countTokens = udf(lambda words: len(words), IntegerType())\n",
        "\n",
        "tokenized = tokenizer.transform(sentenceDataFrame)\n",
        "tokenized.select(\"sentence\", \"words\")\\\n",
        "    .withColumn(\"tokens\", countTokens(col(\"words\"))).show(truncate=False)\n",
        "\n",
        "regexTokenized = regexTokenizer.transform(sentenceDataFrame)\n",
        "regexTokenized.select(\"sentence\", \"words\") \\\n",
        ".withColumn(\"tokens\", countTokens(col(\"words\"))).show(truncate=False)"
      ],
      "metadata": {
        "colab": {
          "base_uri": "https://localhost:8080/"
        },
        "id": "IZQy5ZR5mwwV",
        "outputId": "05e22e04-b7c8-41e5-d44c-c9080666e314"
      },
      "execution_count": 48,
      "outputs": [
        {
          "output_type": "stream",
          "name": "stdout",
          "text": [
            "+-----------------------------------+------------------------------------------+------+\n",
            "|sentence                           |words                                     |tokens|\n",
            "+-----------------------------------+------------------------------------------+------+\n",
            "|Hi I heard about Spark             |[hi, i, heard, about, spark]              |5     |\n",
            "|I wish Java could use case classes |[i, wish, java, could, use, case, classes]|7     |\n",
            "|Logistic,regression,models,are,neat|[logistic,regression,models,are,neat]     |1     |\n",
            "+-----------------------------------+------------------------------------------+------+\n",
            "\n",
            "+-----------------------------------+------------------------------------------+------+\n",
            "|sentence                           |words                                     |tokens|\n",
            "+-----------------------------------+------------------------------------------+------+\n",
            "|Hi I heard about Spark             |[hi, i, heard, about, spark]              |5     |\n",
            "|I wish Java could use case classes |[i, wish, java, could, use, case, classes]|7     |\n",
            "|Logistic,regression,models,are,neat|[logistic, regression, models, are, neat] |5     |\n",
            "+-----------------------------------+------------------------------------------+------+\n",
            "\n"
          ]
        }
      ]
    },
    {
      "cell_type": "code",
      "source": [
        "sentenceData = spark.createDataFrame([\n",
        "    (0.0, \"Hi I heard about Spark\"),\n",
        "    (0.0, \"I wish Java could use case classes\"),\n",
        "    (1.0, \"Logistic regression models are neat\")\n",
        "], [\"label\", \"sentence\"])\n",
        "\n",
        "tokenizer = Tokenizer(inputCol=\"sentence\", outputCol=\"words\")\n",
        "wordsData = tokenizer.transform(sentenceData)\n",
        "\n",
        "wordsData.show(truncate=False)\n",
        "\n",
        "hashingTF = HashingTF(inputCol=\"words\", outputCol=\"rawFeatures\", numFeatures=20)\n",
        "featurizedData = hashingTF.transform(wordsData)\n",
        "# alternatively, CountVectorizer can also be used to get term frequency vectors\n",
        "\n",
        "featurizedData.show(truncate=False)\n",
        "\n",
        "idf = IDF(inputCol=\"rawFeatures\", outputCol=\"features\")\n",
        "idfModel = idf.fit(featurizedData)\n",
        "rescaledData = idfModel.transform(featurizedData)\n",
        "\n",
        "rescaledData.select(\"label\", \"features\").show(truncate=False)"
      ],
      "metadata": {
        "colab": {
          "base_uri": "https://localhost:8080/"
        },
        "id": "SSwutHCMr91B",
        "outputId": "7ebaf638-d6e8-41ff-b8ed-143127e37c99"
      },
      "execution_count": 69,
      "outputs": [
        {
          "output_type": "stream",
          "name": "stdout",
          "text": [
            "+-----+-----------------------------------+------------------------------------------+\n",
            "|label|sentence                           |words                                     |\n",
            "+-----+-----------------------------------+------------------------------------------+\n",
            "|0.0  |Hi I heard about Spark             |[hi, i, heard, about, spark]              |\n",
            "|0.0  |I wish Java could use case classes |[i, wish, java, could, use, case, classes]|\n",
            "|1.0  |Logistic regression models are neat|[logistic, regression, models, are, neat] |\n",
            "+-----+-----------------------------------+------------------------------------------+\n",
            "\n",
            "+-----+-----------------------------------+------------------------------------------+-----------------------------------------------+\n",
            "|label|sentence                           |words                                     |rawFeatures                                    |\n",
            "+-----+-----------------------------------+------------------------------------------+-----------------------------------------------+\n",
            "|0.0  |Hi I heard about Spark             |[hi, i, heard, about, spark]              |(20,[6,8,13,16],[1.0,1.0,1.0,2.0])             |\n",
            "|0.0  |I wish Java could use case classes |[i, wish, java, could, use, case, classes]|(20,[0,2,7,13,15,16],[1.0,1.0,2.0,1.0,1.0,1.0])|\n",
            "|1.0  |Logistic regression models are neat|[logistic, regression, models, are, neat] |(20,[3,4,6,11,19],[1.0,1.0,1.0,1.0,1.0])       |\n",
            "+-----+-----------------------------------+------------------------------------------+-----------------------------------------------+\n",
            "\n",
            "+-----+-------------------------------------------------------------------------------------------------------------------------------------------+\n",
            "|label|features                                                                                                                                   |\n",
            "+-----+-------------------------------------------------------------------------------------------------------------------------------------------+\n",
            "|0.0  |(20,[6,8,13,16],[0.28768207245178085,0.6931471805599453,0.28768207245178085,0.5753641449035617])                                           |\n",
            "|0.0  |(20,[0,2,7,13,15,16],[0.6931471805599453,0.6931471805599453,1.3862943611198906,0.28768207245178085,0.6931471805599453,0.28768207245178085])|\n",
            "|1.0  |(20,[3,4,6,11,19],[0.6931471805599453,0.6931471805599453,0.28768207245178085,0.6931471805599453,0.6931471805599453])                       |\n",
            "+-----+-------------------------------------------------------------------------------------------------------------------------------------------+\n",
            "\n"
          ]
        }
      ]
    },
    {
      "cell_type": "code",
      "source": [
        "!wget https://an-utd-course.s3-us-west-1.amazonaws.com/car-milage.csv"
      ],
      "metadata": {
        "colab": {
          "base_uri": "https://localhost:8080/"
        },
        "id": "9DkMZDbms2EX",
        "outputId": "bcdef07a-8341-4537-bb78-f560adfb3153"
      },
      "execution_count": 81,
      "outputs": [
        {
          "output_type": "stream",
          "name": "stdout",
          "text": [
            "--2025-10-18 23:47:52--  https://an-utd-course.s3-us-west-1.amazonaws.com/car-milage.csv\n",
            "Resolving an-utd-course.s3-us-west-1.amazonaws.com (an-utd-course.s3-us-west-1.amazonaws.com)... 52.219.113.17, 16.15.0.248, 52.219.113.73, ...\n",
            "Connecting to an-utd-course.s3-us-west-1.amazonaws.com (an-utd-course.s3-us-west-1.amazonaws.com)|52.219.113.17|:443... connected.\n",
            "HTTP request sent, awaiting response... 200 OK\n",
            "Length: 1569 (1.5K) [text/csv]\n",
            "Saving to: ‘car-milage.csv.1’\n",
            "\n",
            "car-milage.csv.1    100%[===================>]   1.53K  --.-KB/s    in 0s      \n",
            "\n",
            "2025-10-18 23:47:53 (91.2 MB/s) - ‘car-milage.csv.1’ saved [1569/1569]\n",
            "\n"
          ]
        }
      ]
    },
    {
      "cell_type": "code",
      "source": [
        "#Libraries\n",
        "from pyspark.ml.regression import LinearRegression\n",
        "from pyspark.ml.linalg import Vectors\n",
        "from pyspark.ml.feature import VectorAssembler\n",
        "from pyspark.ml.evaluation import RegressionEvaluator"
      ],
      "metadata": {
        "id": "nQ4QLLfRuQvc"
      },
      "execution_count": 83,
      "outputs": []
    },
    {
      "cell_type": "code",
      "source": [
        "cars = spark.read.option(\"header\",\"true\"). option(\"inferSchema\",\"true\").csv(\"car-milage.csv.1\")\n",
        "cars.show(5)\n",
        "type(cars)"
      ],
      "metadata": {
        "colab": {
          "base_uri": "https://localhost:8080/",
          "height": 377
        },
        "id": "JR_Vi64YuV4n",
        "outputId": "bbdf677c-e96e-4846-aba8-f8899a25e34e"
      },
      "execution_count": 94,
      "outputs": [
        {
          "output_type": "stream",
          "name": "stdout",
          "text": [
            "+-----+------------+---+------+------+-------+------------+---------+------+-----+------+---------+\n",
            "|  mpg|displacement| hp|torque|CRatio|RARatio|CarbBarrells|NoOfSpeed|length|width|weight|automatic|\n",
            "+-----+------------+---+------+------+-------+------------+---------+------+-----+------+---------+\n",
            "| 18.9|       350.0|165|   260|   8.0|   2.56|           4|        3| 200.3| 69.9|  3910|        1|\n",
            "| 17.0|       350.0|170|   275|   8.5|   2.56|           4|        3| 199.6| 72.9|  3860|        1|\n",
            "| 20.0|       250.0|105|   185|  8.25|   2.73|           1|        3| 196.7| 72.2|  3510|        1|\n",
            "|18.25|       351.0|143|   255|   8.0|    3.0|           2|        3| 199.9| 74.0|  3890|        1|\n",
            "|20.07|       225.0| 95|   170|   8.4|   2.76|           1|        3| 194.1| 71.8|  3365|        0|\n",
            "+-----+------------+---+------+------+-------+------------+---------+------+-----+------+---------+\n",
            "only showing top 5 rows\n",
            "\n"
          ]
        },
        {
          "output_type": "execute_result",
          "data": {
            "text/plain": [
              "pyspark.sql.dataframe.DataFrame"
            ],
            "text/html": [
              "<div style=\"max-width:800px; border: 1px solid var(--colab-border-color);\"><style>\n",
              "      pre.function-repr-contents {\n",
              "        overflow-x: auto;\n",
              "        padding: 8px 12px;\n",
              "        max-height: 500px;\n",
              "      }\n",
              "\n",
              "      pre.function-repr-contents.function-repr-contents-collapsed {\n",
              "        cursor: pointer;\n",
              "        max-height: 100px;\n",
              "      }\n",
              "    </style>\n",
              "    <pre style=\"white-space: initial; background:\n",
              "         var(--colab-secondary-surface-color); padding: 8px 12px;\n",
              "         border-bottom: 1px solid var(--colab-border-color);\"><b>pyspark.sql.dataframe.DataFrame</b><br/>def __init__(jdf: JavaObject, sql_ctx: Union[&#x27;SQLContext&#x27;, &#x27;SparkSession&#x27;])</pre><pre class=\"function-repr-contents function-repr-contents-collapsed\" style=\"\"><a class=\"filepath\" style=\"display:none\" href=\"#\">/usr/local/lib/python3.12/dist-packages/pyspark/sql/dataframe.py</a>A distributed collection of data grouped into named columns.\n",
              "\n",
              ".. versionadded:: 1.3.0\n",
              "\n",
              ".. versionchanged:: 3.4.0\n",
              "    Supports Spark Connect.\n",
              "\n",
              "Examples\n",
              "--------\n",
              "A :class:`DataFrame` is equivalent to a relational table in Spark SQL,\n",
              "and can be created using various functions in :class:`SparkSession`:\n",
              "\n",
              "&gt;&gt;&gt; people = spark.createDataFrame([\n",
              "...     {&quot;deptId&quot;: 1, &quot;age&quot;: 40, &quot;name&quot;: &quot;Hyukjin Kwon&quot;, &quot;gender&quot;: &quot;M&quot;, &quot;salary&quot;: 50},\n",
              "...     {&quot;deptId&quot;: 1, &quot;age&quot;: 50, &quot;name&quot;: &quot;Takuya Ueshin&quot;, &quot;gender&quot;: &quot;M&quot;, &quot;salary&quot;: 100},\n",
              "...     {&quot;deptId&quot;: 2, &quot;age&quot;: 60, &quot;name&quot;: &quot;Xinrong Meng&quot;, &quot;gender&quot;: &quot;F&quot;, &quot;salary&quot;: 150},\n",
              "...     {&quot;deptId&quot;: 3, &quot;age&quot;: 20, &quot;name&quot;: &quot;Haejoon Lee&quot;, &quot;gender&quot;: &quot;M&quot;, &quot;salary&quot;: 200}\n",
              "... ])\n",
              "\n",
              "Once created, it can be manipulated using the various domain-specific-language\n",
              "(DSL) functions defined in: :class:`DataFrame`, :class:`Column`.\n",
              "\n",
              "To select a column from the :class:`DataFrame`, use the apply method:\n",
              "\n",
              "&gt;&gt;&gt; age_col = people.age\n",
              "\n",
              "A more concrete example:\n",
              "\n",
              "&gt;&gt;&gt; # To create DataFrame using SparkSession\n",
              "... department = spark.createDataFrame([\n",
              "...     {&quot;id&quot;: 1, &quot;name&quot;: &quot;PySpark&quot;},\n",
              "...     {&quot;id&quot;: 2, &quot;name&quot;: &quot;ML&quot;},\n",
              "...     {&quot;id&quot;: 3, &quot;name&quot;: &quot;Spark SQL&quot;}\n",
              "... ])\n",
              "\n",
              "&gt;&gt;&gt; people.filter(people.age &gt; 30).join(\n",
              "...     department, people.deptId == department.id).groupBy(\n",
              "...     department.name, &quot;gender&quot;).agg({&quot;salary&quot;: &quot;avg&quot;, &quot;age&quot;: &quot;max&quot;}).show()\n",
              "+-------+------+-----------+--------+\n",
              "|   name|gender|avg(salary)|max(age)|\n",
              "+-------+------+-----------+--------+\n",
              "|     ML|     F|      150.0|      60|\n",
              "|PySpark|     M|       75.0|      50|\n",
              "+-------+------+-----------+--------+\n",
              "\n",
              "Notes\n",
              "-----\n",
              "A DataFrame should only be created as described above. It should not be directly\n",
              "created via using the constructor.</pre>\n",
              "      <script>\n",
              "      if (google.colab.kernel.accessAllowed && google.colab.files && google.colab.files.view) {\n",
              "        for (const element of document.querySelectorAll('.filepath')) {\n",
              "          element.style.display = 'block'\n",
              "          element.onclick = (event) => {\n",
              "            event.preventDefault();\n",
              "            event.stopPropagation();\n",
              "            google.colab.files.view(element.textContent, 80);\n",
              "          };\n",
              "        }\n",
              "      }\n",
              "      for (const element of document.querySelectorAll('.function-repr-contents')) {\n",
              "        element.onclick = (event) => {\n",
              "          event.preventDefault();\n",
              "          event.stopPropagation();\n",
              "          element.classList.toggle('function-repr-contents-collapsed');\n",
              "        };\n",
              "      }\n",
              "      </script>\n",
              "      </div>"
            ]
          },
          "metadata": {},
          "execution_count": 94
        }
      ]
    },
    {
      "cell_type": "code",
      "source": [
        "cars1 = cars.na.drop()"
      ],
      "metadata": {
        "id": "o5Aczq5gyT4g"
      },
      "execution_count": 95,
      "outputs": []
    },
    {
      "cell_type": "code",
      "source": [
        "cars1.show(5)\n",
        "cars1.count()\n",
        "cars.show(100)\n",
        "cars1.show(50)"
      ],
      "metadata": {
        "colab": {
          "base_uri": "https://localhost:8080/"
        },
        "id": "KAnOD__3ymEA",
        "outputId": "e862939b-98dc-4929-9126-140b46c9c771"
      },
      "execution_count": 102,
      "outputs": [
        {
          "output_type": "stream",
          "name": "stdout",
          "text": [
            "+-----+------------+---+------+------+-------+------------+---------+------+-----+------+---------+\n",
            "|  mpg|displacement| hp|torque|CRatio|RARatio|CarbBarrells|NoOfSpeed|length|width|weight|automatic|\n",
            "+-----+------------+---+------+------+-------+------------+---------+------+-----+------+---------+\n",
            "| 18.9|       350.0|165|   260|   8.0|   2.56|           4|        3| 200.3| 69.9|  3910|        1|\n",
            "| 17.0|       350.0|170|   275|   8.5|   2.56|           4|        3| 199.6| 72.9|  3860|        1|\n",
            "| 20.0|       250.0|105|   185|  8.25|   2.73|           1|        3| 196.7| 72.2|  3510|        1|\n",
            "|18.25|       351.0|143|   255|   8.0|    3.0|           2|        3| 199.9| 74.0|  3890|        1|\n",
            "|20.07|       225.0| 95|   170|   8.4|   2.76|           1|        3| 194.1| 71.8|  3365|        0|\n",
            "+-----+------------+---+------+------+-------+------------+---------+------+-----+------+---------+\n",
            "only showing top 5 rows\n",
            "\n",
            "+-----+------------+---+------+------+-------+------------+---------+------+-----+------+---------+\n",
            "|  mpg|displacement| hp|torque|CRatio|RARatio|CarbBarrells|NoOfSpeed|length|width|weight|automatic|\n",
            "+-----+------------+---+------+------+-------+------------+---------+------+-----+------+---------+\n",
            "| 18.9|       350.0|165|   260|   8.0|   2.56|           4|        3| 200.3| 69.9|  3910|        1|\n",
            "| 17.0|       350.0|170|   275|   8.5|   2.56|           4|        3| 199.6| 72.9|  3860|        1|\n",
            "| 20.0|       250.0|105|   185|  8.25|   2.73|           1|        3| 196.7| 72.2|  3510|        1|\n",
            "|18.25|       351.0|143|   255|   8.0|    3.0|           2|        3| 199.9| 74.0|  3890|        1|\n",
            "|20.07|       225.0| 95|   170|   8.4|   2.76|           1|        3| 194.1| 71.8|  3365|        0|\n",
            "| 11.2|       440.0|215|   330|   8.2|   2.88|           4|        3| 184.5| 69.0|  4215|        1|\n",
            "|22.12|       231.0|110|   175|   8.0|   2.56|           2|        3| 179.3| 65.4|  3020|        1|\n",
            "|21.47|       262.0|110|   200|   8.5|   2.56|           2|        3| 179.3| 65.4|  3180|        1|\n",
            "| 34.7|        89.7| 70|    81|   8.2|    3.9|           2|        4| 155.7| 64.0|  1905|        0|\n",
            "| 30.4|        96.9| 75|    83|   9.0|    4.3|           2|        5| 165.2| 65.0|  2320|        0|\n",
            "| 16.5|       350.0|155|   250|   8.5|   3.08|           4|        3| 195.4| 74.4|  3885|        1|\n",
            "| 36.5|        85.3| 80|    83|   8.5|   3.89|           2|        4| 160.6| 62.2|  2009|        0|\n",
            "| 21.5|       171.0|109|   146|   8.2|   3.22|           2|        4| 170.4| 66.9|  2655|        0|\n",
            "| 19.7|       258.0|110|   195|   8.0|   3.08|           1|        3| 171.5| 77.0|  3375|        1|\n",
            "| 20.3|       140.0| 83|   109|   8.4|    3.4|           2|        4| 168.8| 69.4|  2700|        0|\n",
            "| 17.8|       302.0|129|   220|   8.0|    3.0|           2|        3| 199.9| 74.0|  3890|        1|\n",
            "|14.39|       500.0|190|   360|   8.5|   2.73|           4|        3| 224.1| 79.8|  5290|        1|\n",
            "|14.89|       440.0|215|   330|   8.2|   2.71|           4|        3| 231.0| 79.7|  5185|        1|\n",
            "| 17.8|       350.0|155|   250|   8.5|   3.08|           4|        3| 196.7| 72.2|  3910|        1|\n",
            "|16.41|       318.0|145|   255|   8.5|   2.45|           2|        3| 197.6| 71.0|  3660|        1|\n",
            "|23.54|       231.0|110|   175|   8.0|   2.56|           2|        3| 179.3| 65.4|  3050|        1|\n",
            "|21.47|       360.0|180|   290|   8.4|   2.45|           2|        3| 214.2| 76.3|  4250|        1|\n",
            "|16.59|       400.0|185|  NULL|   7.6|   3.08|           4|        3| 196.0| 73.0|  3850|        1|\n",
            "| 31.9|        96.9| 75|    83|   9.0|    4.3|           2|        5| 165.2| 61.8|  2275|        0|\n",
            "| 29.4|       140.0| 86|  NULL|   8.0|   2.92|           2|        4| 176.4| 65.4|  2150|        0|\n",
            "|13.27|       460.0|223|   366|   8.0|    3.0|           4|        3| 228.0| 79.8|  5430|        1|\n",
            "| 23.9|       133.6| 96|   120|   8.4|   3.91|           2|        5| 171.5| 63.4|  2535|        0|\n",
            "|19.73|       318.0|140|   255|   8.5|   2.71|           2|        3| 215.3| 76.3|  4370|        1|\n",
            "| 13.9|       351.0|148|   243|   8.0|   3.25|           2|        3| 215.5| 78.5|  4540|        1|\n",
            "|13.27|       351.0|148|   243|   8.0|   3.26|           2|        3| 216.1| 78.5|  4715|        1|\n",
            "|13.77|       360.0|195|   295|  8.25|   3.15|           4|        3| 209.3| 77.4|  4215|        1|\n",
            "| 16.5|       360.0|165|   255|   8.5|   2.73|           4|        3| 185.2| 69.0|  3660|        1|\n",
            "+-----+------------+---+------+------+-------+------------+---------+------+-----+------+---------+\n",
            "\n",
            "+-----+------------+---+------+------+-------+------------+---------+------+-----+------+---------+\n",
            "|  mpg|displacement| hp|torque|CRatio|RARatio|CarbBarrells|NoOfSpeed|length|width|weight|automatic|\n",
            "+-----+------------+---+------+------+-------+------------+---------+------+-----+------+---------+\n",
            "| 18.9|       350.0|165|   260|   8.0|   2.56|           4|        3| 200.3| 69.9|  3910|        1|\n",
            "| 17.0|       350.0|170|   275|   8.5|   2.56|           4|        3| 199.6| 72.9|  3860|        1|\n",
            "| 20.0|       250.0|105|   185|  8.25|   2.73|           1|        3| 196.7| 72.2|  3510|        1|\n",
            "|18.25|       351.0|143|   255|   8.0|    3.0|           2|        3| 199.9| 74.0|  3890|        1|\n",
            "|20.07|       225.0| 95|   170|   8.4|   2.76|           1|        3| 194.1| 71.8|  3365|        0|\n",
            "| 11.2|       440.0|215|   330|   8.2|   2.88|           4|        3| 184.5| 69.0|  4215|        1|\n",
            "|22.12|       231.0|110|   175|   8.0|   2.56|           2|        3| 179.3| 65.4|  3020|        1|\n",
            "|21.47|       262.0|110|   200|   8.5|   2.56|           2|        3| 179.3| 65.4|  3180|        1|\n",
            "| 34.7|        89.7| 70|    81|   8.2|    3.9|           2|        4| 155.7| 64.0|  1905|        0|\n",
            "| 30.4|        96.9| 75|    83|   9.0|    4.3|           2|        5| 165.2| 65.0|  2320|        0|\n",
            "| 16.5|       350.0|155|   250|   8.5|   3.08|           4|        3| 195.4| 74.4|  3885|        1|\n",
            "| 36.5|        85.3| 80|    83|   8.5|   3.89|           2|        4| 160.6| 62.2|  2009|        0|\n",
            "| 21.5|       171.0|109|   146|   8.2|   3.22|           2|        4| 170.4| 66.9|  2655|        0|\n",
            "| 19.7|       258.0|110|   195|   8.0|   3.08|           1|        3| 171.5| 77.0|  3375|        1|\n",
            "| 20.3|       140.0| 83|   109|   8.4|    3.4|           2|        4| 168.8| 69.4|  2700|        0|\n",
            "| 17.8|       302.0|129|   220|   8.0|    3.0|           2|        3| 199.9| 74.0|  3890|        1|\n",
            "|14.39|       500.0|190|   360|   8.5|   2.73|           4|        3| 224.1| 79.8|  5290|        1|\n",
            "|14.89|       440.0|215|   330|   8.2|   2.71|           4|        3| 231.0| 79.7|  5185|        1|\n",
            "| 17.8|       350.0|155|   250|   8.5|   3.08|           4|        3| 196.7| 72.2|  3910|        1|\n",
            "|16.41|       318.0|145|   255|   8.5|   2.45|           2|        3| 197.6| 71.0|  3660|        1|\n",
            "|23.54|       231.0|110|   175|   8.0|   2.56|           2|        3| 179.3| 65.4|  3050|        1|\n",
            "|21.47|       360.0|180|   290|   8.4|   2.45|           2|        3| 214.2| 76.3|  4250|        1|\n",
            "| 31.9|        96.9| 75|    83|   9.0|    4.3|           2|        5| 165.2| 61.8|  2275|        0|\n",
            "|13.27|       460.0|223|   366|   8.0|    3.0|           4|        3| 228.0| 79.8|  5430|        1|\n",
            "| 23.9|       133.6| 96|   120|   8.4|   3.91|           2|        5| 171.5| 63.4|  2535|        0|\n",
            "|19.73|       318.0|140|   255|   8.5|   2.71|           2|        3| 215.3| 76.3|  4370|        1|\n",
            "| 13.9|       351.0|148|   243|   8.0|   3.25|           2|        3| 215.5| 78.5|  4540|        1|\n",
            "|13.27|       351.0|148|   243|   8.0|   3.26|           2|        3| 216.1| 78.5|  4715|        1|\n",
            "|13.77|       360.0|195|   295|  8.25|   3.15|           4|        3| 209.3| 77.4|  4215|        1|\n",
            "| 16.5|       360.0|165|   255|   8.5|   2.73|           4|        3| 185.2| 69.0|  3660|        1|\n",
            "+-----+------------+---+------+------+-------+------------+---------+------+-----+------+---------+\n",
            "\n"
          ]
        }
      ]
    },
    {
      "cell_type": "code",
      "source": [
        "assembler = VectorAssembler(inputCols=[\"displacement\",\"hp\",\"torque\",\"CRatio\",\"RARatio\",\"CarbBarrells\",\"NoOfSpeed\",\"length\",\"width\",\"weight\",\"automatic\"], outputCol=\"features\")"
      ],
      "metadata": {
        "id": "iw5uR_E2zIXW"
      },
      "execution_count": 103,
      "outputs": []
    },
    {
      "cell_type": "code",
      "source": [
        "type(assembler)"
      ],
      "metadata": {
        "colab": {
          "base_uri": "https://localhost:8080/",
          "height": 203
        },
        "id": "BMcGC-SVzO2C",
        "outputId": "ef563f8a-50b2-446d-b7be-5eb0f9718af2"
      },
      "execution_count": 104,
      "outputs": [
        {
          "output_type": "execute_result",
          "data": {
            "text/plain": [
              "pyspark.ml.feature.VectorAssembler"
            ],
            "text/html": [
              "<div style=\"max-width:800px; border: 1px solid var(--colab-border-color);\"><style>\n",
              "      pre.function-repr-contents {\n",
              "        overflow-x: auto;\n",
              "        padding: 8px 12px;\n",
              "        max-height: 500px;\n",
              "      }\n",
              "\n",
              "      pre.function-repr-contents.function-repr-contents-collapsed {\n",
              "        cursor: pointer;\n",
              "        max-height: 100px;\n",
              "      }\n",
              "    </style>\n",
              "    <pre style=\"white-space: initial; background:\n",
              "         var(--colab-secondary-surface-color); padding: 8px 12px;\n",
              "         border-bottom: 1px solid var(--colab-border-color);\"><b>pyspark.ml.feature.VectorAssembler</b><br/>def __init__(*, inputCols: Optional[List[str]]=None, outputCol: Optional[str]=None, handleInvalid: str=&#x27;error&#x27;)</pre><pre class=\"function-repr-contents function-repr-contents-collapsed\" style=\"\"><a class=\"filepath\" style=\"display:none\" href=\"#\">/usr/local/lib/python3.12/dist-packages/pyspark/ml/feature.py</a>A feature transformer that merges multiple columns into a vector column.\n",
              "\n",
              ".. versionadded:: 1.4.0\n",
              "\n",
              "Examples\n",
              "--------\n",
              "&gt;&gt;&gt; df = spark.createDataFrame([(1, 0, 3)], [&quot;a&quot;, &quot;b&quot;, &quot;c&quot;])\n",
              "&gt;&gt;&gt; vecAssembler = VectorAssembler(outputCol=&quot;features&quot;)\n",
              "&gt;&gt;&gt; vecAssembler.setInputCols([&quot;a&quot;, &quot;b&quot;, &quot;c&quot;])\n",
              "VectorAssembler...\n",
              "&gt;&gt;&gt; vecAssembler.transform(df).head().features\n",
              "DenseVector([1.0, 0.0, 3.0])\n",
              "&gt;&gt;&gt; vecAssembler.setParams(outputCol=&quot;freqs&quot;).transform(df).head().freqs\n",
              "DenseVector([1.0, 0.0, 3.0])\n",
              "&gt;&gt;&gt; params = {vecAssembler.inputCols: [&quot;b&quot;, &quot;a&quot;], vecAssembler.outputCol: &quot;vector&quot;}\n",
              "&gt;&gt;&gt; vecAssembler.transform(df, params).head().vector\n",
              "DenseVector([0.0, 1.0])\n",
              "&gt;&gt;&gt; vectorAssemblerPath = temp_path + &quot;/vector-assembler&quot;\n",
              "&gt;&gt;&gt; vecAssembler.save(vectorAssemblerPath)\n",
              "&gt;&gt;&gt; loadedAssembler = VectorAssembler.load(vectorAssemblerPath)\n",
              "&gt;&gt;&gt; loadedAssembler.transform(df).head().freqs == vecAssembler.transform(df).head().freqs\n",
              "True\n",
              "&gt;&gt;&gt; dfWithNullsAndNaNs = spark.createDataFrame(\n",
              "...    [(1.0, 2.0, None), (3.0, float(&quot;nan&quot;), 4.0), (5.0, 6.0, 7.0)], [&quot;a&quot;, &quot;b&quot;, &quot;c&quot;])\n",
              "&gt;&gt;&gt; vecAssembler2 = VectorAssembler(inputCols=[&quot;a&quot;, &quot;b&quot;, &quot;c&quot;], outputCol=&quot;features&quot;,\n",
              "...    handleInvalid=&quot;keep&quot;)\n",
              "&gt;&gt;&gt; vecAssembler2.transform(dfWithNullsAndNaNs).show()\n",
              "+---+---+----+-------------+\n",
              "|  a|  b|   c|     features|\n",
              "+---+---+----+-------------+\n",
              "|1.0|2.0|NULL|[1.0,2.0,NaN]|\n",
              "|3.0|NaN| 4.0|[3.0,NaN,4.0]|\n",
              "|5.0|6.0| 7.0|[5.0,6.0,7.0]|\n",
              "+---+---+----+-------------+\n",
              "...\n",
              "&gt;&gt;&gt; vecAssembler2.setParams(handleInvalid=&quot;skip&quot;).transform(dfWithNullsAndNaNs).show()\n",
              "+---+---+---+-------------+\n",
              "|  a|  b|  c|     features|\n",
              "+---+---+---+-------------+\n",
              "|5.0|6.0|7.0|[5.0,6.0,7.0]|\n",
              "+---+---+---+-------------+\n",
              "...</pre>\n",
              "      <script>\n",
              "      if (google.colab.kernel.accessAllowed && google.colab.files && google.colab.files.view) {\n",
              "        for (const element of document.querySelectorAll('.filepath')) {\n",
              "          element.style.display = 'block'\n",
              "          element.onclick = (event) => {\n",
              "            event.preventDefault();\n",
              "            event.stopPropagation();\n",
              "            google.colab.files.view(element.textContent, 5276);\n",
              "          };\n",
              "        }\n",
              "      }\n",
              "      for (const element of document.querySelectorAll('.function-repr-contents')) {\n",
              "        element.onclick = (event) => {\n",
              "          event.preventDefault();\n",
              "          event.stopPropagation();\n",
              "          element.classList.toggle('function-repr-contents-collapsed');\n",
              "        };\n",
              "      }\n",
              "      </script>\n",
              "      </div>"
            ]
          },
          "metadata": {},
          "execution_count": 104
        }
      ]
    },
    {
      "cell_type": "code",
      "source": [
        "cars2 = assembler.transform(cars1)"
      ],
      "metadata": {
        "id": "m6Ug5MHjzRwn"
      },
      "execution_count": 105,
      "outputs": []
    },
    {
      "cell_type": "code",
      "source": [
        "cars1.show(5, truncate=False)\n",
        "cars2.show(5, truncate=False)"
      ],
      "metadata": {
        "colab": {
          "base_uri": "https://localhost:8080/"
        },
        "id": "JX4r4OA1zT7t",
        "outputId": "31acf7a6-d7d6-4830-a87a-94bc1cb17162"
      },
      "execution_count": 109,
      "outputs": [
        {
          "output_type": "stream",
          "name": "stdout",
          "text": [
            "+-----+------------+---+------+------+-------+------------+---------+------+-----+------+---------+\n",
            "|mpg  |displacement|hp |torque|CRatio|RARatio|CarbBarrells|NoOfSpeed|length|width|weight|automatic|\n",
            "+-----+------------+---+------+------+-------+------------+---------+------+-----+------+---------+\n",
            "|18.9 |350.0       |165|260   |8.0   |2.56   |4           |3        |200.3 |69.9 |3910  |1        |\n",
            "|17.0 |350.0       |170|275   |8.5   |2.56   |4           |3        |199.6 |72.9 |3860  |1        |\n",
            "|20.0 |250.0       |105|185   |8.25  |2.73   |1           |3        |196.7 |72.2 |3510  |1        |\n",
            "|18.25|351.0       |143|255   |8.0   |3.0    |2           |3        |199.9 |74.0 |3890  |1        |\n",
            "|20.07|225.0       |95 |170   |8.4   |2.76   |1           |3        |194.1 |71.8 |3365  |0        |\n",
            "+-----+------------+---+------+------+-------+------------+---------+------+-----+------+---------+\n",
            "only showing top 5 rows\n",
            "\n",
            "+-----+------------+---+------+------+-------+------------+---------+------+-----+------+---------+-----------------------------------------------------------+\n",
            "|mpg  |displacement|hp |torque|CRatio|RARatio|CarbBarrells|NoOfSpeed|length|width|weight|automatic|features                                                   |\n",
            "+-----+------------+---+------+------+-------+------------+---------+------+-----+------+---------+-----------------------------------------------------------+\n",
            "|18.9 |350.0       |165|260   |8.0   |2.56   |4           |3        |200.3 |69.9 |3910  |1        |[350.0,165.0,260.0,8.0,2.56,4.0,3.0,200.3,69.9,3910.0,1.0] |\n",
            "|17.0 |350.0       |170|275   |8.5   |2.56   |4           |3        |199.6 |72.9 |3860  |1        |[350.0,170.0,275.0,8.5,2.56,4.0,3.0,199.6,72.9,3860.0,1.0] |\n",
            "|20.0 |250.0       |105|185   |8.25  |2.73   |1           |3        |196.7 |72.2 |3510  |1        |[250.0,105.0,185.0,8.25,2.73,1.0,3.0,196.7,72.2,3510.0,1.0]|\n",
            "|18.25|351.0       |143|255   |8.0   |3.0    |2           |3        |199.9 |74.0 |3890  |1        |[351.0,143.0,255.0,8.0,3.0,2.0,3.0,199.9,74.0,3890.0,1.0]  |\n",
            "|20.07|225.0       |95 |170   |8.4   |2.76   |1           |3        |194.1 |71.8 |3365  |0        |[225.0,95.0,170.0,8.4,2.76,1.0,3.0,194.1,71.8,3365.0,0.0]  |\n",
            "+-----+------------+---+------+------+-------+------------+---------+------+-----+------+---------+-----------------------------------------------------------+\n",
            "only showing top 5 rows\n",
            "\n"
          ]
        }
      ]
    },
    {
      "cell_type": "code",
      "source": [
        "train, test = cars2.randomSplit([0.9, 0.1], seed = 2018)"
      ],
      "metadata": {
        "id": "9LjDrD3b0Gx9"
      },
      "execution_count": 110,
      "outputs": []
    },
    {
      "cell_type": "code",
      "source": [
        "lr = LinearRegression(maxIter=10, regParam=0.3, elasticNetParam=0.8, labelCol = \"mpg\")\n",
        "lrModel = lr.fit(train)"
      ],
      "metadata": {
        "id": "FKfejHc8z_3a"
      },
      "execution_count": 117,
      "outputs": []
    },
    {
      "cell_type": "code",
      "source": [
        "type(lrModel)"
      ],
      "metadata": {
        "colab": {
          "base_uri": "https://localhost:8080/",
          "height": 156
        },
        "id": "5emDFg9I02PG",
        "outputId": "9fd62385-6a7c-41ca-afdf-58df9513bc93"
      },
      "execution_count": 118,
      "outputs": [
        {
          "output_type": "execute_result",
          "data": {
            "text/plain": [
              "pyspark.ml.regression.LinearRegressionModel"
            ],
            "text/html": [
              "<div style=\"max-width:800px; border: 1px solid var(--colab-border-color);\"><style>\n",
              "      pre.function-repr-contents {\n",
              "        overflow-x: auto;\n",
              "        padding: 8px 12px;\n",
              "        max-height: 500px;\n",
              "      }\n",
              "\n",
              "      pre.function-repr-contents.function-repr-contents-collapsed {\n",
              "        cursor: pointer;\n",
              "        max-height: 100px;\n",
              "      }\n",
              "    </style>\n",
              "    <pre style=\"white-space: initial; background:\n",
              "         var(--colab-secondary-surface-color); padding: 8px 12px;\n",
              "         border-bottom: 1px solid var(--colab-border-color);\"><b>pyspark.ml.regression.LinearRegressionModel</b><br/>def __init__(java_model: Optional[&#x27;JavaObject&#x27;]=None)</pre><pre class=\"function-repr-contents function-repr-contents-collapsed\" style=\"\"><a class=\"filepath\" style=\"display:none\" href=\"#\">/usr/local/lib/python3.12/dist-packages/pyspark/ml/regression.py</a>Model fitted by :class:`LinearRegression`.\n",
              "\n",
              ".. versionadded:: 1.4.0</pre>\n",
              "      <script>\n",
              "      if (google.colab.kernel.accessAllowed && google.colab.files && google.colab.files.view) {\n",
              "        for (const element of document.querySelectorAll('.filepath')) {\n",
              "          element.style.display = 'block'\n",
              "          element.onclick = (event) => {\n",
              "            event.preventDefault();\n",
              "            event.stopPropagation();\n",
              "            google.colab.files.view(element.textContent, 443);\n",
              "          };\n",
              "        }\n",
              "      }\n",
              "      for (const element of document.querySelectorAll('.function-repr-contents')) {\n",
              "        element.onclick = (event) => {\n",
              "          event.preventDefault();\n",
              "          event.stopPropagation();\n",
              "          element.classList.toggle('function-repr-contents-collapsed');\n",
              "        };\n",
              "      }\n",
              "      </script>\n",
              "      </div>"
            ]
          },
          "metadata": {},
          "execution_count": 118
        }
      ]
    },
    {
      "cell_type": "code",
      "source": [
        "print(\"Coefficients: %s\" % str(lrModel.coefficients))\n",
        "print(\"Intercept: %s\" % str(lrModel.intercept))"
      ],
      "metadata": {
        "colab": {
          "base_uri": "https://localhost:8080/"
        },
        "id": "ZReatJfV0KCu",
        "outputId": "b61e66e4-0278-455b-9e99-264b9b7b31e1"
      },
      "execution_count": 119,
      "outputs": [
        {
          "output_type": "stream",
          "name": "stdout",
          "text": [
            "Coefficients: [-0.013749401450378392,-0.013731082589963806,-0.00933903639392948,1.5962108394471706,1.1476505260774805,0.0,0.0,0.0,-0.15360057948792488,-0.0010454034907914555,0.0]\n",
            "Intercept: 25.895622643713683\n"
          ]
        }
      ]
    },
    {
      "cell_type": "code",
      "source": [
        "trainingSummary = lrModel.summary\n",
        "print(\"numIterations: %d\" % trainingSummary.totalIterations)\n",
        "print(\"objectiveHistory: %s\" % str(trainingSummary.objectiveHistory))\n",
        "trainingSummary.residuals.show()\n",
        "print(\"RMSE: %f\" % trainingSummary.rootMeanSquaredError)\n",
        "print(\"r2: %f\" % trainingSummary.r2)\n"
      ],
      "metadata": {
        "colab": {
          "base_uri": "https://localhost:8080/"
        },
        "id": "QcF9ol-z0Zfg",
        "outputId": "864f600b-4172-4b05-b129-0761579b4ae8"
      },
      "execution_count": 120,
      "outputs": [
        {
          "output_type": "stream",
          "name": "stdout",
          "text": [
            "numIterations: 10\n",
            "objectiveHistory: [0.5, 0.39919673548029494, 0.15918045576458048, 0.15656497645057618, 0.14950176866695794, 0.1492165966433807, 0.14895423542420252, 0.14857600070926696, 0.14842255552580655, 0.14831250345038585, 0.147802191486251]\n",
            "+--------------------+\n",
            "|           residuals|\n",
            "+--------------------+\n",
            "|  -4.001167938925384|\n",
            "|  -3.022301149297494|\n",
            "|  1.9004496655246985|\n",
            "| -2.2320392968571703|\n",
            "| -2.5637702549252257|\n",
            "|   2.426669513313982|\n",
            "|  2.5415002370962974|\n",
            "| -2.3885697307479674|\n",
            "|  -1.733535316147659|\n",
            "| -2.0750165243103424|\n",
            "|-0.45385085039134765|\n",
            "| -0.7453215037513061|\n",
            "|  0.7458405236613714|\n",
            "|  1.6269820465492728|\n",
            "|-0.26571482170841776|\n",
            "|   2.120705269270001|\n",
            "| -0.8312841462204261|\n",
            "| -1.8693004339477959|\n",
            "|   -5.34078481717615|\n",
            "| -0.5809695828648138|\n",
            "+--------------------+\n",
            "only showing top 20 rows\n",
            "\n",
            "RMSE: 3.004913\n",
            "r2: 0.776213\n"
          ]
        }
      ]
    },
    {
      "cell_type": "code",
      "source": [
        "test.show()\n"
      ],
      "metadata": {
        "colab": {
          "base_uri": "https://localhost:8080/"
        },
        "id": "TDwuQYqo0hxe",
        "outputId": "9270704b-a558-4207-ac11-a5e1d02804db"
      },
      "execution_count": 121,
      "outputs": [
        {
          "output_type": "stream",
          "name": "stdout",
          "text": [
            "+-----+------------+---+------+------+-------+------------+---------+------+-----+------+---------+--------------------+\n",
            "|  mpg|displacement| hp|torque|CRatio|RARatio|CarbBarrells|NoOfSpeed|length|width|weight|automatic|            features|\n",
            "+-----+------------+---+------+------+-------+------------+---------+------+-----+------+---------+--------------------+\n",
            "| 17.8|       302.0|129|   220|   8.0|    3.0|           2|        3| 199.9| 74.0|  3890|        1|[302.0,129.0,220....|\n",
            "|22.12|       231.0|110|   175|   8.0|   2.56|           2|        3| 179.3| 65.4|  3020|        1|[231.0,110.0,175....|\n",
            "+-----+------------+---+------+------+-------+------------+---------+------+-----+------+---------+--------------------+\n",
            "\n"
          ]
        }
      ]
    },
    {
      "cell_type": "code",
      "source": [
        "result = lrModel.transform(test)\n",
        "result.show(5, truncate=False)"
      ],
      "metadata": {
        "colab": {
          "base_uri": "https://localhost:8080/"
        },
        "id": "ovPUJeIa1ApQ",
        "outputId": "08dc855d-a702-44ea-c5b3-564802d6c801"
      },
      "execution_count": 122,
      "outputs": [
        {
          "output_type": "stream",
          "name": "stdout",
          "text": [
            "+-----+------------+---+------+------+-------+------------+---------+------+-----+------+---------+----------------------------------------------------------+------------------+\n",
            "|mpg  |displacement|hp |torque|CRatio|RARatio|CarbBarrells|NoOfSpeed|length|width|weight|automatic|features                                                  |prediction        |\n",
            "+-----+------------+---+------+------+-------+------------+---------+------+-----+------+---------+----------------------------------------------------------+------------------+\n",
            "|17.8 |302.0       |129|220   |8.0   |3.0    |2           |3        |199.9 |74.0 |3890  |1        |[302.0,129.0,220.0,8.0,3.0,2.0,3.0,199.9,74.0,3890.0,1.0] |18.696981577454196|\n",
            "|22.12|231.0       |110|175   |8.0   |2.56   |2           |3        |179.3 |65.4 |3020  |1        |[231.0,110.0,175.0,8.0,2.56,2.0,3.0,179.3,65.4,3020.0,1.0]|22.079836076477825|\n",
            "+-----+------------+---+------+------+-------+------------+---------+------+-----+------+---------+----------------------------------------------------------+------------------+\n",
            "\n"
          ]
        }
      ]
    },
    {
      "cell_type": "code",
      "source": [
        "result.show(truncate=False)"
      ],
      "metadata": {
        "colab": {
          "base_uri": "https://localhost:8080/"
        },
        "id": "Zbv4_5i_0ksC",
        "outputId": "732d35b4-abc2-43a9-997a-ca5a6bd17a03"
      },
      "execution_count": 116,
      "outputs": [
        {
          "output_type": "stream",
          "name": "stdout",
          "text": [
            "+-----+------------+---+------+------+-------+------------+---------+------+-----+------+---------+----------------------------------------------------------+------------------+\n",
            "|mpg  |displacement|hp |torque|CRatio|RARatio|CarbBarrells|NoOfSpeed|length|width|weight|automatic|features                                                  |prediction        |\n",
            "+-----+------------+---+------+------+-------+------------+---------+------+-----+------+---------+----------------------------------------------------------+------------------+\n",
            "|17.8 |302.0       |129|220   |8.0   |3.0    |2           |3        |199.9 |74.0 |3890  |1        |[302.0,129.0,220.0,8.0,3.0,2.0,3.0,199.9,74.0,3890.0,1.0] |18.696981577454196|\n",
            "|22.12|231.0       |110|175   |8.0   |2.56   |2           |3        |179.3 |65.4 |3020  |1        |[231.0,110.0,175.0,8.0,2.56,2.0,3.0,179.3,65.4,3020.0,1.0]|22.079836076477825|\n",
            "+-----+------------+---+------+------+-------+------------+---------+------+-----+------+---------+----------------------------------------------------------+------------------+\n",
            "\n"
          ]
        }
      ]
    },
    {
      "cell_type": "code",
      "source": [
        "from pyspark.ml.evaluation import RegressionEvaluator\n",
        "evaluator = RegressionEvaluator(predictionCol=\"prediction\", labelCol=\"mpg\", metricName = \"rmse\")\n",
        "accuracy = evaluator.evaluate(result)\n",
        "print(accuracy)"
      ],
      "metadata": {
        "colab": {
          "base_uri": "https://localhost:8080/"
        },
        "id": "gbIPh57D1s0A",
        "outputId": "ccb6e5bc-115d-485d-ba7f-8da6afb502a6"
      },
      "execution_count": 126,
      "outputs": [
        {
          "output_type": "stream",
          "name": "stdout",
          "text": [
            "0.6348972716293996\n"
          ]
        }
      ]
    }
  ]
}