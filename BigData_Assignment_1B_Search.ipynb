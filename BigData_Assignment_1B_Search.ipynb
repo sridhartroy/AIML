{
  "nbformat": 4,
  "nbformat_minor": 0,
  "metadata": {
    "colab": {
      "provenance": [],
      "include_colab_link": true
    },
    "kernelspec": {
      "name": "python3",
      "display_name": "Python 3"
    },
    "language_info": {
      "name": "python"
    }
  },
  "cells": [
    {
      "cell_type": "markdown",
      "metadata": {
        "id": "view-in-github",
        "colab_type": "text"
      },
      "source": [
        "<a href=\"https://colab.research.google.com/github/sridhartroy/AIML/blob/main/BigData_Assignment_1B_Search.ipynb\" target=\"_parent\"><img src=\"https://colab.research.google.com/assets/colab-badge.svg\" alt=\"Open In Colab\"/></a>"
      ]
    },
    {
      "cell_type": "code",
      "execution_count": 1,
      "metadata": {
        "colab": {
          "base_uri": "https://localhost:8080/"
        },
        "id": "eMOfZFYZStdG",
        "outputId": "4c1591ac-a157-4e67-f3bc-c862aa7028d5",
        "collapsed": true
      },
      "outputs": [
        {
          "output_type": "stream",
          "name": "stdout",
          "text": [
            "Collecting pyspark==3.5.6\n",
            "  Downloading pyspark-3.5.6.tar.gz (317.4 MB)\n",
            "\u001b[2K     \u001b[90m━━━━━━━━━━━━━━━━━━━━━━━━━━━━━━━━━━━━━━━\u001b[0m \u001b[32m317.4/317.4 MB\u001b[0m \u001b[31m3.9 MB/s\u001b[0m eta \u001b[36m0:00:00\u001b[0m\n",
            "\u001b[?25h  Preparing metadata (setup.py) ... \u001b[?25l\u001b[?25hdone\n",
            "Requirement already satisfied: spacy in /usr/local/lib/python3.12/dist-packages (3.8.7)\n",
            "Requirement already satisfied: py4j==0.10.9.7 in /usr/local/lib/python3.12/dist-packages (from pyspark==3.5.6) (0.10.9.7)\n",
            "Requirement already satisfied: spacy-legacy<3.1.0,>=3.0.11 in /usr/local/lib/python3.12/dist-packages (from spacy) (3.0.12)\n",
            "Requirement already satisfied: spacy-loggers<2.0.0,>=1.0.0 in /usr/local/lib/python3.12/dist-packages (from spacy) (1.0.5)\n",
            "Requirement already satisfied: murmurhash<1.1.0,>=0.28.0 in /usr/local/lib/python3.12/dist-packages (from spacy) (1.0.13)\n",
            "Requirement already satisfied: cymem<2.1.0,>=2.0.2 in /usr/local/lib/python3.12/dist-packages (from spacy) (2.0.11)\n",
            "Requirement already satisfied: preshed<3.1.0,>=3.0.2 in /usr/local/lib/python3.12/dist-packages (from spacy) (3.0.10)\n",
            "Requirement already satisfied: thinc<8.4.0,>=8.3.4 in /usr/local/lib/python3.12/dist-packages (from spacy) (8.3.6)\n",
            "Requirement already satisfied: wasabi<1.2.0,>=0.9.1 in /usr/local/lib/python3.12/dist-packages (from spacy) (1.1.3)\n",
            "Requirement already satisfied: srsly<3.0.0,>=2.4.3 in /usr/local/lib/python3.12/dist-packages (from spacy) (2.5.1)\n",
            "Requirement already satisfied: catalogue<2.1.0,>=2.0.6 in /usr/local/lib/python3.12/dist-packages (from spacy) (2.0.10)\n",
            "Requirement already satisfied: weasel<0.5.0,>=0.1.0 in /usr/local/lib/python3.12/dist-packages (from spacy) (0.4.1)\n",
            "Requirement already satisfied: typer<1.0.0,>=0.3.0 in /usr/local/lib/python3.12/dist-packages (from spacy) (0.17.4)\n",
            "Requirement already satisfied: tqdm<5.0.0,>=4.38.0 in /usr/local/lib/python3.12/dist-packages (from spacy) (4.67.1)\n",
            "Requirement already satisfied: numpy>=1.19.0 in /usr/local/lib/python3.12/dist-packages (from spacy) (2.0.2)\n",
            "Requirement already satisfied: requests<3.0.0,>=2.13.0 in /usr/local/lib/python3.12/dist-packages (from spacy) (2.32.4)\n",
            "Requirement already satisfied: pydantic!=1.8,!=1.8.1,<3.0.0,>=1.7.4 in /usr/local/lib/python3.12/dist-packages (from spacy) (2.11.9)\n",
            "Requirement already satisfied: jinja2 in /usr/local/lib/python3.12/dist-packages (from spacy) (3.1.6)\n",
            "Requirement already satisfied: setuptools in /usr/local/lib/python3.12/dist-packages (from spacy) (75.2.0)\n",
            "Requirement already satisfied: packaging>=20.0 in /usr/local/lib/python3.12/dist-packages (from spacy) (25.0)\n",
            "Requirement already satisfied: langcodes<4.0.0,>=3.2.0 in /usr/local/lib/python3.12/dist-packages (from spacy) (3.5.0)\n",
            "Requirement already satisfied: language-data>=1.2 in /usr/local/lib/python3.12/dist-packages (from langcodes<4.0.0,>=3.2.0->spacy) (1.3.0)\n",
            "Requirement already satisfied: annotated-types>=0.6.0 in /usr/local/lib/python3.12/dist-packages (from pydantic!=1.8,!=1.8.1,<3.0.0,>=1.7.4->spacy) (0.7.0)\n",
            "Requirement already satisfied: pydantic-core==2.33.2 in /usr/local/lib/python3.12/dist-packages (from pydantic!=1.8,!=1.8.1,<3.0.0,>=1.7.4->spacy) (2.33.2)\n",
            "Requirement already satisfied: typing-extensions>=4.12.2 in /usr/local/lib/python3.12/dist-packages (from pydantic!=1.8,!=1.8.1,<3.0.0,>=1.7.4->spacy) (4.15.0)\n",
            "Requirement already satisfied: typing-inspection>=0.4.0 in /usr/local/lib/python3.12/dist-packages (from pydantic!=1.8,!=1.8.1,<3.0.0,>=1.7.4->spacy) (0.4.1)\n",
            "Requirement already satisfied: charset_normalizer<4,>=2 in /usr/local/lib/python3.12/dist-packages (from requests<3.0.0,>=2.13.0->spacy) (3.4.3)\n",
            "Requirement already satisfied: idna<4,>=2.5 in /usr/local/lib/python3.12/dist-packages (from requests<3.0.0,>=2.13.0->spacy) (3.10)\n",
            "Requirement already satisfied: urllib3<3,>=1.21.1 in /usr/local/lib/python3.12/dist-packages (from requests<3.0.0,>=2.13.0->spacy) (2.5.0)\n",
            "Requirement already satisfied: certifi>=2017.4.17 in /usr/local/lib/python3.12/dist-packages (from requests<3.0.0,>=2.13.0->spacy) (2025.8.3)\n",
            "Requirement already satisfied: blis<1.4.0,>=1.3.0 in /usr/local/lib/python3.12/dist-packages (from thinc<8.4.0,>=8.3.4->spacy) (1.3.0)\n",
            "Requirement already satisfied: confection<1.0.0,>=0.0.1 in /usr/local/lib/python3.12/dist-packages (from thinc<8.4.0,>=8.3.4->spacy) (0.1.5)\n",
            "Requirement already satisfied: click>=8.0.0 in /usr/local/lib/python3.12/dist-packages (from typer<1.0.0,>=0.3.0->spacy) (8.2.1)\n",
            "Requirement already satisfied: shellingham>=1.3.0 in /usr/local/lib/python3.12/dist-packages (from typer<1.0.0,>=0.3.0->spacy) (1.5.4)\n",
            "Requirement already satisfied: rich>=10.11.0 in /usr/local/lib/python3.12/dist-packages (from typer<1.0.0,>=0.3.0->spacy) (13.9.4)\n",
            "Requirement already satisfied: cloudpathlib<1.0.0,>=0.7.0 in /usr/local/lib/python3.12/dist-packages (from weasel<0.5.0,>=0.1.0->spacy) (0.22.0)\n",
            "Requirement already satisfied: smart-open<8.0.0,>=5.2.1 in /usr/local/lib/python3.12/dist-packages (from weasel<0.5.0,>=0.1.0->spacy) (7.3.1)\n",
            "Requirement already satisfied: MarkupSafe>=2.0 in /usr/local/lib/python3.12/dist-packages (from jinja2->spacy) (3.0.2)\n",
            "Requirement already satisfied: marisa-trie>=1.1.0 in /usr/local/lib/python3.12/dist-packages (from language-data>=1.2->langcodes<4.0.0,>=3.2.0->spacy) (1.3.1)\n",
            "Requirement already satisfied: markdown-it-py>=2.2.0 in /usr/local/lib/python3.12/dist-packages (from rich>=10.11.0->typer<1.0.0,>=0.3.0->spacy) (4.0.0)\n",
            "Requirement already satisfied: pygments<3.0.0,>=2.13.0 in /usr/local/lib/python3.12/dist-packages (from rich>=10.11.0->typer<1.0.0,>=0.3.0->spacy) (2.19.2)\n",
            "Requirement already satisfied: wrapt in /usr/local/lib/python3.12/dist-packages (from smart-open<8.0.0,>=5.2.1->weasel<0.5.0,>=0.1.0->spacy) (1.17.3)\n",
            "Requirement already satisfied: mdurl~=0.1 in /usr/local/lib/python3.12/dist-packages (from markdown-it-py>=2.2.0->rich>=10.11.0->typer<1.0.0,>=0.3.0->spacy) (0.1.2)\n",
            "Building wheels for collected packages: pyspark\n",
            "  Building wheel for pyspark (setup.py) ... \u001b[?25l\u001b[?25hdone\n",
            "  Created wheel for pyspark: filename=pyspark-3.5.6-py2.py3-none-any.whl size=317895798 sha256=02e1d48aee860f60e27a343e5ac4a1a20f95831158afa275ec79a04fc613711f\n",
            "  Stored in directory: /root/.cache/pip/wheels/64/62/f3/ec15656ea4ada0523cae62a1827fe7beb55d3c8c87174aad4a\n",
            "Successfully built pyspark\n",
            "Installing collected packages: pyspark\n",
            "  Attempting uninstall: pyspark\n",
            "    Found existing installation: pyspark 3.5.1\n",
            "    Uninstalling pyspark-3.5.1:\n",
            "      Successfully uninstalled pyspark-3.5.1\n",
            "Successfully installed pyspark-3.5.6\n",
            "Collecting en-core-web-sm==3.8.0\n",
            "  Downloading https://github.com/explosion/spacy-models/releases/download/en_core_web_sm-3.8.0/en_core_web_sm-3.8.0-py3-none-any.whl (12.8 MB)\n",
            "\u001b[2K     \u001b[90m━━━━━━━━━━━━━━━━━━━━━━━━━━━━━━━━━━━━━━━\u001b[0m \u001b[32m12.8/12.8 MB\u001b[0m \u001b[31m124.3 MB/s\u001b[0m eta \u001b[36m0:00:00\u001b[0m\n",
            "\u001b[?25h\u001b[38;5;2m✔ Download and installation successful\u001b[0m\n",
            "You can now load the package via spacy.load('en_core_web_sm')\n",
            "\u001b[38;5;3m⚠ Restart to reload dependencies\u001b[0m\n",
            "If you are in a Jupyter or Colab notebook, you may need to restart Python in\n",
            "order to load all the package's dependencies. You can do this by selecting the\n",
            "'Restart kernel' or 'Restart runtime' option.\n"
          ]
        }
      ],
      "source": [
        "!pip install pyspark==3.5.6 spacy\n",
        "!python -m spacy download en_core_web_sm"
      ]
    },
    {
      "cell_type": "code",
      "source": [
        "import spacy\n",
        "from pyspark.sql import SparkSession\n",
        "from pyspark.sql import functions as F\n",
        "from pyspark.sql.functions import col\n",
        "import re, math, argparse\n",
        "from pyspark.ml.feature import StopWordsRemover\n",
        "from operator import add\n",
        "import math\n",
        "from collections import Counter\n",
        "\n",
        "# Initialize Spark session\n",
        "spark = SparkSession.builder \\\n",
        "    .appName(\"NER-WordCount\") \\\n",
        "    .getOrCreate()\n",
        "\n",
        "sc = spark.sparkContext"
      ],
      "metadata": {
        "id": "NOVmdjPWTEz7"
      },
      "execution_count": 1,
      "outputs": []
    },
    {
      "cell_type": "code",
      "source": [
        "!wget -O MovieSummaries.tar.gz http://www.cs.cmu.edu/~ark/personas/data/MovieSummaries.tar.gz"
      ],
      "metadata": {
        "colab": {
          "base_uri": "https://localhost:8080/"
        },
        "id": "GPmKzYpzTaub",
        "outputId": "3d780965-8090-46ee-fd65-9e10ce73b45f",
        "collapsed": true
      },
      "execution_count": 2,
      "outputs": [
        {
          "output_type": "stream",
          "name": "stdout",
          "text": [
            "--2025-09-28 05:20:26--  http://www.cs.cmu.edu/~ark/personas/data/MovieSummaries.tar.gz\n",
            "Resolving www.cs.cmu.edu (www.cs.cmu.edu)... 128.2.42.95\n",
            "Connecting to www.cs.cmu.edu (www.cs.cmu.edu)|128.2.42.95|:80... connected.\n",
            "HTTP request sent, awaiting response... 200 OK\n",
            "Length: 48002242 (46M) [application/x-gzip]\n",
            "Saving to: ‘MovieSummaries.tar.gz’\n",
            "\n",
            "MovieSummaries.tar. 100%[===================>]  45.78M  4.87MB/s    in 9.7s    \n",
            "\n",
            "2025-09-28 05:20:36 (4.74 MB/s) - ‘MovieSummaries.tar.gz’ saved [48002242/48002242]\n",
            "\n"
          ]
        }
      ]
    },
    {
      "cell_type": "code",
      "source": [
        "!tar -xzf MovieSummaries.tar.gz\n",
        "!ls -lh\n",
        "!ls -lh MovieSummaries\n"
      ],
      "metadata": {
        "colab": {
          "base_uri": "https://localhost:8080/"
        },
        "id": "_qmHyUUrUgo_",
        "outputId": "e14404b3-64bd-4ac1-8f5c-ad110f68b5bd",
        "collapsed": true
      },
      "execution_count": 10,
      "outputs": [
        {
          "output_type": "stream",
          "name": "stdout",
          "text": [
            "total 46M\n",
            "drwxrwxr-x 2 14584 14584 4.0K May  6  2013 MovieSummaries\n",
            "-rw-r--r-- 1 root  root   46M Jun 11  2015 MovieSummaries.tar.gz\n",
            "drwxr-xr-x 1 root  root  4.0K Sep 25 13:37 sample_data\n",
            "total 128M\n",
            "-rw-r--r-- 1 14584 14584  40M May  6  2013 character.metadata.tsv\n",
            "-rw-r--r-- 1 14584 14584  16M May  6  2013 movie.metadata.tsv\n",
            "-rw-rw-r-- 1 14584 14584  64K May  6  2013 name.clusters.txt\n",
            "-rw-rw-r-- 1 14584 14584  73M May  6  2013 plot_summaries.txt\n",
            "-rw-r--r-- 1 14584 14584 2.6K May  6  2013 README.txt\n",
            "-rw-rw-r-- 1 14584 14584  57K May  6  2013 tvtropes.clusters.txt\n"
          ]
        }
      ]
    },
    {
      "cell_type": "code",
      "source": [
        "raw = sc.textFile(\"MovieSummaries/plot_summaries.txt\")\n",
        "\n",
        "movie_names_df0 = spark.read.csv(\"MovieSummaries/movie.metadata.tsv\", sep=\"\\t\", header=False)\n",
        "movie_names_df0.show(5)\n",
        "\n",
        "movie_names_df = movie_names_df0.selectExpr(\"_c0 as movie_id\", \"_c2 as movie_name\")\n",
        "movie_names_df.show(5)\n",
        "\n",
        "\n",
        "# Ensure doc_id is string to match TF-IDF DF\n",
        "movie_names_df = movie_names_df.withColumn(\"movie_id\", col(\"movie_id\").cast(\"string\"))\n",
        "movie_names_df.show(5)"
      ],
      "metadata": {
        "colab": {
          "base_uri": "https://localhost:8080/"
        },
        "id": "99cW1f1U0cXh",
        "outputId": "28ef4a4a-c442-4422-9856-07b98980c7bd"
      },
      "execution_count": 17,
      "outputs": [
        {
          "output_type": "stream",
          "name": "stdout",
          "text": [
            "+--------+----------+--------------------+----------+--------+-----+--------------------+--------------------+--------------------+\n",
            "|     _c0|       _c1|                 _c2|       _c3|     _c4|  _c5|                 _c6|                 _c7|                 _c8|\n",
            "+--------+----------+--------------------+----------+--------+-----+--------------------+--------------------+--------------------+\n",
            "|  975900| /m/03vyhn|      Ghosts of Mars|2001-08-24|14010832| 98.0|{\"/m/02h40lc\": \"E...|{\"/m/09c7w0\": \"Un...|{\"/m/01jfsb\": \"Th...|\n",
            "| 3196793| /m/08yl5d|Getting Away with...|2000-02-16|    NULL| 95.0|{\"/m/02h40lc\": \"E...|{\"/m/09c7w0\": \"Un...|{\"/m/02n4kr\": \"My...|\n",
            "|28463795|/m/0crgdbh|         Brun bitter|      1988|    NULL| 83.0|{\"/m/05f_3\": \"Nor...|{\"/m/05b4w\": \"Nor...|{\"/m/0lsxr\": \"Cri...|\n",
            "| 9363483|/m/0285_cd|    White Of The Eye|      1987|    NULL|110.0|{\"/m/02h40lc\": \"E...|{\"/m/07ssc\": \"Uni...|{\"/m/01jfsb\": \"Th...|\n",
            "|  261236| /m/01mrr1|   A Woman in Flames|      1983|    NULL|106.0|{\"/m/04306rv\": \"G...|{\"/m/0345h\": \"Ger...|{\"/m/07s9rl0\": \"D...|\n",
            "+--------+----------+--------------------+----------+--------+-----+--------------------+--------------------+--------------------+\n",
            "only showing top 5 rows\n",
            "\n",
            "+--------+--------------------+\n",
            "|movie_id|          movie_name|\n",
            "+--------+--------------------+\n",
            "|  975900|      Ghosts of Mars|\n",
            "| 3196793|Getting Away with...|\n",
            "|28463795|         Brun bitter|\n",
            "| 9363483|    White Of The Eye|\n",
            "|  261236|   A Woman in Flames|\n",
            "+--------+--------------------+\n",
            "only showing top 5 rows\n",
            "\n",
            "+--------+--------------------+\n",
            "|movie_id|          movie_name|\n",
            "+--------+--------------------+\n",
            "|  975900|      Ghosts of Mars|\n",
            "| 3196793|Getting Away with...|\n",
            "|28463795|         Brun bitter|\n",
            "| 9363483|    White Of The Eye|\n",
            "|  261236|   A Woman in Flames|\n",
            "+--------+--------------------+\n",
            "only showing top 5 rows\n",
            "\n"
          ]
        }
      ]
    },
    {
      "cell_type": "code",
      "source": [
        "raw.take(2)"
      ],
      "metadata": {
        "colab": {
          "base_uri": "https://localhost:8080/"
        },
        "id": "SRobXKcdzKeP",
        "outputId": "5b202239-920d-4cc1-ccc1-394d867aa94f"
      },
      "execution_count": 18,
      "outputs": [
        {
          "output_type": "execute_result",
          "data": {
            "text/plain": [
              "[\"23890098\\tShlykov, a hard-working taxi driver and Lyosha, a saxophonist, develop a bizarre love-hate relationship, and despite their prejudices, realize they aren't so different after all.\",\n",
              " '31186339\\tThe nation of Panem consists of a wealthy Capitol and twelve poorer districts. As punishment for a past rebellion, each district must provide a boy and girl  between the ages of 12 and 18 selected by lottery  for the annual Hunger Games. The tributes must fight to the death in an arena; the sole survivor is rewarded with fame and wealth. In her first Reaping, 12-year-old Primrose Everdeen is chosen from District 12. Her older sister Katniss volunteers to take her place. Peeta Mellark, a baker\\'s son who once gave Katniss bread when she was starving, is the other District 12 tribute. Katniss and Peeta are taken to the Capitol, accompanied by their frequently drunk mentor, past victor Haymitch Abernathy. He warns them about the \"Career\" tributes who train intensively at special academies and almost always win. During a TV interview with Caesar Flickerman, Peeta unexpectedly reveals his love for Katniss. She is outraged, believing it to be a ploy to gain audience support, as \"sponsors\" may provide in-Games gifts of food, medicine, and tools. However, she discovers Peeta meant what he said. The televised Games begin with half of the tributes killed in the first few minutes; Katniss barely survives ignoring Haymitch\\'s advice to run away from the melee over the tempting supplies and weapons strewn in front of a structure called the Cornucopia. Peeta forms an uneasy alliance with the four Careers. They later find Katniss and corner her up a tree. Rue, hiding in a nearby tree, draws her attention to a poisonous tracker jacker nest hanging from a branch. Katniss drops it on her sleeping besiegers. They all scatter, except for Glimmer, who is killed by the insects. Hallucinating due to tracker jacker venom, Katniss is warned to run away by Peeta. Rue cares for Katniss for a couple of days until she recovers. Meanwhile, the alliance has gathered all the supplies into a pile. Katniss has Rue draw them off, then destroys the stockpile by setting off the mines planted around it. Furious, Cato kills the boy assigned to guard it. As Katniss runs from the scene, she hears Rue calling her name. She finds Rue trapped and releases her. Marvel, a tribute from District 1, throws a spear at Katniss, but she dodges the spear, causing it to stab Rue in the stomach instead. Katniss shoots him dead with an arrow. She then comforts the dying Rue with a song. Afterward, she gathers and arranges flowers around Rue\\'s body. When this is televised, it sparks a riot in Rue\\'s District 11. President Snow summons Seneca Crane, the Gamemaker, to express his displeasure at the way the Games are turning out. Since Katniss and Peeta have been presented to the public as \"star-crossed lovers\", Haymitch is able to convince Crane to make a rule change to avoid inciting further riots. It is announced that tributes from the same district can win as a pair. Upon hearing this, Katniss searches for Peeta and finds him with an infected sword wound in the leg. She portrays herself as deeply in love with him and gains a sponsor\\'s gift of soup. An announcer proclaims a feast, where the thing each survivor needs most will be provided. Peeta begs her not to risk getting him medicine. Katniss promises not to go, but after he falls asleep, she heads to the feast. Clove ambushes her and pins her down. As Clove gloats, Thresh, the other District 11 tribute, kills Clove after overhearing her tormenting Katniss about killing Rue. He spares Katniss \"just this time...for Rue\". The medicine works, keeping Peeta mobile. Foxface, the girl from District 5, dies from eating nightlock berries she stole from Peeta; neither knew they are highly poisonous. Crane changes the time of day in the arena to late at night and unleashes a pack of hound-like creatures to speed things up. They kill Thresh and force Katniss and Peeta to flee to the roof of the Cornucopia, where they encounter Cato. After a battle, Katniss wounds Cato with an arrow and Peeta hurls him to the creatures below. Katniss shoots Cato to spare him a prolonged death. With Peeta and Katniss apparently victorious, the rule change allowing two winners is suddenly revoked. Peeta tells Katniss to shoot him. Instead, she gives him half of the nightlock. However, before they can commit suicide, they are hastily proclaimed the victors of the 74th Hunger Games. Haymitch warns Katniss that she has made powerful enemies after her display of defiance. She and Peeta return to District 12, while Crane is locked in a room with a bowl of nightlock berries, and President Snow considers the situation.']"
            ]
          },
          "metadata": {},
          "execution_count": 18
        }
      ]
    },
    {
      "cell_type": "code",
      "source": [
        "movie_rdd = raw.map(lambda line: line.split(\"\\t\", 1)).filter(lambda x: len(x) == 2)\n",
        "movie_rdd.take(2)"
      ],
      "metadata": {
        "id": "O5SiFDAKYiEv",
        "colab": {
          "base_uri": "https://localhost:8080/"
        },
        "outputId": "b2fedd7d-1bd0-42fa-eca8-c04d96e6f28e"
      },
      "execution_count": 9,
      "outputs": [
        {
          "output_type": "stream",
          "name": "stdout",
          "text": [
            "<class 'pyspark.rdd.RDD'>\n"
          ]
        },
        {
          "output_type": "execute_result",
          "data": {
            "text/plain": [
              "[['23890098',\n",
              "  \"Shlykov, a hard-working taxi driver and Lyosha, a saxophonist, develop a bizarre love-hate relationship, and despite their prejudices, realize they aren't so different after all.\"],\n",
              " ['31186339',\n",
              "  'The nation of Panem consists of a wealthy Capitol and twelve poorer districts. As punishment for a past rebellion, each district must provide a boy and girl  between the ages of 12 and 18 selected by lottery  for the annual Hunger Games. The tributes must fight to the death in an arena; the sole survivor is rewarded with fame and wealth. In her first Reaping, 12-year-old Primrose Everdeen is chosen from District 12. Her older sister Katniss volunteers to take her place. Peeta Mellark, a baker\\'s son who once gave Katniss bread when she was starving, is the other District 12 tribute. Katniss and Peeta are taken to the Capitol, accompanied by their frequently drunk mentor, past victor Haymitch Abernathy. He warns them about the \"Career\" tributes who train intensively at special academies and almost always win. During a TV interview with Caesar Flickerman, Peeta unexpectedly reveals his love for Katniss. She is outraged, believing it to be a ploy to gain audience support, as \"sponsors\" may provide in-Games gifts of food, medicine, and tools. However, she discovers Peeta meant what he said. The televised Games begin with half of the tributes killed in the first few minutes; Katniss barely survives ignoring Haymitch\\'s advice to run away from the melee over the tempting supplies and weapons strewn in front of a structure called the Cornucopia. Peeta forms an uneasy alliance with the four Careers. They later find Katniss and corner her up a tree. Rue, hiding in a nearby tree, draws her attention to a poisonous tracker jacker nest hanging from a branch. Katniss drops it on her sleeping besiegers. They all scatter, except for Glimmer, who is killed by the insects. Hallucinating due to tracker jacker venom, Katniss is warned to run away by Peeta. Rue cares for Katniss for a couple of days until she recovers. Meanwhile, the alliance has gathered all the supplies into a pile. Katniss has Rue draw them off, then destroys the stockpile by setting off the mines planted around it. Furious, Cato kills the boy assigned to guard it. As Katniss runs from the scene, she hears Rue calling her name. She finds Rue trapped and releases her. Marvel, a tribute from District 1, throws a spear at Katniss, but she dodges the spear, causing it to stab Rue in the stomach instead. Katniss shoots him dead with an arrow. She then comforts the dying Rue with a song. Afterward, she gathers and arranges flowers around Rue\\'s body. When this is televised, it sparks a riot in Rue\\'s District 11. President Snow summons Seneca Crane, the Gamemaker, to express his displeasure at the way the Games are turning out. Since Katniss and Peeta have been presented to the public as \"star-crossed lovers\", Haymitch is able to convince Crane to make a rule change to avoid inciting further riots. It is announced that tributes from the same district can win as a pair. Upon hearing this, Katniss searches for Peeta and finds him with an infected sword wound in the leg. She portrays herself as deeply in love with him and gains a sponsor\\'s gift of soup. An announcer proclaims a feast, where the thing each survivor needs most will be provided. Peeta begs her not to risk getting him medicine. Katniss promises not to go, but after he falls asleep, she heads to the feast. Clove ambushes her and pins her down. As Clove gloats, Thresh, the other District 11 tribute, kills Clove after overhearing her tormenting Katniss about killing Rue. He spares Katniss \"just this time...for Rue\". The medicine works, keeping Peeta mobile. Foxface, the girl from District 5, dies from eating nightlock berries she stole from Peeta; neither knew they are highly poisonous. Crane changes the time of day in the arena to late at night and unleashes a pack of hound-like creatures to speed things up. They kill Thresh and force Katniss and Peeta to flee to the roof of the Cornucopia, where they encounter Cato. After a battle, Katniss wounds Cato with an arrow and Peeta hurls him to the creatures below. Katniss shoots Cato to spare him a prolonged death. With Peeta and Katniss apparently victorious, the rule change allowing two winners is suddenly revoked. Peeta tells Katniss to shoot him. Instead, she gives him half of the nightlock. However, before they can commit suicide, they are hastily proclaimed the victors of the 74th Hunger Games. Haymitch warns Katniss that she has made powerful enemies after her display of defiance. She and Peeta return to District 12, while Crane is locked in a room with a bowl of nightlock berries, and President Snow considers the situation.']]"
            ]
          },
          "metadata": {},
          "execution_count": 9
        }
      ]
    },
    {
      "cell_type": "code",
      "source": [
        "stop_set = set(StopWordsRemover().getStopWords())  # use Spark's English list\n",
        "TOKEN_RE = re.compile(r\"[A-Za-z][A-Za-z']{1,}\")\n",
        "\n",
        "def tokenize(text):\n",
        "    return [t.lower() for t in TOKEN_RE.findall(text.lower()) if t.lower() not in stop_set]"
      ],
      "metadata": {
        "id": "0iol-45sYzsf"
      },
      "execution_count": 19,
      "outputs": []
    },
    {
      "cell_type": "code",
      "source": [
        "tokenize(\"hard-working\")"
      ],
      "metadata": {
        "colab": {
          "base_uri": "https://localhost:8080/"
        },
        "id": "41qNovFejKTE",
        "outputId": "0855c1dc-2e49-4de1-8d18-78246eda9ffe"
      },
      "execution_count": 20,
      "outputs": [
        {
          "output_type": "execute_result",
          "data": {
            "text/plain": [
              "['hard', 'working']"
            ]
          },
          "metadata": {},
          "execution_count": 20
        }
      ]
    },
    {
      "cell_type": "code",
      "source": [
        "movie_rdd = movie_rdd.map(lambda x: (x[0], tokenize(x[1]))).filter(lambda x: len(x[1]) > 0)\n",
        "movie_rdd.take(1)"
      ],
      "metadata": {
        "id": "Yip9crNMY7sU",
        "colab": {
          "base_uri": "https://localhost:8080/"
        },
        "outputId": "06c045e6-0688-422e-8783-11fd6e726f6c"
      },
      "execution_count": 21,
      "outputs": [
        {
          "output_type": "execute_result",
          "data": {
            "text/plain": [
              "[('23890098',\n",
              "  ['shlykov',\n",
              "   'hard',\n",
              "   'working',\n",
              "   'taxi',\n",
              "   'driver',\n",
              "   'lyosha',\n",
              "   'saxophonist',\n",
              "   'develop',\n",
              "   'bizarre',\n",
              "   'love',\n",
              "   'hate',\n",
              "   'relationship',\n",
              "   'despite',\n",
              "   'prejudices',\n",
              "   'realize',\n",
              "   'different'])]"
            ]
          },
          "metadata": {},
          "execution_count": 21
        }
      ]
    },
    {
      "cell_type": "code",
      "source": [
        "# doc_rdd : (docId, [tokens...])  # tokens AFTER stopword removal/tokenize\n",
        "# 1) document lengths (|d|) = number of tokens per doc\n",
        "movie_len = (movie_rdd.map(lambda d: (d[0], len(d[1]))).cache())\n",
        "print(movie_len.take(2))\n",
        "\n",
        "# 2) raw TF: ((term, doc), count)\n",
        "tf_raw = (movie_rdd.flatMap(lambda d: [((term, d[0]), 1) for term in d[1]]).reduceByKey(add))\n",
        "print(tf_raw.take(2))\n",
        "\n",
        "#tf_raw1 = tf_raw.map(lambda x: (x[0][1], (x[0][0], x[1])))\n",
        "#print(tf_raw1.take(2))\n",
        "\n",
        "#tf_raw2 = tf_raw1.join(movie_len)\n",
        "#print(tf_raw2.take(2))\n",
        "# 3) normalize TF by document length: tf_norm = tf / |d|\n",
        "#    -> ((term, doc), tf_norm)\n",
        "tf = (tf_raw\n",
        "      .map(lambda x: (x[0][1], (x[0][0], x[1])))        # key by doc: (doc, (term, tf))\n",
        "      .join(movie_len)                                     # (doc, ((term, tf), |d|))\n",
        "      .map(lambda x: ((x[1][0][0], x[0]), x[1][0][1] / float(x[1][1]))))\n",
        "\n",
        "print(tf.take(2))"
      ],
      "metadata": {
        "id": "hBFrJ7woZrJ1",
        "colab": {
          "base_uri": "https://localhost:8080/"
        },
        "outputId": "53785352-bec7-466d-970a-327c48a2f8f7"
      },
      "execution_count": 22,
      "outputs": [
        {
          "output_type": "stream",
          "name": "stdout",
          "text": [
            "[(('shlykov', '23890098'), 1), (('saxophonist', '23890098'), 1)]\n",
            "[(('six', '20663735'), 0.006993006993006993), (('classmate', '20663735'), 0.006993006993006993)]\n"
          ]
        }
      ]
    },
    {
      "cell_type": "code",
      "source": [
        "df = (tf.map(lambda x: (x[0][0], x[0][1]))  # (term, doc)\n",
        "        .map(lambda x: (x[0], 1)) # ('six', 1) ('six', 1) ('saxophonist', 1) ('saxophonist', 1)\n",
        "        .reduceByKey(add))\n",
        "print(df.take(2))"
      ],
      "metadata": {
        "id": "7h-td9C2bQRq",
        "colab": {
          "base_uri": "https://localhost:8080/"
        },
        "outputId": "738fff1f-3dd8-47bf-8f56-331b0bd768d1"
      },
      "execution_count": 23,
      "outputs": [
        {
          "output_type": "stream",
          "name": "stdout",
          "text": [
            "[('six', 1349), ('madhavan', 50)]\n"
          ]
        }
      ]
    },
    {
      "cell_type": "code",
      "source": [
        "N = movie_rdd.count()\n",
        "# idf(term) = log((N+1)/(df+1)) + 1  (smoothed)\n",
        "idf = df.mapValues(lambda dfv: math.log((N) / (dfv)))\n",
        "idf_map = dict(idf.collect())\n",
        "idf_bc = sc.broadcast(idf_map)\n",
        "list(idf_map.items())[:2]"
      ],
      "metadata": {
        "id": "hp-w9QMugJZD",
        "colab": {
          "base_uri": "https://localhost:8080/"
        },
        "outputId": "21a401a9-8bf6-4030-bd33-cbfe61f946d5"
      },
      "execution_count": 24,
      "outputs": [
        {
          "output_type": "execute_result",
          "data": {
            "text/plain": [
              "[('six', 3.44556534273934), ('madhavan', 6.7406611935189495)]"
            ]
          },
          "metadata": {},
          "execution_count": 24
        }
      ]
    },
    {
      "cell_type": "code",
      "source": [
        "tfidf = tf.map(lambda x: (x[0], x[1] * idf_bc.value.get(x[0][0], 0.0)))\n",
        "tfidf.take(2)\n",
        "flat_rdd = tfidf.map(lambda x: (x[0][0], x[0][1], float(x[1])))\n",
        "df = flat_rdd.toDF([\"word\", \"movie_id\", \"tfidf\"])\n",
        "df.show(5)"
      ],
      "metadata": {
        "id": "j7cCUB9gjWT7",
        "colab": {
          "base_uri": "https://localhost:8080/"
        },
        "outputId": "3aa124c5-cf3b-44b3-80ed-cbd88da4b275"
      },
      "execution_count": 25,
      "outputs": [
        {
          "output_type": "stream",
          "name": "stdout",
          "text": [
            "+----------+--------+--------------------+\n",
            "|      word|movie_id|               tfidf|\n",
            "+----------+--------+--------------------+\n",
            "|       six|20663735| 0.02409486253663874|\n",
            "| classmate|20663735| 0.03431105600284575|\n",
            "|       son|20663735|0.019438880743827568|\n",
            "|karunakara|20663735| 0.03724714754876607|\n",
            "|    framed|20663735|0.017144374870765183|\n",
            "+----------+--------+--------------------+\n",
            "only showing top 5 rows\n",
            "\n"
          ]
        }
      ]
    },
    {
      "cell_type": "code",
      "source": [
        "def top_docs_for_word_with_name( query_word, top_k=10):\n",
        "    #print(df.show())\n",
        "    # Filter for the word\n",
        "    filtered_df = df.filter(F.col(\"word\") == query_word)\n",
        "    #print(filtered_df.show())\n",
        "    # Join with doc_names_df to get names\n",
        "    joined_df = filtered_df.join(movie_names_df, on=\"movie_id\", how=\"left\")\n",
        "    #print(joined_df.orderBy(F.col(\"tfidf\").desc().show()))\n",
        "    # Order by tfidf descending\n",
        "    top_docs = (joined_df\n",
        "                .orderBy(F.col(\"tfidf\").desc())\n",
        "                .select(\"movie_name\")\n",
        "                .limit(top_k))\n",
        "    return top_docs"
      ],
      "metadata": {
        "id": "IpCF_SSxyoeu"
      },
      "execution_count": 26,
      "outputs": []
    },
    {
      "cell_type": "code",
      "source": [
        "# You already have: tfidf  # RDD[((term, doc_id), tfidf_weight)]\n",
        "tfidf_df = (tfidf\n",
        "            .map(lambda x: (x[0][1], x[0][0], float(x[1])))\n",
        "            .toDF([\"movie_id\", \"word\", \"tfidf\"])\n",
        "            .cache())\n",
        "print(tfidf_df.show())\n",
        "\n",
        "doc_norm_df = (tfidf_df\n",
        "    .groupBy(\"movie_id\")\n",
        "    .agg(F.sqrt(F.sum(F.col(\"tfidf\") * F.col(\"tfidf\"))).alias(\"d_norm\"))\n",
        "    .cache())\n",
        "print(doc_norm_df.show())"
      ],
      "metadata": {
        "colab": {
          "base_uri": "https://localhost:8080/"
        },
        "id": "pyvT1-j82hfC",
        "outputId": "510ab073-7308-4479-da52-a0abee0ef4f3"
      },
      "execution_count": 27,
      "outputs": [
        {
          "output_type": "stream",
          "name": "stdout",
          "text": [
            "+--------+----------+--------------------+\n",
            "|movie_id|      word|               tfidf|\n",
            "+--------+----------+--------------------+\n",
            "|20663735|       six| 0.02409486253663874|\n",
            "|20663735| classmate| 0.03431105600284575|\n",
            "|20663735|       son|0.019438880743827568|\n",
            "|20663735|karunakara| 0.03724714754876607|\n",
            "|20663735|    framed|0.017144374870765183|\n",
            "|20663735| manapally|  0.2607300328413625|\n",
            "|20663735|  madhavan| 0.04713749086376888|\n",
            "|20663735|      dysp|0.030443265908712526|\n",
            "|20663735|      take|0.005376762278935563|\n",
            "|20663735|   revenge|0.010018539064553827|\n",
            "|20663735|  idealist|0.024917215644513758|\n",
            "|20663735|     judge|0.014660069036956505|\n",
            "|20663735|corruption|0.017303852182835297|\n",
            "|20663735|  achieved| 0.02065647577127219|\n",
            "|20663735|      rank|0.020174413553708827|\n",
            "|20663735|   service|0.025315104460972654|\n",
            "|20663735|     loses|0.010928070907598992|\n",
            "|20663735|     learn|0.010318293133933112|\n",
            "|20663735|  actually|0.009364165576282753|\n",
            "|20663735|    passes| 0.02423095828553944|\n",
            "+--------+----------+--------------------+\n",
            "only showing top 20 rows\n",
            "\n",
            "None\n",
            "+--------+-------------------+\n",
            "|movie_id|             d_norm|\n",
            "+--------+-------------------+\n",
            "|31509403|  1.325402162184458|\n",
            "|  950245| 0.6127262477606619|\n",
            "|32560165|  0.701605982517246|\n",
            "| 4738713| 0.5436370381168028|\n",
            "| 1338396| 0.6479251247667264|\n",
            "|29128744| 0.7900647611723337|\n",
            "| 1891471|  0.266988451791126|\n",
            "|18004913| 0.8292083534718491|\n",
            "|10910275| 0.7253075489845854|\n",
            "| 2056635| 0.6749746375938038|\n",
            "|32894969| 1.1136231278406885|\n",
            "|19062975| 0.7411488220171698|\n",
            "|  657824| 0.6579254979678192|\n",
            "| 2383581| 0.8238255495221942|\n",
            "|18849298| 0.8011580184406468|\n",
            "|31477549| 0.8331242198549937|\n",
            "|23382222| 1.0786963377921739|\n",
            "| 2205675|0.46334391358788884|\n",
            "|17182332| 0.6683036302688793|\n",
            "|31710893| 0.6575703855222728|\n",
            "+--------+-------------------+\n",
            "only showing top 20 rows\n",
            "\n",
            "None\n"
          ]
        }
      ]
    },
    {
      "cell_type": "code",
      "source": [
        "def run_multi_df(query, top_k=10):\n",
        "    #print(idf_map)\n",
        "    # keep only words that exist in your vocabulary\n",
        "    q_tokens = [w for w in tokenize(query) if w in idf_map]\n",
        "    if not q_tokens:\n",
        "        return spark.createDataFrame([], \"movie_name string, score double\")\n",
        "    #print(q_tokens)\n",
        "\n",
        "    # ----- normalize TF by length of query -----\n",
        "    tf_q = Counter(q_tokens)\n",
        "    #print(tf_q)\n",
        "    q_len = float(sum(tf_q.values()))\n",
        "    #print(q_len)\n",
        "\n",
        "    # weight = (tf/|q|) * idf   (no log TF here; match your doc-length normalization style)\n",
        "    q_weights = [(w, (tf_q[w] / q_len) * idf_map[w]) for w in tf_q]\n",
        "    #print(q_weights)\n",
        "    # tiny query DF to join on \"word\"\n",
        "    q_df = spark.createDataFrame(q_weights, [\"word\", \"q_w\"])\n",
        "\n",
        "    # numerator = sum_w (q_w * d_w) per doc\n",
        "    numer_df = (tfidf_df.join(q_df, on=\"word\", how=\"inner\")\n",
        "                        .withColumn(\"prod\", F.col(\"tfidf\") * F.col(\"q_w\"))\n",
        "                        .groupBy(\"movie_id\")\n",
        "                        .agg(F.sum(\"prod\").alias(\"numerator\")))\n",
        "    #print(numer_df.show(5))\n",
        "    # ranking is identical to true cosine since q_norm is a query-constant factor.\n",
        "    scored = (numer_df.join(doc_norm_df, on=\"movie_id\", how=\"inner\")\n",
        "                      .filter(F.col(\"d_norm\") > 0)\n",
        "                      .withColumn(\"score\", F.col(\"numerator\") / F.col(\"d_norm\"))  # no sqrt for q_norm\n",
        "                      .join(movie_names_df, on=\"movie_id\", how=\"left\")\n",
        "                      .select(\"movie_name\", \"score\")\n",
        "                      .orderBy(F.col(\"score\").desc())\n",
        "                      .limit(top_k))\n",
        "    return scored"
      ],
      "metadata": {
        "id": "izVzlNMnGRko"
      },
      "execution_count": 28,
      "outputs": []
    },
    {
      "cell_type": "code",
      "source": [
        "with open(\"/content/MovieSummaries/queries.text\", \"r\", encoding=\"utf-8\") as f:\n",
        "    lines = [ln.strip() for ln in f if ln.strip()]\n",
        "\n",
        "for line in lines:\n",
        "    if len(tokenize(line)) == 1:\n",
        "        print(f\"Best match for query word {line}\")\n",
        "        top_docs_for_word_with_name(line.lower(), 10).show(truncate=False)\n",
        "    else:\n",
        "        print(f\"Best match for query sentence '{line}'\")\n",
        "        run_multi_df(line.lower(), top_k=10).show(truncate=False)\n"
      ],
      "metadata": {
        "colab": {
          "base_uri": "https://localhost:8080/"
        },
        "id": "VpZYCRUKcLwx",
        "outputId": "2a5ffa9b-8929-4d96-b919-61beff9c5070"
      },
      "execution_count": 32,
      "outputs": [
        {
          "output_type": "stream",
          "name": "stdout",
          "text": [
            "Best match for query word Drama\n",
            "+------------------------------------+\n",
            "|movie_name                          |\n",
            "+------------------------------------+\n",
            "|Bhakta Prahlada                     |\n",
            "|Intellectual Property               |\n",
            "|Johnny Tiger                        |\n",
            "|Sameera                             |\n",
            "|Guests Who Arrived on the Last Train|\n",
            "|Mango Soufflé                       |\n",
            "|Prince Daewon                       |\n",
            "|Kismet                              |\n",
            "|The Eternal Empire                  |\n",
            "|Nanga Parbat                        |\n",
            "+------------------------------------+\n",
            "\n",
            "Best match for query word Romance\n",
            "+--------------------+\n",
            "|movie_name          |\n",
            "+--------------------+\n",
            "|That Dangerous Age  |\n",
            "|L'Amour             |\n",
            "|Ranmuthu Duwa       |\n",
            "|Lovers and Liars    |\n",
            "|Moment by Moment    |\n",
            "|Hollywood Dreams    |\n",
            "|The Butler's in Love|\n",
            "|Yeh Dil Aap Ka Huwa |\n",
            "|Raakh               |\n",
            "|Coming Back         |\n",
            "+--------------------+\n",
            "\n",
            "Best match for query sentence 'Give me the best thriller'\n",
            "+------------------------+-------------------+\n",
            "|movie_name              |score              |\n",
            "+------------------------+-------------------+\n",
            "|Tiger                   |0.7951119423592781 |\n",
            "|Ashokavana              |0.6981667215535159 |\n",
            "|Cracker Jack            |0.6308421328404631 |\n",
            "|Khwab                   |0.6157119562011621 |\n",
            "|The Melancholy Fantastic|0.49668371027388825|\n",
            "|Among the Living        |0.48528658263929453|\n",
            "|KGB: The Secret War     |0.46338537283801423|\n",
            "|Kranti Kshetra          |0.4561063727031477 |\n",
            "|Naidu LLB               |0.45007058433960406|\n",
            "|Dhuaan                  |0.4462474799725924 |\n",
            "+------------------------+-------------------+\n",
            "\n"
          ]
        }
      ]
    }
  ]
}