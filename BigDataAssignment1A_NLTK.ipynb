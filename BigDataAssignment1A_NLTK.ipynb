{
  "nbformat": 4,
  "nbformat_minor": 0,
  "metadata": {
    "colab": {
      "provenance": [],
      "authorship_tag": "ABX9TyNWydxxUs+xFvbDUhHcjTdE",
      "include_colab_link": true
    },
    "kernelspec": {
      "name": "python3",
      "display_name": "Python 3"
    },
    "language_info": {
      "name": "python"
    }
  },
  "cells": [
    {
      "cell_type": "markdown",
      "metadata": {
        "id": "view-in-github",
        "colab_type": "text"
      },
      "source": [
        "<a href=\"https://colab.research.google.com/github/sridhartroy/AIML/blob/main/BigDataAssignment1A_NLTK.ipynb\" target=\"_parent\"><img src=\"https://colab.research.google.com/assets/colab-badge.svg\" alt=\"Open In Colab\"/></a>"
      ]
    },
    {
      "cell_type": "code",
      "execution_count": 1,
      "metadata": {
        "id": "v__11tWGGJwG"
      },
      "outputs": [],
      "source": [
        "from urllib.request import urlopen\n",
        "import re, nltk\n",
        "from nltk.tree import Tree"
      ]
    },
    {
      "cell_type": "code",
      "source": [
        "url = \"https://www.gutenberg.org/ebooks/2641.txt.utf-8\"  # Dostoevsky - The Idiot\n",
        "raw = urlopen(url).read().decode(\"utf-8\", errors=\"ignore\")"
      ],
      "metadata": {
        "id": "lWh9qTs3GSRu"
      },
      "execution_count": null,
      "outputs": []
    },
    {
      "cell_type": "code",
      "source": [
        "start = re.search(r\"\\*\\*\\* START OF(.*)\\*\\*\\*\", raw)\n",
        "end   = re.search(r\"\\*\\*\\* END OF(.*)\\*\\*\\*\", raw)\n",
        "text  = raw[start.end():end.start()] if start and end else raw"
      ],
      "metadata": {
        "id": "Ngly6-dwGaKd"
      },
      "execution_count": null,
      "outputs": []
    },
    {
      "cell_type": "code",
      "source": [
        "nltk.download(\"punkt_tab\", quiet=True)\n",
        "sents = nltk.sent_tokenize(text)"
      ],
      "metadata": {
        "id": "VmdkR_p7G4sp"
      },
      "execution_count": null,
      "outputs": []
    },
    {
      "cell_type": "code",
      "source": [
        "len(sents)"
      ],
      "metadata": {
        "colab": {
          "base_uri": "https://localhost:8080/"
        },
        "id": "8M-73ORNbZHq",
        "outputId": "b2240cd7-995a-4ec5-dc9b-22f4b346a826"
      },
      "execution_count": null,
      "outputs": [
        {
          "output_type": "execute_result",
          "data": {
            "text/plain": [
              "4335"
            ]
          },
          "metadata": {},
          "execution_count": 15
        }
      ]
    },
    {
      "cell_type": "code",
      "source": [
        "!pip -q install pyspark"
      ],
      "metadata": {
        "id": "_KHPuJFIHAK1"
      },
      "execution_count": null,
      "outputs": []
    },
    {
      "cell_type": "code",
      "source": [
        "from pyspark.sql import SparkSession\n",
        "\n",
        "# Start a session (uses local[*] by default in Colab)\n",
        "spark = SparkSession.builder.appName(\"colab-spark\").getOrCreate()\n",
        "sc = spark.sparkContext"
      ],
      "metadata": {
        "id": "o_VzlMawHsh_"
      },
      "execution_count": null,
      "outputs": []
    },
    {
      "cell_type": "code",
      "source": [
        "# parallelize the sentences in 8 partitions\n",
        "rdd = sc.parallelize(sents, numSlices=8)"
      ],
      "metadata": {
        "id": "GY3smydnIDBP"
      },
      "execution_count": null,
      "outputs": []
    },
    {
      "cell_type": "code",
      "source": [
        "print(\"No. of sentences -->\")\n",
        "rdd.count()"
      ],
      "metadata": {
        "colab": {
          "base_uri": "https://localhost:8080/"
        },
        "id": "1PmGPQr1b0Zt",
        "outputId": "cdb48efb-b6cf-4087-e794-406ce2c6b055"
      },
      "execution_count": null,
      "outputs": [
        {
          "output_type": "stream",
          "name": "stdout",
          "text": [
            "No. of sentences -->\n"
          ]
        },
        {
          "output_type": "execute_result",
          "data": {
            "text/plain": [
              "4335"
            ]
          },
          "metadata": {},
          "execution_count": 35
        }
      ]
    },
    {
      "cell_type": "code",
      "source": [
        "print(\"No. of sentences partition wise -->\")\n",
        "rdd.glom().map(len).collect()\n"
      ],
      "metadata": {
        "colab": {
          "base_uri": "https://localhost:8080/"
        },
        "id": "MzjCgYXucLnM",
        "outputId": "69449d85-5d1f-4c1e-f77b-3876e12e1969"
      },
      "execution_count": null,
      "outputs": [
        {
          "output_type": "stream",
          "name": "stdout",
          "text": [
            "No. of sentences partition wise -->\n"
          ]
        },
        {
          "output_type": "execute_result",
          "data": {
            "text/plain": [
              "[541, 541, 541, 541, 541, 541, 541, 548]"
            ]
          },
          "metadata": {},
          "execution_count": 37
        }
      ]
    },
    {
      "cell_type": "code",
      "source": [
        "def ents_in_partition(iter_sents):\n",
        "    import nltk\n",
        "    from nltk.tree import Tree\n",
        "    for sent in iter_sents:                # iterate sentences in this partition (streaming)\n",
        "        tokens = nltk.word_tokenize(sent)  # word tokens\n",
        "        pos = nltk.pos_tag(tokens)         # POS tags (NNP, VBD, etc.)\n",
        "        tree = nltk.ne_chunk(pos, binary=False)  # NER chunk tree with labels like PERSON/GPE\n",
        "        for subtree in tree:               # top-level children of the chunk tree\n",
        "            if isinstance(subtree, Tree):  # only take named-entity spans (skip plain tokens)\n",
        "                label = subtree.label()    # e.g., PERSON / ORGANIZATION / GPE\n",
        "                text = \" \".join(tok for tok, _ in subtree.leaves())  #\n",
        "                yield (label, text)        # stream one record per entity"
      ],
      "metadata": {
        "id": "FTG-h6mmIa7a"
      },
      "execution_count": null,
      "outputs": []
    },
    {
      "cell_type": "code",
      "source": [
        "ents_rdd = rdd.mapPartitions(ents_in_partition)  # RDD[(label, text)]"
      ],
      "metadata": {
        "id": "wyjPdLrfKWLJ"
      },
      "execution_count": null,
      "outputs": []
    },
    {
      "cell_type": "code",
      "source": [
        "tagged = rdd.mapPartitionsWithIndex(\n",
        "    lambda pid, it: ((pid, label, text) for (label, text) in ents_in_partition(it))\n",
        ")\n",
        "\n",
        "tagged.take(5)   # -> [(pid, label, text), ...]"
      ],
      "metadata": {
        "colab": {
          "base_uri": "https://localhost:8080/"
        },
        "id": "63xr8irBh5L9",
        "outputId": "d4a58a95-ee33-41e3-a7d8-87a49896a405"
      },
      "execution_count": null,
      "outputs": [
        {
          "output_type": "execute_result",
          "data": {
            "text/plain": [
              "[(0, 'ORGANIZATION', 'CONTENTS Part One'),\n",
              " (0, 'ORGANIZATION', 'Bertolini'),\n",
              " (0, 'GPE', 'Santa'),\n",
              " (0, 'ORGANIZATION', 'No Baedeker'),\n",
              " (0, 'GPE', 'Music')]"
            ]
          },
          "metadata": {},
          "execution_count": 47
        }
      ]
    },
    {
      "cell_type": "code",
      "source": [
        "nltk.download('averaged_perceptron_tagger_eng')\n",
        "nltk.download('maxent_ne_chunker_tab')\n",
        "nltk.download('words')\n",
        "ents_rdd.take(5)"
      ],
      "metadata": {
        "colab": {
          "base_uri": "https://localhost:8080/"
        },
        "id": "Hckxdoo_K1Zh",
        "outputId": "855a2761-02a2-440a-8fac-7f53b47e5e9c"
      },
      "execution_count": null,
      "outputs": [
        {
          "output_type": "stream",
          "name": "stderr",
          "text": [
            "[nltk_data] Downloading package averaged_perceptron_tagger_eng to\n",
            "[nltk_data]     /root/nltk_data...\n",
            "[nltk_data]   Unzipping taggers/averaged_perceptron_tagger_eng.zip.\n",
            "[nltk_data] Downloading package maxent_ne_chunker_tab to\n",
            "[nltk_data]     /root/nltk_data...\n",
            "[nltk_data]   Unzipping chunkers/maxent_ne_chunker_tab.zip.\n",
            "[nltk_data] Downloading package words to /root/nltk_data...\n",
            "[nltk_data]   Unzipping corpora/words.zip.\n"
          ]
        },
        {
          "output_type": "execute_result",
          "data": {
            "text/plain": [
              "[('ORGANIZATION', 'CONTENTS Part One'),\n",
              " ('ORGANIZATION', 'Bertolini'),\n",
              " ('GPE', 'Santa'),\n",
              " ('ORGANIZATION', 'No Baedeker'),\n",
              " ('GPE', 'Music')]"
            ]
          },
          "metadata": {},
          "execution_count": 41
        }
      ]
    },
    {
      "cell_type": "code",
      "source": [
        "counts = (ents_rdd\n",
        "          .map(lambda x: (x, 1))                     # ((label, text), 1)\n",
        "          .reduceByKey(lambda a, b: a + b)           # ((label, text), total)\n",
        "          .map(lambda kv: (kv[0][0], kv[0][1], kv[1]))  # (type, text, count)\n",
        ")"
      ],
      "metadata": {
        "id": "KM01ADNaL1AK"
      },
      "execution_count": null,
      "outputs": []
    },
    {
      "cell_type": "code",
      "source": [
        "ents_rdd.take(5)"
      ],
      "metadata": {
        "colab": {
          "base_uri": "https://localhost:8080/"
        },
        "id": "7ZnGPuVIjPz-",
        "outputId": "d4949015-8efd-49a6-e1b9-413d5eabc66a"
      },
      "execution_count": null,
      "outputs": [
        {
          "output_type": "execute_result",
          "data": {
            "text/plain": [
              "[('ORGANIZATION', 'CONTENTS Part One'),\n",
              " ('ORGANIZATION', 'Bertolini'),\n",
              " ('GPE', 'Santa'),\n",
              " ('ORGANIZATION', 'No Baedeker'),\n",
              " ('GPE', 'Music')]"
            ]
          },
          "metadata": {},
          "execution_count": 49
        }
      ]
    },
    {
      "cell_type": "code",
      "source": [
        "ents_rdd1=ents_rdd.map(lambda x:(x,1))\n",
        "ents_rdd1.take(5)"
      ],
      "metadata": {
        "colab": {
          "base_uri": "https://localhost:8080/"
        },
        "id": "jZMs3BPzjo0q",
        "outputId": "ec52519b-d39d-4004-d88f-803270c4dde0"
      },
      "execution_count": null,
      "outputs": [
        {
          "output_type": "execute_result",
          "data": {
            "text/plain": [
              "[(('ORGANIZATION', 'CONTENTS Part One'), 1),\n",
              " (('ORGANIZATION', 'Bertolini'), 1),\n",
              " (('GPE', 'Santa'), 1),\n",
              " (('ORGANIZATION', 'No Baedeker'), 1),\n",
              " (('GPE', 'Music'), 1)]"
            ]
          },
          "metadata": {},
          "execution_count": 53
        }
      ]
    },
    {
      "cell_type": "code",
      "source": [
        "ents_rdd2 = ents_rdd1.reduceByKey(lambda a,b : a+b)\n",
        "ents_rdd2.take(5)"
      ],
      "metadata": {
        "colab": {
          "base_uri": "https://localhost:8080/"
        },
        "id": "8_ZykO9Oj_57",
        "outputId": "2875fb34-9d93-4ca8-b78c-657836f14a7b"
      },
      "execution_count": null,
      "outputs": [
        {
          "output_type": "execute_result",
          "data": {
            "text/plain": [
              "[(('ORGANIZATION', 'Reverend Cuthbert Eager'), 2),\n",
              " (('PERSON', 'Miss Eleanor Lavish'), 2),\n",
              " (('GPE', 'Carriages'), 2),\n",
              " (('PERSON', 'Chapter'), 12),\n",
              " (('PERSON', 'Chapter IX'), 1)]"
            ]
          },
          "metadata": {},
          "execution_count": 54
        }
      ]
    },
    {
      "cell_type": "code",
      "source": [
        "ents_rdd3 = ents_rdd2.map(lambda kv: (kv[0][0], kv[0][1], kv[1]))\n",
        "ents_rdd3.take(5)"
      ],
      "metadata": {
        "colab": {
          "base_uri": "https://localhost:8080/"
        },
        "id": "S69HjfQGrVqS",
        "outputId": "8be46c1b-27a4-4141-ea8f-16797ba17796"
      },
      "execution_count": null,
      "outputs": [
        {
          "output_type": "execute_result",
          "data": {
            "text/plain": [
              "[('ORGANIZATION', 'Reverend Cuthbert Eager', 2),\n",
              " ('PERSON', 'Miss Eleanor Lavish', 2),\n",
              " ('GPE', 'Carriages', 2),\n",
              " ('PERSON', 'Chapter', 12),\n",
              " ('PERSON', 'Chapter IX', 1)]"
            ]
          },
          "metadata": {},
          "execution_count": 57
        }
      ]
    },
    {
      "cell_type": "code",
      "source": [
        "df = counts.toDF([\"type\", \"text\", \"count\"]).orderBy(\"count\", ascending=False)\n",
        "df.show(30, truncate=False)"
      ],
      "metadata": {
        "colab": {
          "base_uri": "https://localhost:8080/"
        },
        "id": "1T7bqGuxLRVq",
        "outputId": "4214afcc-d938-45ca-9c86-761c7206a3f1"
      },
      "execution_count": null,
      "outputs": [
        {
          "output_type": "stream",
          "name": "stdout",
          "text": [
            "+------------+----------------+-----+\n",
            "|type        |text            |count|\n",
            "+------------+----------------+-----+\n",
            "|PERSON      |Lucy            |351  |\n",
            "|PERSON      |Cecil           |189  |\n",
            "|PERSON      |Mr. Beebe       |142  |\n",
            "|PERSON      |Miss Bartlett   |138  |\n",
            "|PERSON      |George          |108  |\n",
            "|PERSON      |Mr. Emerson     |71   |\n",
            "|PERSON      |Charlotte       |67   |\n",
            "|PERSON      |Mr.             |65   |\n",
            "|GPE         |Freddy          |64   |\n",
            "|PERSON      |Miss Lavish     |60   |\n",
            "|GPE         |Lucy            |58   |\n",
            "|PERSON      |Freddy          |57   |\n",
            "|GPE         |Italy           |48   |\n",
            "|PERSON      |Miss            |45   |\n",
            "|PERSON      |Bartlett        |44   |\n",
            "|GPE         |Florence        |41   |\n",
            "|PERSON      |Miss Honeychurch|37   |\n",
            "|GPE         |Cecil           |34   |\n",
            "|ORGANIZATION|Miss Alans      |30   |\n",
            "|PERSON      |Beebe           |28   |\n",
            "|GPE         |Eager           |27   |\n",
            "|GPE         |Greece          |27   |\n",
            "|PERSON      |Eager           |26   |\n",
            "|PERSON      |Windy Corner    |24   |\n",
            "|PERSON      |Mr. Vyse        |24   |\n",
            "|GPE         |London          |23   |\n",
            "|PERSON      |Emerson         |22   |\n",
            "|GPE         |Beebe           |21   |\n",
            "|GPE         |Italian         |20   |\n",
            "|PERSON      |Minnie          |19   |\n",
            "+------------+----------------+-----+\n",
            "only showing top 30 rows\n",
            "\n"
          ]
        }
      ]
    }
  ]
}