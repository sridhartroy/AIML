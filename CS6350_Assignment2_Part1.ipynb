{
  "cells": [
    {
      "cell_type": "markdown",
      "metadata": {
        "id": "view-in-github",
        "colab_type": "text"
      },
      "source": [
        "<a href=\"https://colab.research.google.com/github/sridhartroy/AIML/blob/main/CS6350_Assignment2_Part1.ipynb\" target=\"_parent\"><img src=\"https://colab.research.google.com/assets/colab-badge.svg\" alt=\"Open In Colab\"/></a>"
      ]
    },
    {
      "cell_type": "code",
      "execution_count": null,
      "id": "e64bcc9c",
      "metadata": {
        "id": "e64bcc9c",
        "outputId": "9feeae84-8cc1-49ab-abb4-9a4335fa3724"
      },
      "outputs": [
        {
          "name": "stderr",
          "output_type": "stream",
          "text": [
            "WARNING: Using incubator modules: jdk.incubator.vector\n",
            "Using Spark's default log4j profile: org/apache/spark/log4j2-defaults.properties\n",
            "Setting default log level to \"WARN\".\n",
            "To adjust logging level use sc.setLogLevel(newLevel). For SparkR, use setLogLevel(newLevel).\n",
            "25/10/26 19:54:48 WARN NativeCodeLoader: Unable to load native-hadoop library for your platform... using builtin-java classes where applicable\n"
          ]
        }
      ],
      "source": [
        "from pyspark import SparkContext\n",
        "import random\n",
        "\n",
        "# Initialize SparkContext\n",
        "sc = SparkContext.getOrCreate()"
      ]
    },
    {
      "cell_type": "code",
      "execution_count": null,
      "id": "5b9245bc",
      "metadata": {
        "id": "5b9245bc",
        "outputId": "35062848-954b-443a-eb01-b93634b2c5be"
      },
      "outputs": [
        {
          "name": "stdout",
          "output_type": "stream",
          "text": [
            "--2025-10-26 19:54:52--  https://an-ml.s3.us-west-1.amazonaws.com/soc-LiveJournal1Adj.txt\n",
            "Resolving an-ml.s3.us-west-1.amazonaws.com (an-ml.s3.us-west-1.amazonaws.com)... 52.219.194.114, 16.15.4.75, 16.15.0.18, ...\n",
            "Connecting to an-ml.s3.us-west-1.amazonaws.com (an-ml.s3.us-west-1.amazonaws.com)|52.219.194.114|:443... connected.\n",
            "HTTP request sent, awaiting response... 200 OK\n",
            "Length: 4156181 (4.0M) [text/plain]\n",
            "Saving to: ‘friends_part1.txt’\n",
            "\n",
            "friends_part1.txt   100%[===================>]   3.96M  7.71MB/s    in 0.5s    \n",
            "\n",
            "2025-10-26 19:54:52 (7.71 MB/s) - ‘friends_part1.txt’ saved [4156181/4156181]\n",
            "\n"
          ]
        }
      ],
      "source": [
        "#Download the data from the url above and create an RDD called friends\n",
        "!wget https://an-ml.s3.us-west-1.amazonaws.com/soc-LiveJournal1Adj.txt -O friends_part1.txt"
      ]
    },
    {
      "cell_type": "code",
      "execution_count": null,
      "id": "b5562575",
      "metadata": {
        "id": "b5562575",
        "outputId": "798ae71e-bbb5-4fc0-e6da-a23dd85c5bd0"
      },
      "outputs": [
        {
          "name": "stdout",
          "output_type": "stream",
          "text": [
            "Sample user-friends data:\n"
          ]
        },
        {
          "name": "stderr",
          "output_type": "stream",
          "text": [
            "[Stage 0:>                                                          (0 + 1) / 1]\r"
          ]
        },
        {
          "name": "stdout",
          "output_type": "stream",
          "text": [
            "User 0: Friends {1, 2, 3, 4, 5, 6, 7, 8, 9, 10, 11, 12, 13, 14, 15, 16, 17, 18, 19, 20, 21, 22, 23, 24, 25, 26, 27, 28, 29, 30, 31, 32, 33, 34, 35, 36, 37, 38, 39, 40, 41, 42, 43, 44, 45, 46, 47, 48, 49, 50, 51, 52, 53, 54, 55, 56, 57, 58, 59, 60, 61, 62, 63, 64, 65, 66, 67, 68, 69, 70, 71, 72, 73, 74, 75, 76, 77, 78, 79, 80, 81, 82, 83, 84, 85, 86, 87, 88, 89, 90, 91, 92, 93, 94}\n",
            "User 1: Friends {0, 31232, 29826, 35589, 5, 135, 4999, 34439, 8715, 6156, 13840, 19217, 27536, 34450, 20, 13845, 35605, 35606, 22939, 29724, 35613, 29726, 28193, 33060, 14248, 29481, 12846, 44846, 35633, 30257, 21556, 14005, 43447, 49592, 12347, 32317, 35648, 49985, 29767, 49226, 31435, 34250, 38737, 15190, 44887, 13912, 34392, 34394, 34651, 35678, 29791, 23520, 30691, 8932, 17636, 34406, 34280, 2409, 32489, 20075, 20074, 623, 34418, 34420, 629, 45054, 10623}\n",
            "User 2: Friends {0, 2755, 1220, 12453, 13795, 135, 49927, 24714, 6893, 41456, 16659, 117, 45046, 41878, 24539, 32828}\n",
            "User 3: Friends {0, 13185, 27552, 41, 12, 1532, 38737, 55, 12636}\n",
            "User 4: Friends {0, 19079, 8, 38792, 14, 15, 18, 24596, 27, 38822, 46126, 72, 42697, 74, 77, 80, 15326, 33269, 19068}\n",
            "User 5: Friends {0, 1, 31140, 2022, 23527, 49574, 44846, 30257, 35633, 41457, 20, 32503, 22939, 32828, 43262}\n",
            "User 6: Friends {0, 18560, 18311, 12682, 18320, 38800, 21, 2203, 18332, 25247, 543, 3238, 5040, 15283, 33080, 15294, 575, 35776, 18625, 20553, 35785, 38736, 17874, 8795, 38750, 14943, 98, 11879, 34412, 18286, 35822, 9843, 35699, 9847, 42231}\n",
            "User 7: Friends {0, 1357, 40433, 21843, 31993, 40218}\n",
            "User 8: Friends {0, 33380, 4, 38, 72, 24777, 46, 83, 85}\n",
            "User 9: Friends {0, 18972, 6085, 19269}\n"
          ]
        },
        {
          "name": "stderr",
          "output_type": "stream",
          "text": [
            "                                                                                \r"
          ]
        }
      ],
      "source": [
        "# Read the friends data using Spark Context\n",
        "friends_file = sc.textFile(\"friends_part1.txt\")\n",
        "\n",
        "# Parse the data into (user, set_of_friends) format\n",
        "# Remove any users that have no friends listed\n",
        "user_friends = friends_file.map(lambda line: line.split('\\t')) \\\n",
        "                    .filter(lambda x: len(x) == 2 and x[1].strip() != '') \\\n",
        "                    .map(lambda x: (int(x[0]), set(map(int, x[1].split(',')))))\n",
        "\n",
        "# Print sample data\n",
        "print(\"Sample user-friends data:\")\n",
        "for user, friends in user_friends.take(10):\n",
        "    print(f\"User {user}: Friends {friends}\")"
      ]
    },
    {
      "cell_type": "code",
      "execution_count": null,
      "id": "6cbdd371",
      "metadata": {
        "id": "6cbdd371"
      },
      "outputs": [],
      "source": [
        "# Create a function to generate mutual friend pairs, given a user and their list of friends\n",
        "# The key is the pair of friends, and the value is 1 (indicating one mutual friend)\n",
        "def generate_mutual_friend_pairs(user, friends):\n",
        "    pairs = []\n",
        "    for f1 in friends:\n",
        "        for f2 in friends:\n",
        "            if f1 != f2:\n",
        "                pairs.append(((f1, f2), 1))\n",
        "    return pairs"
      ]
    },
    {
      "cell_type": "code",
      "execution_count": null,
      "id": "0e25f491",
      "metadata": {
        "id": "0e25f491",
        "outputId": "9aec5681-a478-494c-d675-2cc7bc866360"
      },
      "outputs": [
        {
          "name": "stdout",
          "output_type": "stream",
          "text": [
            "Subset of mutual friend pairs:\n",
            "[(1, 2): 1]\n",
            "[(1, 3): 1]\n",
            "[(1, 4): 1]\n",
            "[(1, 5): 1]\n",
            "[(1, 6): 1]\n",
            "[(1, 7): 1]\n",
            "[(1, 8): 1]\n",
            "[(1, 9): 1]\n",
            "[(1, 10): 1]\n",
            "[(1, 11): 1]\n"
          ]
        }
      ],
      "source": [
        "# Use the generated function to create an RDD of mutual friend pairs with an appended 1\n",
        "# Then use a flatmap to flatten the list of pairs\n",
        "mutual_friends = user_friends.flatMap(lambda x: generate_mutual_friend_pairs(x[0], x[1]))\n",
        "\n",
        "# Print a subset of mutual friend pairs\n",
        "print(\"Subset of mutual friend pairs:\")\n",
        "for pair, count in mutual_friends.take(10):\n",
        "    print(f\"[{pair}: {count}]\")"
      ]
    },
    {
      "cell_type": "code",
      "execution_count": null,
      "id": "5b1f5934",
      "metadata": {
        "id": "5b1f5934"
      },
      "outputs": [],
      "source": [
        "# Use the reduceByKey transformation to count mutual friends for each pair\n",
        "# This count will serve as the recommendation score\n",
        "mutual_scores = mutual_friends.reduceByKey(lambda x, y: x + y)\n",
        "\n",
        "# Print subset of mutual friend counts\n",
        "#print(\"Subset of mutuals and scores\")\n",
        "#for pair, count in mutual_scores.take(10):\n",
        "    #print(f\"[{pair}: {count}]\")"
      ]
    },
    {
      "cell_type": "code",
      "execution_count": null,
      "id": "885ca4c2",
      "metadata": {
        "id": "885ca4c2"
      },
      "outputs": [],
      "source": [
        "# Create an RDD of existing friendships to filter out\n",
        "existing_friendships = user_friends.flatMap(lambda x: [(x[0], friend) for friend in x[1]])\n",
        "\n",
        "# Print subset existing friendships\n",
        "#print(\"Subset of existing friendships:\")\n",
        "#for user, friend in existing_friendships.take(10):\n",
        "#    print(f\"({user}, {friend})\")"
      ]
    },
    {
      "cell_type": "code",
      "execution_count": null,
      "id": "18a0545e",
      "metadata": {
        "id": "18a0545e"
      },
      "outputs": [],
      "source": [
        "# Make the key as a tuple of the friend pair and value as None\n",
        "# This will help in filtering out existing friends later\n",
        "existing_friend_set = existing_friendships.map(lambda x: ((x[0], x[1]), None))\n",
        "\n",
        "# Print new RDD with pairs as key\n",
        "#print(\"Subset existing friend pairs:\")\n",
        "#for pair, _ in existing_friend_set.take(10):\n",
        "#    print(f\"[{pair}, {_}]\")"
      ]
    },
    {
      "cell_type": "code",
      "execution_count": null,
      "id": "e0ec76df",
      "metadata": {
        "id": "e0ec76df"
      },
      "outputs": [],
      "source": [
        "# Filter out existing friends from potential recommendations\n",
        "# Use subtractByKey to remove existing friendships from mutual scores\n",
        "# This will leave only potential new friend recommendations\n",
        "# Output is ((user1, user2), mutual_score)\n",
        "potential_recommendations = mutual_scores.subtractByKey(existing_friend_set)\n",
        "\n",
        "# Print subset potential recommendations\n",
        "#print(\"Subset of potential recommendations:\")\n",
        "#for pair, count in potential_recommendations.take(20):\n",
        "#    print(f\"({pair} {count})\")"
      ]
    },
    {
      "cell_type": "code",
      "execution_count": null,
      "id": "5aa65cbc",
      "metadata": {
        "id": "5aa65cbc"
      },
      "outputs": [],
      "source": [
        "# Initila RDD is ((user1, user2), mutual_score)\n",
        "# Format the recommendations as (user, (recommended_friend, mutual_score))\n",
        "recommendations = potential_recommendations.map(lambda x: (x[0][0], (x[0][1], x[1])))\n",
        "\n",
        "# Print Subset friend recommendations for users\n",
        "#print(\"Subset friend recommendations:\")\n",
        "#for user, rec in recommendations.take(20):\n",
        "#    print(f\"User {user}: Recommendation {rec}\")"
      ]
    },
    {
      "cell_type": "code",
      "execution_count": null,
      "id": "2fc7e54d",
      "metadata": {
        "id": "2fc7e54d"
      },
      "outputs": [],
      "source": [
        "# Get top 10 recommendations for each user\n",
        "# Group the recommendations by user\n",
        "# Using mapValues, sort the recommendations in decsending order of mutual score and take the top ten\n",
        "# From the resulting list, use mapValues to extract only the recommended user IDs as strings in an array\n",
        "# Output is (user, [recommended_user1, recommended_user2, ..., recommended_user10])\n",
        "top_recommendations = recommendations.groupByKey() \\\n",
        "    .mapValues(lambda recs: sorted(recs, key=lambda x: -x[1])[:10]) \\\n",
        "    .mapValues(lambda recs: [str(user_id) for user_id, count in recs]).cache()"
      ]
    },
    {
      "cell_type": "code",
      "execution_count": null,
      "id": "b80781e5",
      "metadata": {
        "id": "b80781e5",
        "outputId": "e97d7e5d-2d6d-4bb5-da3d-275efc611c0c"
      },
      "outputs": [
        {
          "name": "stderr",
          "output_type": "stream",
          "text": [
            "[Stage 5:>                                                          (0 + 4) / 4]\r"
          ]
        },
        {
          "name": "stdout",
          "output_type": "stream",
          "text": [
            "Sample top recommendations for 10 users:\n",
            "33155\t11743,11714,33306,6523,7352,24498,11746,37883,33135,11723\n",
            "47804\t42897,17489,31024,11863,15757,45992,18848,43016,36659,20846\n",
            "47117\t47054,47124,47125,47157,47086,47047,47087,47043,47128,47044\n",
            "24491\t20869,24482,24475,24487,6935,24495,24483,24479,24480,24488\n",
            "17326\t40172,17324,17292,17300,17296,17308,17312,17304,17316,12160\n",
            "15592\t15550,15538,15498,15542,15566,15546,15562,15558,15574,15582\n",
            "35259\t35199,35212,35243,35183,35239,35255,35184,35228,35236,35260\n",
            "17045\t17073,12313,17058,9362,15130,17059,551,23380,11244,5225\n",
            "43075\t12351,8671,40455,4439,8695,37955,24595,8635,7847,40443\n",
            "2800\t2798,2814,2826,2806,2830,2822,2786,2790,2794,2802\n"
          ]
        },
        {
          "name": "stderr",
          "output_type": "stream",
          "text": [
            "                                                                                \r"
          ]
        }
      ],
      "source": [
        "# Get a sample of 10 users and their top recommendations\n",
        "sample_users = top_recommendations.takeSample(False, 10)\n",
        "\n",
        "print(\"Sample top recommendations for 10 users:\")\n",
        "for user, recs in sample_users:\n",
        "    print(f\"{user}\\t{','.join(recs)}\")"
      ]
    }
  ],
  "metadata": {
    "kernelspec": {
      "display_name": "Python 3",
      "language": "python",
      "name": "python3"
    },
    "language_info": {
      "codemirror_mode": {
        "name": "ipython",
        "version": 3
      },
      "file_extension": ".py",
      "mimetype": "text/x-python",
      "name": "python",
      "nbconvert_exporter": "python",
      "pygments_lexer": "ipython3",
      "version": "3.13.5"
    },
    "colab": {
      "provenance": [],
      "include_colab_link": true
    }
  },
  "nbformat": 4,
  "nbformat_minor": 5
}